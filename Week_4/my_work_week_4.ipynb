{
 "cells": [
  {
   "cell_type": "markdown",
   "metadata": {},
   "source": [
    "# 4. Evaluation Metrics for Classification\n",
    "\n",
    "In the previous session we trained a model for predicting churn. How do we know if it's good?\n"
   ]
  },
  {
   "cell_type": "code",
   "execution_count": 83,
   "metadata": {},
   "outputs": [],
   "source": [
    "# Import libraries\n",
    "import numpy as np\n",
    "import pandas as pd\n",
    "import matplotlib.pyplot as plt"
   ]
  },
  {
   "cell_type": "code",
   "execution_count": 84,
   "metadata": {},
   "outputs": [],
   "source": [
    "# Import libraries for building model\n",
    "from sklearn.model_selection import train_test_split\n",
    "from sklearn.linear_model import LogisticRegression\n",
    "from sklearn.feature_extraction import DictVectorizer"
   ]
  },
  {
   "cell_type": "code",
   "execution_count": 85,
   "metadata": {},
   "outputs": [],
   "source": [
    "# Load dataset\n",
    "df_car = pd.read_csv(\"../database/churn.csv\")"
   ]
  },
  {
   "cell_type": "code",
   "execution_count": 86,
   "metadata": {},
   "outputs": [],
   "source": [
    "df_car.columns = df_car.columns.str.lower().str.replace(\" \", \"_\")"
   ]
  },
  {
   "cell_type": "code",
   "execution_count": 87,
   "metadata": {},
   "outputs": [],
   "source": [
    "categorical_col = list(df_car.select_dtypes(include=[\"object\"]))\n",
    "numerical_col = list(df_car.select_dtypes(exclude=[\"object\"]))"
   ]
  },
  {
   "cell_type": "code",
   "execution_count": 88,
   "metadata": {},
   "outputs": [
    {
     "data": {
      "text/plain": [
       "['customerid',\n",
       " 'gender',\n",
       " 'partner',\n",
       " 'dependents',\n",
       " 'phoneservice',\n",
       " 'multiplelines',\n",
       " 'internetservice',\n",
       " 'onlinesecurity',\n",
       " 'onlinebackup',\n",
       " 'deviceprotection',\n",
       " 'techsupport',\n",
       " 'streamingtv',\n",
       " 'streamingmovies',\n",
       " 'contract',\n",
       " 'paperlessbilling',\n",
       " 'paymentmethod',\n",
       " 'totalcharges',\n",
       " 'churn']"
      ]
     },
     "execution_count": 88,
     "metadata": {},
     "output_type": "execute_result"
    }
   ],
   "source": [
    "categorical_col"
   ]
  },
  {
   "cell_type": "code",
   "execution_count": 89,
   "metadata": {},
   "outputs": [],
   "source": [
    "# totalcharges column need to be nummerical\n",
    "df_car[\"totalcharges\"] = pd.to_numeric(df_car[\"totalcharges\"], errors=\"coerce\")"
   ]
  },
  {
   "cell_type": "code",
   "execution_count": 90,
   "metadata": {},
   "outputs": [],
   "source": [
    "df_car.totalcharges.fillna(0, inplace=True)"
   ]
  },
  {
   "cell_type": "code",
   "execution_count": 91,
   "metadata": {},
   "outputs": [
    {
     "data": {
      "text/plain": [
       "['customerid',\n",
       " 'gender',\n",
       " 'partner',\n",
       " 'dependents',\n",
       " 'phoneservice',\n",
       " 'multiplelines',\n",
       " 'internetservice',\n",
       " 'onlinesecurity',\n",
       " 'onlinebackup',\n",
       " 'deviceprotection',\n",
       " 'techsupport',\n",
       " 'streamingtv',\n",
       " 'streamingmovies',\n",
       " 'contract',\n",
       " 'paperlessbilling',\n",
       " 'paymentmethod',\n",
       " 'churn']"
      ]
     },
     "execution_count": 91,
     "metadata": {},
     "output_type": "execute_result"
    }
   ],
   "source": [
    "categorical_col.remove(\"totalcharges\")\n",
    "categorical_col"
   ]
  },
  {
   "cell_type": "code",
   "execution_count": 92,
   "metadata": {},
   "outputs": [],
   "source": [
    "numerical_col.append(\"totalcharges\")"
   ]
  },
  {
   "cell_type": "code",
   "execution_count": 93,
   "metadata": {},
   "outputs": [],
   "source": [
    "# Normalize categorical columns\n",
    "for col in categorical_col:\n",
    "    df_car[col] = df_car[col].str.lower().str.replace(\" \", \"_\")"
   ]
  },
  {
   "cell_type": "code",
   "execution_count": 94,
   "metadata": {},
   "outputs": [],
   "source": [
    "# Convert churn column to True and False\n",
    "df_car.churn = df_car.churn.apply(lambda x: True if x == \"yes\" else False)"
   ]
  },
  {
   "cell_type": "code",
   "execution_count": 95,
   "metadata": {},
   "outputs": [],
   "source": [
    "# Split dataset\n",
    "df_train_full, df_test = train_test_split(df_car, test_size=0.2, random_state=1)\n",
    "df_train, df_val = train_test_split(df_train_full, test_size=0.25, random_state=1)\n",
    "\n",
    "df_train = df_train.reset_index(drop=True)\n",
    "df_val = df_val.reset_index(drop=True)\n",
    "df_test = df_test.reset_index(drop=True)\n",
    "\n",
    "y_train = df_train.churn\n",
    "y_val = df_val.churn\n",
    "y_test =df_test.churn\n",
    "\n",
    "\n",
    "del df_train[\"churn\"] # df_train.drop(columns=[\"churn\"], axis=1, inplace=True)\n",
    "del df_val[\"churn\"]\n",
    "del df_test[\"churn\"]"
   ]
  },
  {
   "cell_type": "code",
   "execution_count": 96,
   "metadata": {},
   "outputs": [
    {
     "name": "stdout",
     "output_type": "stream",
     "text": [
      "<class 'pandas.core.frame.DataFrame'>\n",
      "RangeIndex: 4225 entries, 0 to 4224\n",
      "Data columns (total 20 columns):\n",
      " #   Column            Non-Null Count  Dtype  \n",
      "---  ------            --------------  -----  \n",
      " 0   customerid        4225 non-null   object \n",
      " 1   gender            4225 non-null   object \n",
      " 2   seniorcitizen     4225 non-null   int64  \n",
      " 3   partner           4225 non-null   object \n",
      " 4   dependents        4225 non-null   object \n",
      " 5   tenure            4225 non-null   int64  \n",
      " 6   phoneservice      4225 non-null   object \n",
      " 7   multiplelines     4225 non-null   object \n",
      " 8   internetservice   4225 non-null   object \n",
      " 9   onlinesecurity    4225 non-null   object \n",
      " 10  onlinebackup      4225 non-null   object \n",
      " 11  deviceprotection  4225 non-null   object \n",
      " 12  techsupport       4225 non-null   object \n",
      " 13  streamingtv       4225 non-null   object \n",
      " 14  streamingmovies   4225 non-null   object \n",
      " 15  contract          4225 non-null   object \n",
      " 16  paperlessbilling  4225 non-null   object \n",
      " 17  paymentmethod     4225 non-null   object \n",
      " 18  monthlycharges    4225 non-null   float64\n",
      " 19  totalcharges      4225 non-null   float64\n",
      "dtypes: float64(2), int64(2), object(16)\n",
      "memory usage: 660.3+ KB\n"
     ]
    }
   ],
   "source": [
    "df_train.info()"
   ]
  },
  {
   "cell_type": "code",
   "execution_count": 97,
   "metadata": {},
   "outputs": [
    {
     "data": {
      "text/plain": [
       "['seniorcitizen', 'tenure', 'monthlycharges', 'totalcharges']"
      ]
     },
     "execution_count": 97,
     "metadata": {},
     "output_type": "execute_result"
    }
   ],
   "source": [
    "numerical_col"
   ]
  },
  {
   "cell_type": "code",
   "execution_count": 98,
   "metadata": {},
   "outputs": [
    {
     "data": {
      "text/plain": [
       "['customerid',\n",
       " 'gender',\n",
       " 'partner',\n",
       " 'dependents',\n",
       " 'phoneservice',\n",
       " 'multiplelines',\n",
       " 'internetservice',\n",
       " 'onlinesecurity',\n",
       " 'onlinebackup',\n",
       " 'deviceprotection',\n",
       " 'techsupport',\n",
       " 'streamingtv',\n",
       " 'streamingmovies',\n",
       " 'contract',\n",
       " 'paperlessbilling',\n",
       " 'paymentmethod',\n",
       " 'churn']"
      ]
     },
     "execution_count": 98,
     "metadata": {},
     "output_type": "execute_result"
    }
   ],
   "source": [
    "categorical_col"
   ]
  },
  {
   "cell_type": "code",
   "execution_count": 99,
   "metadata": {},
   "outputs": [],
   "source": [
    "# Encode catergorical variables\n",
    "categorical_col.remove(\"churn\")\n",
    "dv = DictVectorizer()"
   ]
  },
  {
   "cell_type": "code",
   "execution_count": 100,
   "metadata": {},
   "outputs": [],
   "source": [
    "categorical_col.remove(\"customerid\")"
   ]
  },
  {
   "cell_type": "code",
   "execution_count": 101,
   "metadata": {},
   "outputs": [],
   "source": [
    "dict_train = df_train[categorical_col+numerical_col].to_dict(orient=\"records\")"
   ]
  },
  {
   "cell_type": "code",
   "execution_count": 102,
   "metadata": {},
   "outputs": [
    {
     "data": {
      "text/plain": [
       "['gender',\n",
       " 'partner',\n",
       " 'dependents',\n",
       " 'phoneservice',\n",
       " 'multiplelines',\n",
       " 'internetservice',\n",
       " 'onlinesecurity',\n",
       " 'onlinebackup',\n",
       " 'deviceprotection',\n",
       " 'techsupport',\n",
       " 'streamingtv',\n",
       " 'streamingmovies',\n",
       " 'contract',\n",
       " 'paperlessbilling',\n",
       " 'paymentmethod']"
      ]
     },
     "execution_count": 102,
     "metadata": {},
     "output_type": "execute_result"
    }
   ],
   "source": [
    "categorical_col"
   ]
  },
  {
   "cell_type": "code",
   "execution_count": 103,
   "metadata": {},
   "outputs": [],
   "source": [
    "dv.fit(dict_train)\n",
    "X_train = dv.transform(dict_train)"
   ]
  },
  {
   "cell_type": "code",
   "execution_count": 104,
   "metadata": {},
   "outputs": [
    {
     "data": {
      "text/plain": [
       "['contract=month-to-month',\n",
       " 'contract=one_year',\n",
       " 'contract=two_year',\n",
       " 'dependents=no',\n",
       " 'dependents=yes',\n",
       " 'deviceprotection=no',\n",
       " 'deviceprotection=no_internet_service',\n",
       " 'deviceprotection=yes',\n",
       " 'gender=female',\n",
       " 'gender=male',\n",
       " 'internetservice=dsl',\n",
       " 'internetservice=fiber_optic',\n",
       " 'internetservice=no',\n",
       " 'monthlycharges',\n",
       " 'multiplelines=no',\n",
       " 'multiplelines=no_phone_service',\n",
       " 'multiplelines=yes',\n",
       " 'onlinebackup=no',\n",
       " 'onlinebackup=no_internet_service',\n",
       " 'onlinebackup=yes',\n",
       " 'onlinesecurity=no',\n",
       " 'onlinesecurity=no_internet_service',\n",
       " 'onlinesecurity=yes',\n",
       " 'paperlessbilling=no',\n",
       " 'paperlessbilling=yes',\n",
       " 'partner=no',\n",
       " 'partner=yes',\n",
       " 'paymentmethod=bank_transfer_(automatic)',\n",
       " 'paymentmethod=credit_card_(automatic)',\n",
       " 'paymentmethod=electronic_check',\n",
       " 'paymentmethod=mailed_check',\n",
       " 'phoneservice=no',\n",
       " 'phoneservice=yes',\n",
       " 'seniorcitizen',\n",
       " 'streamingmovies=no',\n",
       " 'streamingmovies=no_internet_service',\n",
       " 'streamingmovies=yes',\n",
       " 'streamingtv=no',\n",
       " 'streamingtv=no_internet_service',\n",
       " 'streamingtv=yes',\n",
       " 'techsupport=no',\n",
       " 'techsupport=no_internet_service',\n",
       " 'techsupport=yes',\n",
       " 'tenure',\n",
       " 'totalcharges']"
      ]
     },
     "execution_count": 104,
     "metadata": {},
     "output_type": "execute_result"
    }
   ],
   "source": [
    "dv.feature_names_"
   ]
  },
  {
   "cell_type": "code",
   "execution_count": 105,
   "metadata": {},
   "outputs": [
    {
     "name": "stderr",
     "output_type": "stream",
     "text": [
      "d:\\Anacoda3\\lib\\site-packages\\sklearn\\linear_model\\_logistic.py:444: ConvergenceWarning: lbfgs failed to converge (status=1):\n",
      "STOP: TOTAL NO. of ITERATIONS REACHED LIMIT.\n",
      "\n",
      "Increase the number of iterations (max_iter) or scale the data as shown in:\n",
      "    https://scikit-learn.org/stable/modules/preprocessing.html\n",
      "Please also refer to the documentation for alternative solver options:\n",
      "    https://scikit-learn.org/stable/modules/linear_model.html#logistic-regression\n",
      "  n_iter_i = _check_optimize_result(\n"
     ]
    },
    {
     "data": {
      "text/html": [
       "<style>#sk-container-id-1 {color: black;background-color: white;}#sk-container-id-1 pre{padding: 0;}#sk-container-id-1 div.sk-toggleable {background-color: white;}#sk-container-id-1 label.sk-toggleable__label {cursor: pointer;display: block;width: 100%;margin-bottom: 0;padding: 0.3em;box-sizing: border-box;text-align: center;}#sk-container-id-1 label.sk-toggleable__label-arrow:before {content: \"▸\";float: left;margin-right: 0.25em;color: #696969;}#sk-container-id-1 label.sk-toggleable__label-arrow:hover:before {color: black;}#sk-container-id-1 div.sk-estimator:hover label.sk-toggleable__label-arrow:before {color: black;}#sk-container-id-1 div.sk-toggleable__content {max-height: 0;max-width: 0;overflow: hidden;text-align: left;background-color: #f0f8ff;}#sk-container-id-1 div.sk-toggleable__content pre {margin: 0.2em;color: black;border-radius: 0.25em;background-color: #f0f8ff;}#sk-container-id-1 input.sk-toggleable__control:checked~div.sk-toggleable__content {max-height: 200px;max-width: 100%;overflow: auto;}#sk-container-id-1 input.sk-toggleable__control:checked~label.sk-toggleable__label-arrow:before {content: \"▾\";}#sk-container-id-1 div.sk-estimator input.sk-toggleable__control:checked~label.sk-toggleable__label {background-color: #d4ebff;}#sk-container-id-1 div.sk-label input.sk-toggleable__control:checked~label.sk-toggleable__label {background-color: #d4ebff;}#sk-container-id-1 input.sk-hidden--visually {border: 0;clip: rect(1px 1px 1px 1px);clip: rect(1px, 1px, 1px, 1px);height: 1px;margin: -1px;overflow: hidden;padding: 0;position: absolute;width: 1px;}#sk-container-id-1 div.sk-estimator {font-family: monospace;background-color: #f0f8ff;border: 1px dotted black;border-radius: 0.25em;box-sizing: border-box;margin-bottom: 0.5em;}#sk-container-id-1 div.sk-estimator:hover {background-color: #d4ebff;}#sk-container-id-1 div.sk-parallel-item::after {content: \"\";width: 100%;border-bottom: 1px solid gray;flex-grow: 1;}#sk-container-id-1 div.sk-label:hover label.sk-toggleable__label {background-color: #d4ebff;}#sk-container-id-1 div.sk-serial::before {content: \"\";position: absolute;border-left: 1px solid gray;box-sizing: border-box;top: 0;bottom: 0;left: 50%;z-index: 0;}#sk-container-id-1 div.sk-serial {display: flex;flex-direction: column;align-items: center;background-color: white;padding-right: 0.2em;padding-left: 0.2em;position: relative;}#sk-container-id-1 div.sk-item {position: relative;z-index: 1;}#sk-container-id-1 div.sk-parallel {display: flex;align-items: stretch;justify-content: center;background-color: white;position: relative;}#sk-container-id-1 div.sk-item::before, #sk-container-id-1 div.sk-parallel-item::before {content: \"\";position: absolute;border-left: 1px solid gray;box-sizing: border-box;top: 0;bottom: 0;left: 50%;z-index: -1;}#sk-container-id-1 div.sk-parallel-item {display: flex;flex-direction: column;z-index: 1;position: relative;background-color: white;}#sk-container-id-1 div.sk-parallel-item:first-child::after {align-self: flex-end;width: 50%;}#sk-container-id-1 div.sk-parallel-item:last-child::after {align-self: flex-start;width: 50%;}#sk-container-id-1 div.sk-parallel-item:only-child::after {width: 0;}#sk-container-id-1 div.sk-dashed-wrapped {border: 1px dashed gray;margin: 0 0.4em 0.5em 0.4em;box-sizing: border-box;padding-bottom: 0.4em;background-color: white;}#sk-container-id-1 div.sk-label label {font-family: monospace;font-weight: bold;display: inline-block;line-height: 1.2em;}#sk-container-id-1 div.sk-label-container {text-align: center;}#sk-container-id-1 div.sk-container {/* jupyter's `normalize.less` sets `[hidden] { display: none; }` but bootstrap.min.css set `[hidden] { display: none !important; }` so we also need the `!important` here to be able to override the default hidden behavior on the sphinx rendered scikit-learn.org. See: https://github.com/scikit-learn/scikit-learn/issues/21755 */display: inline-block !important;position: relative;}#sk-container-id-1 div.sk-text-repr-fallback {display: none;}</style><div id=\"sk-container-id-1\" class=\"sk-top-container\"><div class=\"sk-text-repr-fallback\"><pre>LogisticRegression()</pre><b>In a Jupyter environment, please rerun this cell to show the HTML representation or trust the notebook. <br />On GitHub, the HTML representation is unable to render, please try loading this page with nbviewer.org.</b></div><div class=\"sk-container\" hidden><div class=\"sk-item\"><div class=\"sk-estimator sk-toggleable\"><input class=\"sk-toggleable__control sk-hidden--visually\" id=\"sk-estimator-id-1\" type=\"checkbox\" checked><label for=\"sk-estimator-id-1\" class=\"sk-toggleable__label sk-toggleable__label-arrow\">LogisticRegression</label><div class=\"sk-toggleable__content\"><pre>LogisticRegression()</pre></div></div></div></div></div>"
      ],
      "text/plain": [
       "LogisticRegression()"
      ]
     },
     "execution_count": 105,
     "metadata": {},
     "output_type": "execute_result"
    }
   ],
   "source": [
    "# Model\n",
    "model = LogisticRegression()\n",
    "model.fit(X_train, y_train)"
   ]
  },
  {
   "cell_type": "code",
   "execution_count": 106,
   "metadata": {},
   "outputs": [
    {
     "data": {
      "text/plain": [
       "0.8054437869822485"
      ]
     },
     "execution_count": 106,
     "metadata": {},
     "output_type": "execute_result"
    }
   ],
   "source": [
    "# Score on training set\n",
    "model.score(X_train, y_train)"
   ]
  },
  {
   "cell_type": "code",
   "execution_count": 113,
   "metadata": {},
   "outputs": [
    {
     "data": {
      "text/plain": [
       "array([[ 4.72130525e-01, -1.74089107e-01, -4.06051491e-01,\n",
       "        -3.01838813e-02, -7.78261922e-02,  6.28293651e-02,\n",
       "        -8.99052168e-02, -8.09342218e-02, -3.44528232e-02,\n",
       "        -7.35572503e-02, -3.33341443e-01,  3.15236586e-01,\n",
       "        -8.99052168e-02,  3.72183038e-03, -2.58132276e-01,\n",
       "         1.41034594e-01,  9.08760879e-03,  6.26331281e-02,\n",
       "        -8.99052168e-02, -8.07379847e-02,  2.64680518e-01,\n",
       "        -8.99052168e-02, -2.82785375e-01, -2.30999492e-01,\n",
       "         1.22989418e-01, -1.65963045e-01,  5.79529719e-02,\n",
       "        -8.66614456e-02, -3.19509493e-02,  7.02644522e-02,\n",
       "        -5.96621308e-02,  1.41034594e-01, -2.49044668e-01,\n",
       "         2.14525129e-01, -1.19332974e-01, -8.99052168e-02,\n",
       "         1.01228117e-01, -7.01130418e-02, -8.99052168e-02,\n",
       "         5.20081852e-02,  2.12728215e-01, -8.99052168e-02,\n",
       "        -2.30833072e-01, -7.03611827e-02,  3.81593772e-04]])"
      ]
     },
     "execution_count": 113,
     "metadata": {},
     "output_type": "execute_result"
    }
   ],
   "source": [
    "model.coef_"
   ]
  },
  {
   "cell_type": "code",
   "execution_count": 108,
   "metadata": {},
   "outputs": [
    {
     "data": {
      "text/plain": [
       "['contract=month-to-month',\n",
       " 'contract=one_year',\n",
       " 'contract=two_year',\n",
       " 'dependents=no',\n",
       " 'dependents=yes',\n",
       " 'deviceprotection=no',\n",
       " 'deviceprotection=no_internet_service',\n",
       " 'deviceprotection=yes',\n",
       " 'gender=female',\n",
       " 'gender=male',\n",
       " 'internetservice=dsl',\n",
       " 'internetservice=fiber_optic',\n",
       " 'internetservice=no',\n",
       " 'monthlycharges',\n",
       " 'multiplelines=no',\n",
       " 'multiplelines=no_phone_service',\n",
       " 'multiplelines=yes',\n",
       " 'onlinebackup=no',\n",
       " 'onlinebackup=no_internet_service',\n",
       " 'onlinebackup=yes',\n",
       " 'onlinesecurity=no',\n",
       " 'onlinesecurity=no_internet_service',\n",
       " 'onlinesecurity=yes',\n",
       " 'paperlessbilling=no',\n",
       " 'paperlessbilling=yes',\n",
       " 'partner=no',\n",
       " 'partner=yes',\n",
       " 'paymentmethod=bank_transfer_(automatic)',\n",
       " 'paymentmethod=credit_card_(automatic)',\n",
       " 'paymentmethod=electronic_check',\n",
       " 'paymentmethod=mailed_check',\n",
       " 'phoneservice=no',\n",
       " 'phoneservice=yes',\n",
       " 'seniorcitizen',\n",
       " 'streamingmovies=no',\n",
       " 'streamingmovies=no_internet_service',\n",
       " 'streamingmovies=yes',\n",
       " 'streamingtv=no',\n",
       " 'streamingtv=no_internet_service',\n",
       " 'streamingtv=yes',\n",
       " 'techsupport=no',\n",
       " 'techsupport=no_internet_service',\n",
       " 'techsupport=yes',\n",
       " 'tenure',\n",
       " 'totalcharges']"
      ]
     },
     "execution_count": 108,
     "metadata": {},
     "output_type": "execute_result"
    }
   ],
   "source": [
    "dv.feature_names_"
   ]
  },
  {
   "cell_type": "code",
   "execution_count": 116,
   "metadata": {},
   "outputs": [
    {
     "name": "stdout",
     "output_type": "stream",
     "text": [
      "contract=month-to-month 0.4721\n",
      "contract=one_year -0.1741\n",
      "contract=two_year -0.4061\n",
      "dependents=no -0.0302\n",
      "dependents=yes -0.0778\n",
      "deviceprotection=no 0.0628\n",
      "deviceprotection=no_internet_service -0.0899\n",
      "deviceprotection=yes -0.0809\n",
      "gender=female -0.0345\n",
      "gender=male -0.0736\n",
      "internetservice=dsl -0.3333\n",
      "internetservice=fiber_optic 0.3152\n",
      "internetservice=no -0.0899\n",
      "monthlycharges 0.0037\n",
      "multiplelines=no -0.2581\n",
      "multiplelines=no_phone_service 0.141\n",
      "multiplelines=yes 0.0091\n",
      "onlinebackup=no 0.0626\n",
      "onlinebackup=no_internet_service -0.0899\n",
      "onlinebackup=yes -0.0807\n",
      "onlinesecurity=no 0.2647\n",
      "onlinesecurity=no_internet_service -0.0899\n",
      "onlinesecurity=yes -0.2828\n",
      "paperlessbilling=no -0.231\n",
      "paperlessbilling=yes 0.123\n",
      "partner=no -0.166\n",
      "partner=yes 0.058\n",
      "paymentmethod=bank_transfer_(automatic) -0.0867\n",
      "paymentmethod=credit_card_(automatic) -0.032\n",
      "paymentmethod=electronic_check 0.0703\n",
      "paymentmethod=mailed_check -0.0597\n",
      "phoneservice=no 0.141\n",
      "phoneservice=yes -0.249\n",
      "seniorcitizen 0.2145\n",
      "streamingmovies=no -0.1193\n",
      "streamingmovies=no_internet_service -0.0899\n",
      "streamingmovies=yes 0.1012\n",
      "streamingtv=no -0.0701\n",
      "streamingtv=no_internet_service -0.0899\n",
      "streamingtv=yes 0.052\n",
      "techsupport=no 0.2127\n",
      "techsupport=no_internet_service -0.0899\n",
      "techsupport=yes -0.2308\n",
      "tenure -0.0704\n",
      "totalcharges 0.0004\n"
     ]
    }
   ],
   "source": [
    "for feat, coef in zip(dv.feature_names_, model.coef_[0,:]):\n",
    "    print(feat, round(coef, 4))"
   ]
  },
  {
   "cell_type": "code",
   "execution_count": 118,
   "metadata": {},
   "outputs": [],
   "source": [
    "dict_test = df_test.to_dict(orient=\"records\")\n",
    "X_test = dv.transform(dict_test)"
   ]
  },
  {
   "cell_type": "code",
   "execution_count": 119,
   "metadata": {},
   "outputs": [
    {
     "data": {
      "text/plain": [
       "0.8090844570617459"
      ]
     },
     "execution_count": 119,
     "metadata": {},
     "output_type": "execute_result"
    }
   ],
   "source": [
    "model.score(X_test, y_test)"
   ]
  },
  {
   "cell_type": "code",
   "execution_count": 120,
   "metadata": {},
   "outputs": [
    {
     "data": {
      "text/plain": [
       "0.8034066713981547"
      ]
     },
     "execution_count": 120,
     "metadata": {},
     "output_type": "execute_result"
    }
   ],
   "source": [
    "dict_val = df_val.to_dict(orient=\"records\")\n",
    "X_val = dv.transform(dict_val)\n",
    "model.score(X_val, y_val)"
   ]
  },
  {
   "cell_type": "markdown",
   "metadata": {},
   "source": [
    "## 4.2 Accuracy and dummy model"
   ]
  },
  {
   "cell_type": "code",
   "execution_count": 122,
   "metadata": {},
   "outputs": [],
   "source": [
    "from sklearn.metrics import accuracy_score\n",
    "from collections import Counter"
   ]
  },
  {
   "cell_type": "code",
   "execution_count": 136,
   "metadata": {},
   "outputs": [],
   "source": [
    "thresholds = np.linspace(0, 1, 21)"
   ]
  },
  {
   "cell_type": "code",
   "execution_count": 132,
   "metadata": {},
   "outputs": [],
   "source": [
    "y_train_pred = model.predict_proba(X_train)[:, 1]"
   ]
  },
  {
   "cell_type": "code",
   "execution_count": 134,
   "metadata": {},
   "outputs": [
    {
     "data": {
      "text/plain": [
       "0.8054437869822485"
      ]
     },
     "execution_count": 134,
     "metadata": {},
     "output_type": "execute_result"
    }
   ],
   "source": [
    "(y_train == (y_train_pred>0.5)).mean()"
   ]
  },
  {
   "cell_type": "code",
   "execution_count": 143,
   "metadata": {},
   "outputs": [
    {
     "name": "stdout",
     "output_type": "stream",
     "text": [
      "0.00 0.269\n",
      "0.05 0.503\n",
      "0.10 0.596\n",
      "0.15 0.656\n",
      "0.20 0.697\n",
      "0.25 0.739\n",
      "0.30 0.764\n",
      "0.35 0.780\n",
      "0.40 0.794\n",
      "0.45 0.800\n",
      "0.50 0.805\n",
      "0.55 0.804\n",
      "0.60 0.794\n",
      "0.65 0.783\n",
      "0.70 0.771\n",
      "0.75 0.748\n",
      "0.80 0.735\n",
      "0.85 0.732\n",
      "0.90 0.731\n",
      "0.95 0.731\n",
      "1.00 0.731\n"
     ]
    }
   ],
   "source": [
    "acc = []\n",
    "\n",
    "for element in thresholds:\n",
    "    acc.append(accuracy_score(y_train, (y_train_pred>element)))\n",
    "\n",
    "for thres, value in zip(thresholds, acc):\n",
    "    print('%.2f %.3f' % (round(thres,2), round(value, 3)))"
   ]
  },
  {
   "cell_type": "code",
   "execution_count": 138,
   "metadata": {},
   "outputs": [
    {
     "data": {
      "text/plain": [
       "[<matplotlib.lines.Line2D at 0x1ab83719a90>]"
      ]
     },
     "execution_count": 138,
     "metadata": {},
     "output_type": "execute_result"
    },
    {
     "data": {
      "image/png": "[encoded data removed]",
      "text/plain": [
       "<Figure size 432x288 with 1 Axes>"
      ]
     },
     "metadata": {
      "needs_background": "light"
     },
     "output_type": "display_data"
    }
   ],
   "source": [
    "plt.plot(thresholds, acc)"
   ]
  },
  {
   "cell_type": "markdown",
   "metadata": {},
   "source": [
    "## 4.3 Confusion table"
   ]
  },
  {
   "cell_type": "code",
   "execution_count": null,
   "metadata": {},
   "outputs": [],
   "source": []
  }
 ],
 "metadata": {
  "kernelspec": {
   "display_name": "base",
   "language": "python",
   "name": "python3"
  },
  "language_info": {
   "codemirror_mode": {
    "name": "ipython",
    "version": 3
   },
   "file_extension": ".py",
   "mimetype": "text/x-python",
   "name": "python",
   "nbconvert_exporter": "python",
   "pygments_lexer": "ipython3",
   "version": "3.9.12"
  },
  "orig_nbformat": 4
 },
 "nbformat": 4,
 "nbformat_minor": 2
}
