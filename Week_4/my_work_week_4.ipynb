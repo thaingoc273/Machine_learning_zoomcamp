{
 "cells": [
  {
   "cell_type": "markdown",
   "metadata": {},
   "source": [
    "# 4. Evaluation Metrics for Classification\n",
    "\n",
    "In the previous session we trained a model for predicting churn. How do we know if it's good?\n"
   ]
  },
  {
   "cell_type": "code",
   "execution_count": 83,
   "metadata": {},
   "outputs": [],
   "source": [
    "# Import libraries\n",
    "import numpy as np\n",
    "import pandas as pd\n",
    "import matplotlib.pyplot as plt"
   ]
  },
  {
   "cell_type": "code",
   "execution_count": 84,
   "metadata": {},
   "outputs": [],
   "source": [
    "# Import libraries for building model\n",
    "from sklearn.model_selection import train_test_split\n",
    "from sklearn.linear_model import LogisticRegression\n",
    "from sklearn.feature_extraction import DictVectorizer"
   ]
  },
  {
   "cell_type": "code",
   "execution_count": 85,
   "metadata": {},
   "outputs": [],
   "source": [
    "# Load dataset\n",
    "df_car = pd.read_csv(\"../database/churn.csv\")"
   ]
  },
  {
   "cell_type": "code",
   "execution_count": 86,
   "metadata": {},
   "outputs": [],
   "source": [
    "df_car.columns = df_car.columns.str.lower().str.replace(\" \", \"_\")"
   ]
  },
  {
   "cell_type": "code",
   "execution_count": 87,
   "metadata": {},
   "outputs": [],
   "source": [
    "categorical_col = list(df_car.select_dtypes(include=[\"object\"]))\n",
    "numerical_col = list(df_car.select_dtypes(exclude=[\"object\"]))"
   ]
  },
  {
   "cell_type": "code",
   "execution_count": 88,
   "metadata": {},
   "outputs": [
    {
     "data": {
      "text/plain": [
       "['customerid',\n",
       " 'gender',\n",
       " 'partner',\n",
       " 'dependents',\n",
       " 'phoneservice',\n",
       " 'multiplelines',\n",
       " 'internetservice',\n",
       " 'onlinesecurity',\n",
       " 'onlinebackup',\n",
       " 'deviceprotection',\n",
       " 'techsupport',\n",
       " 'streamingtv',\n",
       " 'streamingmovies',\n",
       " 'contract',\n",
       " 'paperlessbilling',\n",
       " 'paymentmethod',\n",
       " 'totalcharges',\n",
       " 'churn']"
      ]
     },
     "execution_count": 88,
     "metadata": {},
     "output_type": "execute_result"
    }
   ],
   "source": [
    "categorical_col"
   ]
  },
  {
   "cell_type": "code",
   "execution_count": 89,
   "metadata": {},
   "outputs": [],
   "source": [
    "# totalcharges column need to be nummerical\n",
    "df_car[\"totalcharges\"] = pd.to_numeric(df_car[\"totalcharges\"], errors=\"coerce\")"
   ]
  },
  {
   "cell_type": "code",
   "execution_count": 90,
   "metadata": {},
   "outputs": [],
   "source": [
    "df_car.totalcharges.fillna(0, inplace=True)"
   ]
  },
  {
   "cell_type": "code",
   "execution_count": 91,
   "metadata": {},
   "outputs": [
    {
     "data": {
      "text/plain": [
       "['customerid',\n",
       " 'gender',\n",
       " 'partner',\n",
       " 'dependents',\n",
       " 'phoneservice',\n",
       " 'multiplelines',\n",
       " 'internetservice',\n",
       " 'onlinesecurity',\n",
       " 'onlinebackup',\n",
       " 'deviceprotection',\n",
       " 'techsupport',\n",
       " 'streamingtv',\n",
       " 'streamingmovies',\n",
       " 'contract',\n",
       " 'paperlessbilling',\n",
       " 'paymentmethod',\n",
       " 'churn']"
      ]
     },
     "execution_count": 91,
     "metadata": {},
     "output_type": "execute_result"
    }
   ],
   "source": [
    "categorical_col.remove(\"totalcharges\")\n",
    "categorical_col"
   ]
  },
  {
   "cell_type": "code",
   "execution_count": 92,
   "metadata": {},
   "outputs": [],
   "source": [
    "numerical_col.append(\"totalcharges\")"
   ]
  },
  {
   "cell_type": "code",
   "execution_count": 93,
   "metadata": {},
   "outputs": [],
   "source": [
    "# Normalize categorical columns\n",
    "for col in categorical_col:\n",
    "    df_car[col] = df_car[col].str.lower().str.replace(\" \", \"_\")"
   ]
  },
  {
   "cell_type": "code",
   "execution_count": 94,
   "metadata": {},
   "outputs": [],
   "source": [
    "# Convert churn column to True and False\n",
    "df_car.churn = df_car.churn.apply(lambda x: True if x == \"yes\" else False)"
   ]
  },
  {
   "cell_type": "code",
   "execution_count": 95,
   "metadata": {},
   "outputs": [],
   "source": [
    "# Split dataset\n",
    "df_train_full, df_test = train_test_split(df_car, test_size=0.2, random_state=1)\n",
    "df_train, df_val = train_test_split(df_train_full, test_size=0.25, random_state=1)\n",
    "\n",
    "df_train = df_train.reset_index(drop=True)\n",
    "df_val = df_val.reset_index(drop=True)\n",
    "df_test = df_test.reset_index(drop=True)\n",
    "\n",
    "y_train = df_train.churn\n",
    "y_val = df_val.churn\n",
    "y_test =df_test.churn\n",
    "\n",
    "\n",
    "del df_train[\"churn\"] # df_train.drop(columns=[\"churn\"], axis=1, inplace=True)\n",
    "del df_val[\"churn\"]\n",
    "del df_test[\"churn\"]"
   ]
  },
  {
   "cell_type": "code",
   "execution_count": 96,
   "metadata": {},
   "outputs": [
    {
     "name": "stdout",
     "output_type": "stream",
     "text": [
      "<class 'pandas.core.frame.DataFrame'>\n",
      "RangeIndex: 4225 entries, 0 to 4224\n",
      "Data columns (total 20 columns):\n",
      " #   Column            Non-Null Count  Dtype  \n",
      "---  ------            --------------  -----  \n",
      " 0   customerid        4225 non-null   object \n",
      " 1   gender            4225 non-null   object \n",
      " 2   seniorcitizen     4225 non-null   int64  \n",
      " 3   partner           4225 non-null   object \n",
      " 4   dependents        4225 non-null   object \n",
      " 5   tenure            4225 non-null   int64  \n",
      " 6   phoneservice      4225 non-null   object \n",
      " 7   multiplelines     4225 non-null   object \n",
      " 8   internetservice   4225 non-null   object \n",
      " 9   onlinesecurity    4225 non-null   object \n",
      " 10  onlinebackup      4225 non-null   object \n",
      " 11  deviceprotection  4225 non-null   object \n",
      " 12  techsupport       4225 non-null   object \n",
      " 13  streamingtv       4225 non-null   object \n",
      " 14  streamingmovies   4225 non-null   object \n",
      " 15  contract          4225 non-null   object \n",
      " 16  paperlessbilling  4225 non-null   object \n",
      " 17  paymentmethod     4225 non-null   object \n",
      " 18  monthlycharges    4225 non-null   float64\n",
      " 19  totalcharges      4225 non-null   float64\n",
      "dtypes: float64(2), int64(2), object(16)\n",
      "memory usage: 660.3+ KB\n"
     ]
    }
   ],
   "source": [
    "df_train.info()"
   ]
  },
  {
   "cell_type": "code",
   "execution_count": 97,
   "metadata": {},
   "outputs": [
    {
     "data": {
      "text/plain": [
       "['seniorcitizen', 'tenure', 'monthlycharges', 'totalcharges']"
      ]
     },
     "execution_count": 97,
     "metadata": {},
     "output_type": "execute_result"
    }
   ],
   "source": [
    "numerical_col"
   ]
  },
  {
   "cell_type": "code",
   "execution_count": 98,
   "metadata": {},
   "outputs": [
    {
     "data": {
      "text/plain": [
       "['customerid',\n",
       " 'gender',\n",
       " 'partner',\n",
       " 'dependents',\n",
       " 'phoneservice',\n",
       " 'multiplelines',\n",
       " 'internetservice',\n",
       " 'onlinesecurity',\n",
       " 'onlinebackup',\n",
       " 'deviceprotection',\n",
       " 'techsupport',\n",
       " 'streamingtv',\n",
       " 'streamingmovies',\n",
       " 'contract',\n",
       " 'paperlessbilling',\n",
       " 'paymentmethod',\n",
       " 'churn']"
      ]
     },
     "execution_count": 98,
     "metadata": {},
     "output_type": "execute_result"
    }
   ],
   "source": [
    "categorical_col"
   ]
  },
  {
   "cell_type": "code",
   "execution_count": 99,
   "metadata": {},
   "outputs": [],
   "source": [
    "# Encode catergorical variables\n",
    "categorical_col.remove(\"churn\")\n",
    "dv = DictVectorizer()"
   ]
  },
  {
   "cell_type": "code",
   "execution_count": 100,
   "metadata": {},
   "outputs": [],
   "source": [
    "categorical_col.remove(\"customerid\")"
   ]
  },
  {
   "cell_type": "code",
   "execution_count": 101,
   "metadata": {},
   "outputs": [],
   "source": [
    "dict_train = df_train[categorical_col+numerical_col].to_dict(orient=\"records\")"
   ]
  },
  {
   "cell_type": "code",
   "execution_count": 102,
   "metadata": {},
   "outputs": [
    {
     "data": {
      "text/plain": [
       "['gender',\n",
       " 'partner',\n",
       " 'dependents',\n",
       " 'phoneservice',\n",
       " 'multiplelines',\n",
       " 'internetservice',\n",
       " 'onlinesecurity',\n",
       " 'onlinebackup',\n",
       " 'deviceprotection',\n",
       " 'techsupport',\n",
       " 'streamingtv',\n",
       " 'streamingmovies',\n",
       " 'contract',\n",
       " 'paperlessbilling',\n",
       " 'paymentmethod']"
      ]
     },
     "execution_count": 102,
     "metadata": {},
     "output_type": "execute_result"
    }
   ],
   "source": [
    "categorical_col"
   ]
  },
  {
   "cell_type": "code",
   "execution_count": 103,
   "metadata": {},
   "outputs": [],
   "source": [
    "dv.fit(dict_train)\n",
    "X_train = dv.transform(dict_train)"
   ]
  },
  {
   "cell_type": "code",
   "execution_count": 104,
   "metadata": {},
   "outputs": [
    {
     "data": {
      "text/plain": [
       "['contract=month-to-month',\n",
       " 'contract=one_year',\n",
       " 'contract=two_year',\n",
       " 'dependents=no',\n",
       " 'dependents=yes',\n",
       " 'deviceprotection=no',\n",
       " 'deviceprotection=no_internet_service',\n",
       " 'deviceprotection=yes',\n",
       " 'gender=female',\n",
       " 'gender=male',\n",
       " 'internetservice=dsl',\n",
       " 'internetservice=fiber_optic',\n",
       " 'internetservice=no',\n",
       " 'monthlycharges',\n",
       " 'multiplelines=no',\n",
       " 'multiplelines=no_phone_service',\n",
       " 'multiplelines=yes',\n",
       " 'onlinebackup=no',\n",
       " 'onlinebackup=no_internet_service',\n",
       " 'onlinebackup=yes',\n",
       " 'onlinesecurity=no',\n",
       " 'onlinesecurity=no_internet_service',\n",
       " 'onlinesecurity=yes',\n",
       " 'paperlessbilling=no',\n",
       " 'paperlessbilling=yes',\n",
       " 'partner=no',\n",
       " 'partner=yes',\n",
       " 'paymentmethod=bank_transfer_(automatic)',\n",
       " 'paymentmethod=credit_card_(automatic)',\n",
       " 'paymentmethod=electronic_check',\n",
       " 'paymentmethod=mailed_check',\n",
       " 'phoneservice=no',\n",
       " 'phoneservice=yes',\n",
       " 'seniorcitizen',\n",
       " 'streamingmovies=no',\n",
       " 'streamingmovies=no_internet_service',\n",
       " 'streamingmovies=yes',\n",
       " 'streamingtv=no',\n",
       " 'streamingtv=no_internet_service',\n",
       " 'streamingtv=yes',\n",
       " 'techsupport=no',\n",
       " 'techsupport=no_internet_service',\n",
       " 'techsupport=yes',\n",
       " 'tenure',\n",
       " 'totalcharges']"
      ]
     },
     "execution_count": 104,
     "metadata": {},
     "output_type": "execute_result"
    }
   ],
   "source": [
    "dv.feature_names_"
   ]
  },
  {
   "cell_type": "code",
   "execution_count": 105,
   "metadata": {},
   "outputs": [
    {
     "name": "stderr",
     "output_type": "stream",
     "text": [
      "d:\\Anacoda3\\lib\\site-packages\\sklearn\\linear_model\\_logistic.py:444: ConvergenceWarning: lbfgs failed to converge (status=1):\n",
      "STOP: TOTAL NO. of ITERATIONS REACHED LIMIT.\n",
      "\n",
      "Increase the number of iterations (max_iter) or scale the data as shown in:\n",
      "    https://scikit-learn.org/stable/modules/preprocessing.html\n",
      "Please also refer to the documentation for alternative solver options:\n",
      "    https://scikit-learn.org/stable/modules/linear_model.html#logistic-regression\n",
      "  n_iter_i = _check_optimize_result(\n"
     ]
    },
    {
     "data": {
      "text/html": [
       "<style>#sk-container-id-1 {color: black;background-color: white;}#sk-container-id-1 pre{padding: 0;}#sk-container-id-1 div.sk-toggleable {background-color: white;}#sk-container-id-1 label.sk-toggleable__label {cursor: pointer;display: block;width: 100%;margin-bottom: 0;padding: 0.3em;box-sizing: border-box;text-align: center;}#sk-container-id-1 label.sk-toggleable__label-arrow:before {content: \"▸\";float: left;margin-right: 0.25em;color: #696969;}#sk-container-id-1 label.sk-toggleable__label-arrow:hover:before {color: black;}#sk-container-id-1 div.sk-estimator:hover label.sk-toggleable__label-arrow:before {color: black;}#sk-container-id-1 div.sk-toggleable__content {max-height: 0;max-width: 0;overflow: hidden;text-align: left;background-color: #f0f8ff;}#sk-container-id-1 div.sk-toggleable__content pre {margin: 0.2em;color: black;border-radius: 0.25em;background-color: #f0f8ff;}#sk-container-id-1 input.sk-toggleable__control:checked~div.sk-toggleable__content {max-height: 200px;max-width: 100%;overflow: auto;}#sk-container-id-1 input.sk-toggleable__control:checked~label.sk-toggleable__label-arrow:before {content: \"▾\";}#sk-container-id-1 div.sk-estimator input.sk-toggleable__control:checked~label.sk-toggleable__label {background-color: #d4ebff;}#sk-container-id-1 div.sk-label input.sk-toggleable__control:checked~label.sk-toggleable__label {background-color: #d4ebff;}#sk-container-id-1 input.sk-hidden--visually {border: 0;clip: rect(1px 1px 1px 1px);clip: rect(1px, 1px, 1px, 1px);height: 1px;margin: -1px;overflow: hidden;padding: 0;position: absolute;width: 1px;}#sk-container-id-1 div.sk-estimator {font-family: monospace;background-color: #f0f8ff;border: 1px dotted black;border-radius: 0.25em;box-sizing: border-box;margin-bottom: 0.5em;}#sk-container-id-1 div.sk-estimator:hover {background-color: #d4ebff;}#sk-container-id-1 div.sk-parallel-item::after {content: \"\";width: 100%;border-bottom: 1px solid gray;flex-grow: 1;}#sk-container-id-1 div.sk-label:hover label.sk-toggleable__label {background-color: #d4ebff;}#sk-container-id-1 div.sk-serial::before {content: \"\";position: absolute;border-left: 1px solid gray;box-sizing: border-box;top: 0;bottom: 0;left: 50%;z-index: 0;}#sk-container-id-1 div.sk-serial {display: flex;flex-direction: column;align-items: center;background-color: white;padding-right: 0.2em;padding-left: 0.2em;position: relative;}#sk-container-id-1 div.sk-item {position: relative;z-index: 1;}#sk-container-id-1 div.sk-parallel {display: flex;align-items: stretch;justify-content: center;background-color: white;position: relative;}#sk-container-id-1 div.sk-item::before, #sk-container-id-1 div.sk-parallel-item::before {content: \"\";position: absolute;border-left: 1px solid gray;box-sizing: border-box;top: 0;bottom: 0;left: 50%;z-index: -1;}#sk-container-id-1 div.sk-parallel-item {display: flex;flex-direction: column;z-index: 1;position: relative;background-color: white;}#sk-container-id-1 div.sk-parallel-item:first-child::after {align-self: flex-end;width: 50%;}#sk-container-id-1 div.sk-parallel-item:last-child::after {align-self: flex-start;width: 50%;}#sk-container-id-1 div.sk-parallel-item:only-child::after {width: 0;}#sk-container-id-1 div.sk-dashed-wrapped {border: 1px dashed gray;margin: 0 0.4em 0.5em 0.4em;box-sizing: border-box;padding-bottom: 0.4em;background-color: white;}#sk-container-id-1 div.sk-label label {font-family: monospace;font-weight: bold;display: inline-block;line-height: 1.2em;}#sk-container-id-1 div.sk-label-container {text-align: center;}#sk-container-id-1 div.sk-container {/* jupyter's `normalize.less` sets `[hidden] { display: none; }` but bootstrap.min.css set `[hidden] { display: none !important; }` so we also need the `!important` here to be able to override the default hidden behavior on the sphinx rendered scikit-learn.org. See: https://github.com/scikit-learn/scikit-learn/issues/21755 */display: inline-block !important;position: relative;}#sk-container-id-1 div.sk-text-repr-fallback {display: none;}</style><div id=\"sk-container-id-1\" class=\"sk-top-container\"><div class=\"sk-text-repr-fallback\"><pre>LogisticRegression()</pre><b>In a Jupyter environment, please rerun this cell to show the HTML representation or trust the notebook. <br />On GitHub, the HTML representation is unable to render, please try loading this page with nbviewer.org.</b></div><div class=\"sk-container\" hidden><div class=\"sk-item\"><div class=\"sk-estimator sk-toggleable\"><input class=\"sk-toggleable__control sk-hidden--visually\" id=\"sk-estimator-id-1\" type=\"checkbox\" checked><label for=\"sk-estimator-id-1\" class=\"sk-toggleable__label sk-toggleable__label-arrow\">LogisticRegression</label><div class=\"sk-toggleable__content\"><pre>LogisticRegression()</pre></div></div></div></div></div>"
      ],
      "text/plain": [
       "LogisticRegression()"
      ]
     },
     "execution_count": 105,
     "metadata": {},
     "output_type": "execute_result"
    }
   ],
   "source": [
    "# Model\n",
    "model = LogisticRegression()\n",
    "model.fit(X_train, y_train)"
   ]
  },
  {
   "cell_type": "code",
   "execution_count": 106,
   "metadata": {},
   "outputs": [
    {
     "data": {
      "text/plain": [
       "0.8054437869822485"
      ]
     },
     "execution_count": 106,
     "metadata": {},
     "output_type": "execute_result"
    }
   ],
   "source": [
    "# Score on training set\n",
    "model.score(X_train, y_train)"
   ]
  },
  {
   "cell_type": "code",
   "execution_count": 113,
   "metadata": {},
   "outputs": [
    {
     "data": {
      "text/plain": [
       "array([[ 4.72130525e-01, -1.74089107e-01, -4.06051491e-01,\n",
       "        -3.01838813e-02, -7.78261922e-02,  6.28293651e-02,\n",
       "        -8.99052168e-02, -8.09342218e-02, -3.44528232e-02,\n",
       "        -7.35572503e-02, -3.33341443e-01,  3.15236586e-01,\n",
       "        -8.99052168e-02,  3.72183038e-03, -2.58132276e-01,\n",
       "         1.41034594e-01,  9.08760879e-03,  6.26331281e-02,\n",
       "        -8.99052168e-02, -8.07379847e-02,  2.64680518e-01,\n",
       "        -8.99052168e-02, -2.82785375e-01, -2.30999492e-01,\n",
       "         1.22989418e-01, -1.65963045e-01,  5.79529719e-02,\n",
       "        -8.66614456e-02, -3.19509493e-02,  7.02644522e-02,\n",
       "        -5.96621308e-02,  1.41034594e-01, -2.49044668e-01,\n",
       "         2.14525129e-01, -1.19332974e-01, -8.99052168e-02,\n",
       "         1.01228117e-01, -7.01130418e-02, -8.99052168e-02,\n",
       "         5.20081852e-02,  2.12728215e-01, -8.99052168e-02,\n",
       "        -2.30833072e-01, -7.03611827e-02,  3.81593772e-04]])"
      ]
     },
     "execution_count": 113,
     "metadata": {},
     "output_type": "execute_result"
    }
   ],
   "source": [
    "model.coef_"
   ]
  },
  {
   "cell_type": "code",
   "execution_count": 108,
   "metadata": {},
   "outputs": [
    {
     "data": {
      "text/plain": [
       "['contract=month-to-month',\n",
       " 'contract=one_year',\n",
       " 'contract=two_year',\n",
       " 'dependents=no',\n",
       " 'dependents=yes',\n",
       " 'deviceprotection=no',\n",
       " 'deviceprotection=no_internet_service',\n",
       " 'deviceprotection=yes',\n",
       " 'gender=female',\n",
       " 'gender=male',\n",
       " 'internetservice=dsl',\n",
       " 'internetservice=fiber_optic',\n",
       " 'internetservice=no',\n",
       " 'monthlycharges',\n",
       " 'multiplelines=no',\n",
       " 'multiplelines=no_phone_service',\n",
       " 'multiplelines=yes',\n",
       " 'onlinebackup=no',\n",
       " 'onlinebackup=no_internet_service',\n",
       " 'onlinebackup=yes',\n",
       " 'onlinesecurity=no',\n",
       " 'onlinesecurity=no_internet_service',\n",
       " 'onlinesecurity=yes',\n",
       " 'paperlessbilling=no',\n",
       " 'paperlessbilling=yes',\n",
       " 'partner=no',\n",
       " 'partner=yes',\n",
       " 'paymentmethod=bank_transfer_(automatic)',\n",
       " 'paymentmethod=credit_card_(automatic)',\n",
       " 'paymentmethod=electronic_check',\n",
       " 'paymentmethod=mailed_check',\n",
       " 'phoneservice=no',\n",
       " 'phoneservice=yes',\n",
       " 'seniorcitizen',\n",
       " 'streamingmovies=no',\n",
       " 'streamingmovies=no_internet_service',\n",
       " 'streamingmovies=yes',\n",
       " 'streamingtv=no',\n",
       " 'streamingtv=no_internet_service',\n",
       " 'streamingtv=yes',\n",
       " 'techsupport=no',\n",
       " 'techsupport=no_internet_service',\n",
       " 'techsupport=yes',\n",
       " 'tenure',\n",
       " 'totalcharges']"
      ]
     },
     "execution_count": 108,
     "metadata": {},
     "output_type": "execute_result"
    }
   ],
   "source": [
    "dv.feature_names_"
   ]
  },
  {
   "cell_type": "code",
   "execution_count": 116,
   "metadata": {},
   "outputs": [
    {
     "name": "stdout",
     "output_type": "stream",
     "text": [
      "contract=month-to-month 0.4721\n",
      "contract=one_year -0.1741\n",
      "contract=two_year -0.4061\n",
      "dependents=no -0.0302\n",
      "dependents=yes -0.0778\n",
      "deviceprotection=no 0.0628\n",
      "deviceprotection=no_internet_service -0.0899\n",
      "deviceprotection=yes -0.0809\n",
      "gender=female -0.0345\n",
      "gender=male -0.0736\n",
      "internetservice=dsl -0.3333\n",
      "internetservice=fiber_optic 0.3152\n",
      "internetservice=no -0.0899\n",
      "monthlycharges 0.0037\n",
      "multiplelines=no -0.2581\n",
      "multiplelines=no_phone_service 0.141\n",
      "multiplelines=yes 0.0091\n",
      "onlinebackup=no 0.0626\n",
      "onlinebackup=no_internet_service -0.0899\n",
      "onlinebackup=yes -0.0807\n",
      "onlinesecurity=no 0.2647\n",
      "onlinesecurity=no_internet_service -0.0899\n",
      "onlinesecurity=yes -0.2828\n",
      "paperlessbilling=no -0.231\n",
      "paperlessbilling=yes 0.123\n",
      "partner=no -0.166\n",
      "partner=yes 0.058\n",
      "paymentmethod=bank_transfer_(automatic) -0.0867\n",
      "paymentmethod=credit_card_(automatic) -0.032\n",
      "paymentmethod=electronic_check 0.0703\n",
      "paymentmethod=mailed_check -0.0597\n",
      "phoneservice=no 0.141\n",
      "phoneservice=yes -0.249\n",
      "seniorcitizen 0.2145\n",
      "streamingmovies=no -0.1193\n",
      "streamingmovies=no_internet_service -0.0899\n",
      "streamingmovies=yes 0.1012\n",
      "streamingtv=no -0.0701\n",
      "streamingtv=no_internet_service -0.0899\n",
      "streamingtv=yes 0.052\n",
      "techsupport=no 0.2127\n",
      "techsupport=no_internet_service -0.0899\n",
      "techsupport=yes -0.2308\n",
      "tenure -0.0704\n",
      "totalcharges 0.0004\n"
     ]
    }
   ],
   "source": [
    "for feat, coef in zip(dv.feature_names_, model.coef_[0,:]):\n",
    "    print(feat, round(coef, 4))"
   ]
  },
  {
   "cell_type": "code",
   "execution_count": 118,
   "metadata": {},
   "outputs": [],
   "source": [
    "dict_test = df_test.to_dict(orient=\"records\")\n",
    "X_test = dv.transform(dict_test)"
   ]
  },
  {
   "cell_type": "code",
   "execution_count": 119,
   "metadata": {},
   "outputs": [
    {
     "data": {
      "text/plain": [
       "0.8090844570617459"
      ]
     },
     "execution_count": 119,
     "metadata": {},
     "output_type": "execute_result"
    }
   ],
   "source": [
    "model.score(X_test, y_test)"
   ]
  },
  {
   "cell_type": "code",
   "execution_count": 120,
   "metadata": {},
   "outputs": [
    {
     "data": {
      "text/plain": [
       "0.8034066713981547"
      ]
     },
     "execution_count": 120,
     "metadata": {},
     "output_type": "execute_result"
    }
   ],
   "source": [
    "dict_val = df_val.to_dict(orient=\"records\")\n",
    "X_val = dv.transform(dict_val)\n",
    "model.score(X_val, y_val)"
   ]
  },
  {
   "cell_type": "markdown",
   "metadata": {},
   "source": [
    "## 4.2 Accuracy and dummy model"
   ]
  },
  {
   "cell_type": "code",
   "execution_count": 122,
   "metadata": {},
   "outputs": [],
   "source": [
    "from sklearn.metrics import accuracy_score\n",
    "from collections import Counter"
   ]
  },
  {
   "cell_type": "code",
   "execution_count": 136,
   "metadata": {},
   "outputs": [],
   "source": [
    "thresholds = np.linspace(0, 1, 21)"
   ]
  },
  {
   "cell_type": "code",
   "execution_count": 148,
   "metadata": {},
   "outputs": [],
   "source": [
    "y_train_prob = model.predict_proba(X_train)[:, 1]"
   ]
  },
  {
   "cell_type": "code",
   "execution_count": 134,
   "metadata": {},
   "outputs": [
    {
     "data": {
      "text/plain": [
       "0.8054437869822485"
      ]
     },
     "execution_count": 134,
     "metadata": {},
     "output_type": "execute_result"
    }
   ],
   "source": [
    "(y_train == (y_train_prob>0.5)).mean()"
   ]
  },
  {
   "cell_type": "code",
   "execution_count": 143,
   "metadata": {},
   "outputs": [
    {
     "name": "stdout",
     "output_type": "stream",
     "text": [
      "0.00 0.269\n",
      "0.05 0.503\n",
      "0.10 0.596\n",
      "0.15 0.656\n",
      "0.20 0.697\n",
      "0.25 0.739\n",
      "0.30 0.764\n",
      "0.35 0.780\n",
      "0.40 0.794\n",
      "0.45 0.800\n",
      "0.50 0.805\n",
      "0.55 0.804\n",
      "0.60 0.794\n",
      "0.65 0.783\n",
      "0.70 0.771\n",
      "0.75 0.748\n",
      "0.80 0.735\n",
      "0.85 0.732\n",
      "0.90 0.731\n",
      "0.95 0.731\n",
      "1.00 0.731\n"
     ]
    }
   ],
   "source": [
    "acc = []\n",
    "\n",
    "for element in thresholds:\n",
    "    acc.append(accuracy_score(y_train, (y_train_pred>element)))\n",
    "\n",
    "for thres, value in zip(thresholds, acc):\n",
    "    print('%.2f %.3f' % (round(thres,2), round(value, 3)))"
   ]
  },
  {
   "cell_type": "code",
   "execution_count": 138,
   "metadata": {},
   "outputs": [
    {
     "data": {
      "text/plain": [
       "[<matplotlib.lines.Line2D at 0x1ab83719a90>]"
      ]
     },
     "execution_count": 138,
     "metadata": {},
     "output_type": "execute_result"
    },
    {
     "data": {
      "image/png": "[encoded data removed]",
      "text/plain": [
       "<Figure size 432x288 with 1 Axes>"
      ]
     },
     "metadata": {
      "needs_background": "light"
     },
     "output_type": "display_data"
    }
   ],
   "source": [
    "plt.plot(thresholds, acc)"
   ]
  },
  {
   "cell_type": "markdown",
   "metadata": {},
   "source": [
    "## 4.3 Confusion table, matrix"
   ]
  },
  {
   "cell_type": "code",
   "execution_count": 155,
   "metadata": {},
   "outputs": [
    {
     "data": {
      "text/plain": [
       "1135"
      ]
     },
     "execution_count": 155,
     "metadata": {},
     "output_type": "execute_result"
    }
   ],
   "source": [
    "y_train.sum()"
   ]
  },
  {
   "cell_type": "code",
   "execution_count": 149,
   "metadata": {},
   "outputs": [],
   "source": [
    "y_train_pred = y_train_prob>0.5"
   ]
  },
  {
   "cell_type": "code",
   "execution_count": 163,
   "metadata": {},
   "outputs": [
    {
     "data": {
      "text/plain": [
       "624"
      ]
     },
     "execution_count": 163,
     "metadata": {},
     "output_type": "execute_result"
    }
   ],
   "source": [
    "TP = (y_train_pred & y_train).sum()\n",
    "TP"
   ]
  },
  {
   "cell_type": "code",
   "execution_count": 164,
   "metadata": {},
   "outputs": [
    {
     "data": {
      "text/plain": [
       "2779"
      ]
     },
     "execution_count": 164,
     "metadata": {},
     "output_type": "execute_result"
    }
   ],
   "source": [
    "TN = ((~y_train_pred) & (~y_train)).sum()\n",
    "TN"
   ]
  },
  {
   "cell_type": "code",
   "execution_count": 162,
   "metadata": {},
   "outputs": [
    {
     "data": {
      "text/plain": [
       "311"
      ]
     },
     "execution_count": 162,
     "metadata": {},
     "output_type": "execute_result"
    }
   ],
   "source": [
    "FP = (y_train_pred & ~y_train).sum()\n",
    "FP"
   ]
  },
  {
   "cell_type": "code",
   "execution_count": 167,
   "metadata": {},
   "outputs": [
    {
     "data": {
      "text/plain": [
       "511"
      ]
     },
     "execution_count": 167,
     "metadata": {},
     "output_type": "execute_result"
    }
   ],
   "source": [
    "FN = ((~y_train_pred) & y_train).sum()\n",
    "FN"
   ]
  },
  {
   "cell_type": "code",
   "execution_count": 186,
   "metadata": {},
   "outputs": [],
   "source": [
    "def confusion_matrix(y_pred, y_true):\n",
    "    TP = (y_true & y_pred).sum()\n",
    "    TN = (~y_true & ~y_pred).sum()\n",
    "    FP = (y_pred & ~y_true).sum()\n",
    "    FN = (~y_pred & y_true).sum()\n",
    "    return np.array([[TP, FN], [FP, TN]])"
   ]
  },
  {
   "cell_type": "code",
   "execution_count": 176,
   "metadata": {},
   "outputs": [
    {
     "data": {
      "text/plain": [
       "array([[0.14904187, 0.07168204],\n",
       "       [0.12491128, 0.6543648 ]])"
      ]
     },
     "execution_count": 176,
     "metadata": {},
     "output_type": "execute_result"
    }
   ],
   "source": [
    "y_val_pred = model.predict(X_val)\n",
    "matrix_val = confusion_matrix(y_val_pred, y_val)\n",
    "matrix_val/matrix_val.sum()"
   ]
  },
  {
   "cell_type": "markdown",
   "metadata": {},
   "source": [
    "## Precision and Recall"
   ]
  },
  {
   "cell_type": "code",
   "execution_count": 178,
   "metadata": {},
   "outputs": [
    {
     "data": {
      "text/plain": [
       "0.667379679144385"
      ]
     },
     "execution_count": 178,
     "metadata": {},
     "output_type": "execute_result"
    }
   ],
   "source": [
    "# Precision is the ratio between true positive and predicted positive\n",
    "# Recall is the ration between true positive and actual positive\n",
    "precision = TP/(TP + FP)\n",
    "precision"
   ]
  },
  {
   "cell_type": "code",
   "execution_count": 179,
   "metadata": {},
   "outputs": [
    {
     "data": {
      "text/plain": [
       "0.5497797356828193"
      ]
     },
     "execution_count": 179,
     "metadata": {},
     "output_type": "execute_result"
    }
   ],
   "source": [
    "recall = TP / (TP + FN)\n",
    "recall"
   ]
  },
  {
   "cell_type": "markdown",
   "metadata": {},
   "source": [
    "## ROC curve\n",
    "- ROC stands for Receiver Operating Characteristics.\n",
    "- ROC curve measures the relationship between FALSE POSITIVE RATE (FPR) and TRUE POSTITIVE RATE (TPR) which are derived from confusion matrix.\n",
    "    - FPR is the fraction of False Positive over the total number of actual Negative (TN + FP). We want to minimise FPR.\n",
    "    $$FPR = \\frac{FP}{FP+TN}$$\n",
    "    - TPR is the fraction of True Positive over the total number of actual Positive (TP + FN). We want to maximise TPR\n",
    "    $$TPR = \\frac{TP}{TP+FN}$$\n",
    "\n"
   ]
  },
  {
   "cell_type": "code",
   "execution_count": 187,
   "metadata": {},
   "outputs": [],
   "source": [
    "# Calculate confusion matrix for validation set\n",
    "confusion_val = confusion_matrix(y_val_pred, y_val)\n",
    "TP_val = confusion_val[0, 0]\n",
    "FN_val = confusion_val[0, 1]\n",
    "FP_val = confusion_val[1, 0]\n",
    "TN_val = confusion_val[1, 1]"
   ]
  },
  {
   "cell_type": "code",
   "execution_count": 188,
   "metadata": {},
   "outputs": [
    {
     "data": {
      "text/plain": [
       "array([[210, 176],\n",
       "       [101, 922]], dtype=int64)"
      ]
     },
     "execution_count": 188,
     "metadata": {},
     "output_type": "execute_result"
    }
   ],
   "source": [
    "confusion_val"
   ]
  },
  {
   "cell_type": "code",
   "execution_count": 189,
   "metadata": {},
   "outputs": [
    {
     "data": {
      "text/plain": [
       "0.5440414507772021"
      ]
     },
     "execution_count": 189,
     "metadata": {},
     "output_type": "execute_result"
    }
   ],
   "source": [
    "TPR_val = TP_val/(TP_val + FN_val)\n",
    "TPR_val"
   ]
  },
  {
   "cell_type": "code",
   "execution_count": 190,
   "metadata": {},
   "outputs": [
    {
     "data": {
      "text/plain": [
       "0.09872922776148582"
      ]
     },
     "execution_count": 190,
     "metadata": {},
     "output_type": "execute_result"
    }
   ],
   "source": [
    "FPR_val = FP_val/(FP_val + TN_val)\n",
    "FPR_val"
   ]
  },
  {
   "cell_type": "code",
   "execution_count": 193,
   "metadata": {},
   "outputs": [
    {
     "data": {
      "text/plain": [
       "array([0.0090737 , 0.20311052, 0.21065783, ..., 0.13686293, 0.79940083,\n",
       "       0.83695071])"
      ]
     },
     "execution_count": 193,
     "metadata": {},
     "output_type": "execute_result"
    }
   ],
   "source": [
    "# Calculate FPR, TPR for different thresholds\n",
    "y_val_prob_pred = model.predict_proba(X_val)[:, 1]\n",
    "y_val_prob_pred"
   ]
  },
  {
   "cell_type": "code",
   "execution_count": 196,
   "metadata": {},
   "outputs": [],
   "source": [
    "def confusion_matrix_with_threshold(y_prob_pred, y_actual, threshold):\n",
    "    y_pred = (y_prob_pred > threshold)\n",
    "    TP = (y_actual & y_pred).sum()\n",
    "    TN = (~y_actual & ~y_pred).sum()\n",
    "    FP = (~y_actual & y_pred).sum()\n",
    "    FN = (y_actual & ~y_pred).sum()\n",
    "    return np.array([[TP, FN], [FP, TN]])"
   ]
  },
  {
   "cell_type": "code",
   "execution_count": 198,
   "metadata": {},
   "outputs": [
    {
     "data": {
      "text/plain": [
       "[(0.0, 386, 0, 1023, 0),\n",
       " (0.01, 385, 1, 913, 110),\n",
       " (0.02, 384, 2, 829, 194),\n",
       " (0.03, 383, 3, 766, 257),\n",
       " (0.04, 381, 5, 716, 307),\n",
       " (0.05, 379, 7, 685, 338),\n",
       " (0.06, 377, 9, 660, 363),\n",
       " (0.07, 372, 14, 641, 382),\n",
       " (0.08, 371, 15, 613, 410),\n",
       " (0.09, 369, 17, 580, 443),\n",
       " (0.1, 366, 20, 556, 467),\n",
       " (0.11, 365, 21, 528, 495),\n",
       " (0.12, 365, 21, 510, 513),\n",
       " (0.13, 360, 26, 478, 545),\n",
       " (0.14, 355, 31, 453, 570),\n",
       " (0.15, 351, 35, 435, 588),\n",
       " (0.16, 347, 39, 418, 605),\n",
       " (0.17, 346, 40, 400, 623),\n",
       " (0.18, 344, 42, 384, 639),\n",
       " (0.19, 338, 48, 370, 653),\n",
       " (0.2, 333, 53, 355, 668),\n",
       " (0.21, 330, 56, 339, 684),\n",
       " (0.22, 324, 62, 322, 701),\n",
       " (0.23, 320, 66, 311, 712),\n",
       " (0.24, 316, 70, 303, 720),\n",
       " (0.25, 308, 78, 291, 732),\n",
       " (0.26, 304, 82, 281, 742),\n",
       " (0.27, 303, 83, 269, 754),\n",
       " (0.28, 296, 90, 257, 766),\n",
       " (0.29, 291, 95, 244, 779),\n",
       " (0.3, 285, 101, 236, 787),\n",
       " (0.31, 280, 106, 230, 793),\n",
       " (0.32, 279, 107, 225, 798),\n",
       " (0.33, 276, 110, 220, 803),\n",
       " (0.34, 274, 112, 213, 810),\n",
       " (0.35000000000000003, 271, 115, 207, 816),\n",
       " (0.36, 267, 119, 201, 822),\n",
       " (0.37, 265, 121, 197, 826),\n",
       " (0.38, 260, 126, 185, 838),\n",
       " (0.39, 253, 133, 178, 845),\n",
       " (0.4, 249, 137, 165, 858),\n",
       " (0.41000000000000003, 246, 140, 159, 864),\n",
       " (0.42, 243, 143, 157, 866),\n",
       " (0.43, 241, 145, 150, 873),\n",
       " (0.44, 234, 152, 147, 876),\n",
       " (0.45, 229, 157, 135, 888),\n",
       " (0.46, 223, 163, 125, 898),\n",
       " (0.47000000000000003, 218, 168, 120, 903),\n",
       " (0.48, 217, 169, 115, 908),\n",
       " (0.49, 213, 173, 109, 914),\n",
       " (0.5, 210, 176, 101, 922),\n",
       " (0.51, 206, 180, 99, 924),\n",
       " (0.52, 204, 182, 93, 930),\n",
       " (0.53, 195, 191, 91, 932),\n",
       " (0.54, 194, 192, 85, 938),\n",
       " (0.55, 185, 201, 79, 944),\n",
       " (0.56, 182, 204, 75, 948),\n",
       " (0.5700000000000001, 176, 210, 67, 956),\n",
       " (0.58, 171, 215, 61, 962),\n",
       " (0.59, 162, 224, 59, 964),\n",
       " (0.6, 150, 236, 53, 970),\n",
       " (0.61, 145, 241, 49, 974),\n",
       " (0.62, 140, 246, 46, 977),\n",
       " (0.63, 133, 253, 40, 983),\n",
       " (0.64, 124, 262, 37, 986),\n",
       " (0.65, 119, 267, 34, 989),\n",
       " (0.66, 114, 272, 31, 992),\n",
       " (0.67, 104, 282, 29, 994),\n",
       " (0.68, 93, 293, 26, 997),\n",
       " (0.6900000000000001, 88, 298, 25, 998),\n",
       " (0.7000000000000001, 75, 311, 20, 1003),\n",
       " (0.71, 63, 323, 13, 1010),\n",
       " (0.72, 57, 329, 11, 1012),\n",
       " (0.73, 47, 339, 9, 1014),\n",
       " (0.74, 41, 345, 8, 1015),\n",
       " (0.75, 33, 353, 7, 1016),\n",
       " (0.76, 30, 356, 6, 1017),\n",
       " (0.77, 23, 363, 5, 1018),\n",
       " (0.78, 18, 368, 3, 1020),\n",
       " (0.79, 15, 371, 2, 1021),\n",
       " (0.8, 13, 373, 1, 1022),\n",
       " (0.81, 6, 380, 0, 1023),\n",
       " (0.8200000000000001, 5, 381, 0, 1023),\n",
       " (0.8300000000000001, 3, 383, 0, 1023),\n",
       " (0.84, 0, 386, 0, 1023),\n",
       " (0.85, 0, 386, 0, 1023),\n",
       " (0.86, 0, 386, 0, 1023),\n",
       " (0.87, 0, 386, 0, 1023),\n",
       " (0.88, 0, 386, 0, 1023),\n",
       " (0.89, 0, 386, 0, 1023),\n",
       " (0.9, 0, 386, 0, 1023),\n",
       " (0.91, 0, 386, 0, 1023),\n",
       " (0.92, 0, 386, 0, 1023),\n",
       " (0.93, 0, 386, 0, 1023),\n",
       " (0.9400000000000001, 0, 386, 0, 1023),\n",
       " (0.9500000000000001, 0, 386, 0, 1023),\n",
       " (0.96, 0, 386, 0, 1023),\n",
       " (0.97, 0, 386, 0, 1023),\n",
       " (0.98, 0, 386, 0, 1023),\n",
       " (0.99, 0, 386, 0, 1023),\n",
       " (1.0, 0, 386, 0, 1023)]"
      ]
     },
     "execution_count": 198,
     "metadata": {},
     "output_type": "execute_result"
    }
   ],
   "source": [
    "accuracy_score_val = []\n",
    "thresholds = np.linspace(0, 1, 101)\n",
    "for t in thresholds:\n",
    "    matrix = confusion_matrix_with_threshold(y_val_prob_pred, y_val, t)\n",
    "    accuracy_score_val.append((t, matrix[0, 0], matrix[0, 1], matrix[1, 0], matrix[1, 1]))\n",
    "accuracy_score_val    "
   ]
  },
  {
   "cell_type": "code",
   "execution_count": 199,
   "metadata": {},
   "outputs": [
    {
     "data": {
      "text/html": [
       "<div>\n",
       "<style scoped>\n",
       "    .dataframe tbody tr th:only-of-type {\n",
       "        vertical-align: middle;\n",
       "    }\n",
       "\n",
       "    .dataframe tbody tr th {\n",
       "        vertical-align: top;\n",
       "    }\n",
       "\n",
       "    .dataframe thead th {\n",
       "        text-align: right;\n",
       "    }\n",
       "</style>\n",
       "<table border=\"1\" class=\"dataframe\">\n",
       "  <thead>\n",
       "    <tr style=\"text-align: right;\">\n",
       "      <th></th>\n",
       "      <th>threshold</th>\n",
       "      <th>TP</th>\n",
       "      <th>FN</th>\n",
       "      <th>FP</th>\n",
       "      <th>TN</th>\n",
       "    </tr>\n",
       "  </thead>\n",
       "  <tbody>\n",
       "    <tr>\n",
       "      <th>0</th>\n",
       "      <td>0.00</td>\n",
       "      <td>386</td>\n",
       "      <td>0</td>\n",
       "      <td>1023</td>\n",
       "      <td>0</td>\n",
       "    </tr>\n",
       "    <tr>\n",
       "      <th>1</th>\n",
       "      <td>0.01</td>\n",
       "      <td>385</td>\n",
       "      <td>1</td>\n",
       "      <td>913</td>\n",
       "      <td>110</td>\n",
       "    </tr>\n",
       "    <tr>\n",
       "      <th>2</th>\n",
       "      <td>0.02</td>\n",
       "      <td>384</td>\n",
       "      <td>2</td>\n",
       "      <td>829</td>\n",
       "      <td>194</td>\n",
       "    </tr>\n",
       "    <tr>\n",
       "      <th>3</th>\n",
       "      <td>0.03</td>\n",
       "      <td>383</td>\n",
       "      <td>3</td>\n",
       "      <td>766</td>\n",
       "      <td>257</td>\n",
       "    </tr>\n",
       "    <tr>\n",
       "      <th>4</th>\n",
       "      <td>0.04</td>\n",
       "      <td>381</td>\n",
       "      <td>5</td>\n",
       "      <td>716</td>\n",
       "      <td>307</td>\n",
       "    </tr>\n",
       "    <tr>\n",
       "      <th>...</th>\n",
       "      <td>...</td>\n",
       "      <td>...</td>\n",
       "      <td>...</td>\n",
       "      <td>...</td>\n",
       "      <td>...</td>\n",
       "    </tr>\n",
       "    <tr>\n",
       "      <th>96</th>\n",
       "      <td>0.96</td>\n",
       "      <td>0</td>\n",
       "      <td>386</td>\n",
       "      <td>0</td>\n",
       "      <td>1023</td>\n",
       "    </tr>\n",
       "    <tr>\n",
       "      <th>97</th>\n",
       "      <td>0.97</td>\n",
       "      <td>0</td>\n",
       "      <td>386</td>\n",
       "      <td>0</td>\n",
       "      <td>1023</td>\n",
       "    </tr>\n",
       "    <tr>\n",
       "      <th>98</th>\n",
       "      <td>0.98</td>\n",
       "      <td>0</td>\n",
       "      <td>386</td>\n",
       "      <td>0</td>\n",
       "      <td>1023</td>\n",
       "    </tr>\n",
       "    <tr>\n",
       "      <th>99</th>\n",
       "      <td>0.99</td>\n",
       "      <td>0</td>\n",
       "      <td>386</td>\n",
       "      <td>0</td>\n",
       "      <td>1023</td>\n",
       "    </tr>\n",
       "    <tr>\n",
       "      <th>100</th>\n",
       "      <td>1.00</td>\n",
       "      <td>0</td>\n",
       "      <td>386</td>\n",
       "      <td>0</td>\n",
       "      <td>1023</td>\n",
       "    </tr>\n",
       "  </tbody>\n",
       "</table>\n",
       "<p>101 rows × 5 columns</p>\n",
       "</div>"
      ],
      "text/plain": [
       "     threshold   TP   FN    FP    TN\n",
       "0         0.00  386    0  1023     0\n",
       "1         0.01  385    1   913   110\n",
       "2         0.02  384    2   829   194\n",
       "3         0.03  383    3   766   257\n",
       "4         0.04  381    5   716   307\n",
       "..         ...  ...  ...   ...   ...\n",
       "96        0.96    0  386     0  1023\n",
       "97        0.97    0  386     0  1023\n",
       "98        0.98    0  386     0  1023\n",
       "99        0.99    0  386     0  1023\n",
       "100       1.00    0  386     0  1023\n",
       "\n",
       "[101 rows x 5 columns]"
      ]
     },
     "execution_count": 199,
     "metadata": {},
     "output_type": "execute_result"
    }
   ],
   "source": [
    "# Create Dataframe from list of lists\n",
    "columns = [\"threshold\", \"TP\", \"FN\", \"FP\", \"TN\"]\n",
    "df_score_val = pd.DataFrame(accuracy_score_val, columns=columns)\n",
    "df_score_val"
   ]
  },
  {
   "cell_type": "code",
   "execution_count": 206,
   "metadata": {},
   "outputs": [
    {
     "data": {
      "text/html": [
       "<div>\n",
       "<style scoped>\n",
       "    .dataframe tbody tr th:only-of-type {\n",
       "        vertical-align: middle;\n",
       "    }\n",
       "\n",
       "    .dataframe tbody tr th {\n",
       "        vertical-align: top;\n",
       "    }\n",
       "\n",
       "    .dataframe thead th {\n",
       "        text-align: right;\n",
       "    }\n",
       "</style>\n",
       "<table border=\"1\" class=\"dataframe\">\n",
       "  <thead>\n",
       "    <tr style=\"text-align: right;\">\n",
       "      <th></th>\n",
       "      <th>threshold</th>\n",
       "      <th>TP</th>\n",
       "      <th>FN</th>\n",
       "      <th>FP</th>\n",
       "      <th>TN</th>\n",
       "      <th>TPR</th>\n",
       "      <th>FPR</th>\n",
       "    </tr>\n",
       "  </thead>\n",
       "  <tbody>\n",
       "    <tr>\n",
       "      <th>0</th>\n",
       "      <td>0.00</td>\n",
       "      <td>386</td>\n",
       "      <td>0</td>\n",
       "      <td>1023</td>\n",
       "      <td>0</td>\n",
       "      <td>1.000000</td>\n",
       "      <td>1.000000</td>\n",
       "    </tr>\n",
       "    <tr>\n",
       "      <th>1</th>\n",
       "      <td>0.01</td>\n",
       "      <td>385</td>\n",
       "      <td>1</td>\n",
       "      <td>913</td>\n",
       "      <td>110</td>\n",
       "      <td>0.997409</td>\n",
       "      <td>0.892473</td>\n",
       "    </tr>\n",
       "    <tr>\n",
       "      <th>2</th>\n",
       "      <td>0.02</td>\n",
       "      <td>384</td>\n",
       "      <td>2</td>\n",
       "      <td>829</td>\n",
       "      <td>194</td>\n",
       "      <td>0.994819</td>\n",
       "      <td>0.810362</td>\n",
       "    </tr>\n",
       "    <tr>\n",
       "      <th>3</th>\n",
       "      <td>0.03</td>\n",
       "      <td>383</td>\n",
       "      <td>3</td>\n",
       "      <td>766</td>\n",
       "      <td>257</td>\n",
       "      <td>0.992228</td>\n",
       "      <td>0.748778</td>\n",
       "    </tr>\n",
       "    <tr>\n",
       "      <th>4</th>\n",
       "      <td>0.04</td>\n",
       "      <td>381</td>\n",
       "      <td>5</td>\n",
       "      <td>716</td>\n",
       "      <td>307</td>\n",
       "      <td>0.987047</td>\n",
       "      <td>0.699902</td>\n",
       "    </tr>\n",
       "    <tr>\n",
       "      <th>...</th>\n",
       "      <td>...</td>\n",
       "      <td>...</td>\n",
       "      <td>...</td>\n",
       "      <td>...</td>\n",
       "      <td>...</td>\n",
       "      <td>...</td>\n",
       "      <td>...</td>\n",
       "    </tr>\n",
       "    <tr>\n",
       "      <th>96</th>\n",
       "      <td>0.96</td>\n",
       "      <td>0</td>\n",
       "      <td>386</td>\n",
       "      <td>0</td>\n",
       "      <td>1023</td>\n",
       "      <td>0.000000</td>\n",
       "      <td>0.000000</td>\n",
       "    </tr>\n",
       "    <tr>\n",
       "      <th>97</th>\n",
       "      <td>0.97</td>\n",
       "      <td>0</td>\n",
       "      <td>386</td>\n",
       "      <td>0</td>\n",
       "      <td>1023</td>\n",
       "      <td>0.000000</td>\n",
       "      <td>0.000000</td>\n",
       "    </tr>\n",
       "    <tr>\n",
       "      <th>98</th>\n",
       "      <td>0.98</td>\n",
       "      <td>0</td>\n",
       "      <td>386</td>\n",
       "      <td>0</td>\n",
       "      <td>1023</td>\n",
       "      <td>0.000000</td>\n",
       "      <td>0.000000</td>\n",
       "    </tr>\n",
       "    <tr>\n",
       "      <th>99</th>\n",
       "      <td>0.99</td>\n",
       "      <td>0</td>\n",
       "      <td>386</td>\n",
       "      <td>0</td>\n",
       "      <td>1023</td>\n",
       "      <td>0.000000</td>\n",
       "      <td>0.000000</td>\n",
       "    </tr>\n",
       "    <tr>\n",
       "      <th>100</th>\n",
       "      <td>1.00</td>\n",
       "      <td>0</td>\n",
       "      <td>386</td>\n",
       "      <td>0</td>\n",
       "      <td>1023</td>\n",
       "      <td>0.000000</td>\n",
       "      <td>0.000000</td>\n",
       "    </tr>\n",
       "  </tbody>\n",
       "</table>\n",
       "<p>101 rows × 7 columns</p>\n",
       "</div>"
      ],
      "text/plain": [
       "     threshold   TP   FN    FP    TN       TPR       FPR\n",
       "0         0.00  386    0  1023     0  1.000000  1.000000\n",
       "1         0.01  385    1   913   110  0.997409  0.892473\n",
       "2         0.02  384    2   829   194  0.994819  0.810362\n",
       "3         0.03  383    3   766   257  0.992228  0.748778\n",
       "4         0.04  381    5   716   307  0.987047  0.699902\n",
       "..         ...  ...  ...   ...   ...       ...       ...\n",
       "96        0.96    0  386     0  1023  0.000000  0.000000\n",
       "97        0.97    0  386     0  1023  0.000000  0.000000\n",
       "98        0.98    0  386     0  1023  0.000000  0.000000\n",
       "99        0.99    0  386     0  1023  0.000000  0.000000\n",
       "100       1.00    0  386     0  1023  0.000000  0.000000\n",
       "\n",
       "[101 rows x 7 columns]"
      ]
     },
     "execution_count": 206,
     "metadata": {},
     "output_type": "execute_result"
    }
   ],
   "source": [
    "df_score_val[\"TPR\"] = df_score_val[\"TP\"]/(df_score_val[\"TP\"] + df_score_val[\"FN\"])\n",
    "df_score_val[\"FPR\"] = df_score_val[\"FP\"]/(df_score_val[\"FP\"] + df_score_val[\"TN\"])\n",
    "df_score_val"
   ]
  },
  {
   "cell_type": "code",
   "execution_count": 205,
   "metadata": {},
   "outputs": [
    {
     "data": {
      "text/plain": [
       "<matplotlib.legend.Legend at 0x1ab83f662b0>"
      ]
     },
     "execution_count": 205,
     "metadata": {},
     "output_type": "execute_result"
    },
    {
     "data": {
      "image/png": "[encoded data removed]",
      "text/plain": [
       "<Figure size 432x288 with 1 Axes>"
      ]
     },
     "metadata": {
      "needs_background": "light"
     },
     "output_type": "display_data"
    }
   ],
   "source": [
    "df_score_val.plot(x= \"FPR\", y = \"TPR\", title=\"Curve\")\n",
    "plt.plot([0, 1], [0, 1], label='Random', linestyle='--')\n",
    "plt.xlabel('FPR')\n",
    "plt.ylabel('TPR')\n",
    "\n",
    "plt.legend()"
   ]
  },
  {
   "cell_type": "markdown",
   "metadata": {},
   "source": [
    "## AUC for ROC"
   ]
  },
  {
   "cell_type": "code",
   "execution_count": 207,
   "metadata": {},
   "outputs": [
    {
     "data": {
      "text/plain": [
       "0.843951802835306"
      ]
     },
     "execution_count": 207,
     "metadata": {},
     "output_type": "execute_result"
    }
   ],
   "source": [
    "from sklearn.metrics import auc\n",
    "from sklearn.metrics import roc_auc_score\n",
    "from sklearn.metrics import roc_curve"
   ]
  },
  {
   "cell_type": "code",
   "execution_count": null,
   "metadata": {},
   "outputs": [],
   "source": [
    "# Return area under ROC curve\n",
    "auc(df_score_val.FPR, df_score_val.TPR)"
   ]
  },
  {
   "cell_type": "code",
   "execution_count": 208,
   "metadata": {},
   "outputs": [],
   "source": [
    "fpr, tpr, thresholds = roc_curve(y_val, y_val_prob_pred)"
   ]
  },
  {
   "cell_type": "code",
   "execution_count": 213,
   "metadata": {},
   "outputs": [
    {
     "data": {
      "text/plain": [
       "[<matplotlib.lines.Line2D at 0x1ab8502ddc0>]"
      ]
     },
     "execution_count": 213,
     "metadata": {},
     "output_type": "execute_result"
    },
    {
     "data": {
      "image/png": "[encoded data removed]",
      "text/plain": [
       "<Figure size 432x288 with 1 Axes>"
      ]
     },
     "metadata": {
      "needs_background": "light"
     },
     "output_type": "display_data"
    }
   ],
   "source": [
    "plt.plot(fpr, tpr, label=\"ROC curve\")"
   ]
  },
  {
   "cell_type": "code",
   "execution_count": 214,
   "metadata": {},
   "outputs": [
    {
     "data": {
      "text/plain": [
       "0.843863167864505"
      ]
     },
     "execution_count": 214,
     "metadata": {},
     "output_type": "execute_result"
    }
   ],
   "source": [
    "roc_auc_score(y_val, y_val_prob_pred)"
   ]
  },
  {
   "cell_type": "markdown",
   "metadata": {},
   "source": [
    "## KFold cross validation"
   ]
  },
  {
   "cell_type": "code",
   "execution_count": 215,
   "metadata": {},
   "outputs": [],
   "source": [
    "from sklearn.model_selection import KFold"
   ]
  },
  {
   "cell_type": "code",
   "execution_count": 216,
   "metadata": {},
   "outputs": [],
   "source": [
    "def train_cross_validation(df_train, y_train):\n",
    "    dicts = df_train[categorical_col+numerical_col].to_dict(orient=\"records\")\n",
    "    dv = DictVectorizer(sparse=False)\n",
    "    X_train = dv.fit_transform(dicts)\n",
    "    model.fit(X_train, y_train)\n",
    "    return dv, model"
   ]
  },
  {
   "cell_type": "code",
   "execution_count": 220,
   "metadata": {},
   "outputs": [],
   "source": [
    "def predict(model, dv, df_val):\n",
    "    dicts = df_val[categorical_col+numerical_col].to_dict(orient=\"records\")\n",
    "    X_val = dv.transform(dicts)\n",
    "    y_val_pred_prob = model.predict_proba(X_val)\n",
    "    return y_val_pred_prob[:, 1]"
   ]
  },
  {
   "cell_type": "code",
   "execution_count": 218,
   "metadata": {},
   "outputs": [],
   "source": [
    "dv, model = train_cross_validation(df_train, y_train)"
   ]
  },
  {
   "cell_type": "code",
   "execution_count": 221,
   "metadata": {},
   "outputs": [
    {
     "data": {
      "text/plain": [
       "array([0.00899236, 0.20439205, 0.21208496, ..., 0.13636512, 0.79979601,\n",
       "       0.83742907])"
      ]
     },
     "execution_count": 221,
     "metadata": {},
     "output_type": "execute_result"
    }
   ],
   "source": [
    "predict(model, dv, df_val)"
   ]
  },
  {
   "cell_type": "code",
   "execution_count": null,
   "metadata": {},
   "outputs": [],
   "source": [
    "kfold = KFold(n_splits=5, shuffle=True, random_state=1)\n"
   ]
  }
 ],
 "metadata": {
  "kernelspec": {
   "display_name": "base",
   "language": "python",
   "name": "python3"
  },
  "language_info": {
   "codemirror_mode": {
    "name": "ipython",
    "version": 3
   },
   "file_extension": ".py",
   "mimetype": "text/x-python",
   "name": "python",
   "nbconvert_exporter": "python",
   "pygments_lexer": "ipython3",
   "version": "3.9.12"
  },
  "orig_nbformat": 4
 },
 "nbformat": 4,
 "nbformat_minor": 2
}
