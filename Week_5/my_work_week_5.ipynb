{
 "cells": [
  {
   "cell_type": "markdown",
   "metadata": {},
   "source": [
    "# Deployment"
   ]
  },
  {
   "cell_type": "code",
   "execution_count": null,
   "metadata": {},
   "outputs": [],
   "source": [
    "# Import libraries\n",
    "import numpy as np\n",
    "import pandas as pd\n",
    "import matplotlib.pyplot as plt"
   ]
  },
  {
   "cell_type": "code",
   "execution_count": null,
   "metadata": {},
   "outputs": [],
   "source": [
    "# Import libraries for building model\n",
    "from sklearn.model_selection import train_test_split\n",
    "from sklearn.linear_model import LogisticRegression\n",
    "from sklearn.feature_extraction import DictVectorizer"
   ]
  },
  {
   "cell_type": "code",
   "execution_count": null,
   "metadata": {},
   "outputs": [],
   "source": [
    "# Load dataset\n",
    "df_car = pd.read_csv(\"../database/churn.csv\")"
   ]
  },
  {
   "cell_type": "code",
   "execution_count": null,
   "metadata": {},
   "outputs": [],
   "source": [
    "df_car.columns = df_car.columns.str.lower().str.replace(\" \", \"_\")\n",
    "categorical_col = list(df_car.select_dtypes(include=[\"object\"]))\n",
    "numerical_col = list(df_car.select_dtypes(exclude=[\"object\"]))"
   ]
  },
  {
   "cell_type": "code",
   "execution_count": null,
   "metadata": {},
   "outputs": [],
   "source": [
    "# totalcharges column need to be nummerical\n",
    "df_car[\"totalcharges\"] = pd.to_numeric(df_car[\"totalcharges\"], errors=\"coerce\")\n",
    "df_car.totalcharges.fillna(0, inplace=True)\n",
    "\n",
    "categorical_col.remove(\"totalcharges\")\n",
    "numerical_col.append(\"totalcharges\")"
   ]
  },
  {
   "cell_type": "code",
   "execution_count": null,
   "metadata": {},
   "outputs": [],
   "source": [
    "# Normalize categorical columns\n",
    "for col in categorical_col:\n",
    "    df_car[col] = df_car[col].str.lower().str.replace(\" \", \"_\")"
   ]
  },
  {
   "cell_type": "code",
   "execution_count": null,
   "metadata": {},
   "outputs": [],
   "source": [
    "# Convert churn column to True and False\n",
    "df_car.churn = df_car.churn.apply(lambda x: True if x == \"yes\" else False)"
   ]
  },
  {
   "cell_type": "code",
   "execution_count": null,
   "metadata": {},
   "outputs": [],
   "source": [
    "# Split dataset\n",
    "df_train_full, df_test = train_test_split(df_car, test_size=0.2, random_state=1)\n",
    "df_train, df_val = train_test_split(df_train_full, test_size=0.25, random_state=1)\n",
    "y_train_full = df_train_full.churn\n",
    "\n",
    "df_train = df_train.reset_index(drop=True)\n",
    "df_val = df_val.reset_index(drop=True)\n",
    "df_test = df_test.reset_index(drop=True)\n",
    "\n",
    "y_train = df_train.churn\n",
    "y_val = df_val.churn\n",
    "y_test =df_test.churn\n",
    "\n",
    "\n",
    "del df_train[\"churn\"] # df_train.drop(columns=[\"churn\"], axis=1, inplace=True)\n",
    "del df_val[\"churn\"]\n",
    "del df_test[\"churn\"]"
   ]
  },
  {
   "cell_type": "code",
   "execution_count": null,
   "metadata": {},
   "outputs": [],
   "source": [
    "# Encode catergorical variables\n",
    "categorical_col.remove(\"churn\")\n",
    "dv = DictVectorizer()"
   ]
  }
 ],
 "metadata": {
  "kernelspec": {
   "display_name": "base",
   "language": "python",
   "name": "python3"
  },
  "language_info": {
   "name": "python",
   "version": "3.9.12"
  }
 },
 "nbformat": 4,
 "nbformat_minor": 2
}
