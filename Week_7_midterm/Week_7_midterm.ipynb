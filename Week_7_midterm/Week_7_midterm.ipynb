{
 "cells": [
  {
   "cell_type": "markdown",
   "metadata": {},
   "source": [
    "# Load libraries and packages"
   ]
  },
  {
   "cell_type": "code",
   "execution_count": 3,
   "metadata": {},
   "outputs": [],
   "source": [
    "import pandas as pd\n",
    "import numpy as np\n",
    "import matplotlib.pylab as plt\n",
    "import seaborn as sns"
   ]
  },
  {
   "cell_type": "code",
   "execution_count": 4,
   "metadata": {},
   "outputs": [],
   "source": [
    "from sklearn.metrics import mutual_info_score\n",
    "from sklearn.feature_extraction import DictVectorizer\n",
    "from sklearn.model_selection import train_test_split\n",
    "from sklearn.linear_model import LogisticRegression\n",
    "from sklearn.tree import DecisionTreeClassifier\n",
    "from sklearn.ensemble import RandomForestClassifier\n",
    "import xgboost as xgb"
   ]
  },
  {
   "cell_type": "code",
   "execution_count": 6,
   "metadata": {},
   "outputs": [],
   "source": [
    "from sklearn.tree import plot_tree"
   ]
  },
  {
   "cell_type": "code",
   "execution_count": 5,
   "metadata": {},
   "outputs": [],
   "source": [
    "from sklearn.metrics import auc, accuracy_score\n",
    "from sklearn.metrics import roc_auc_score\n",
    "from sklearn.metrics import roc_curve\n",
    "from sklearn.metrics import confusion_matrix\n",
    "from sklearn.metrics import f1_score"
   ]
  },
  {
   "cell_type": "markdown",
   "metadata": {},
   "source": [
    "# Load database and some data exploration analysis"
   ]
  },
  {
   "cell_type": "code",
   "execution_count": 2,
   "metadata": {},
   "outputs": [],
   "source": [
    "df = pd.read_csv(\"./database/Lending_club/Loan_status_2007-2020Q3.gzip\", low_memory=False)"
   ]
  },
  {
   "cell_type": "code",
   "execution_count": 3,
   "metadata": {},
   "outputs": [
    {
     "data": {
      "text/plain": [
       "Fully Paid                                             1497783\n",
       "Current                                                1031016\n",
       "Charged Off                                             362548\n",
       "Late (31-120 days)                                       16154\n",
       "In Grace Period                                          10028\n",
       "Late (16-30 days)                                         2719\n",
       "Issued                                                    2062\n",
       "Does not meet the credit policy. Status:Fully Paid        1988\n",
       "Does not meet the credit policy. Status:Charged Off        761\n",
       "Default                                                    433\n",
       "Name: loan_status, dtype: int64"
      ]
     },
     "execution_count": 3,
     "metadata": {},
     "output_type": "execute_result"
    }
   ],
   "source": [
    "df.loan_status.value_counts()"
   ]
  },
  {
   "cell_type": "code",
   "execution_count": 98,
   "metadata": {},
   "outputs": [
    {
     "data": {
      "text/plain": [
       "<AxesSubplot:>"
      ]
     },
     "execution_count": 98,
     "metadata": {},
     "output_type": "execute_result"
    },
    {
     "data": {
      "image/png": "[encoded data removed]",
      "text/plain": [
       "<Figure size 576x432 with 1 Axes>"
      ]
     },
     "metadata": {
      "needs_background": "light"
     },
     "output_type": "display_data"
    }
   ],
   "source": [
    "plt.figure(figsize=(8,6))\n",
    "df.loan_status.value_counts().plot.bar()"
   ]
  },
  {
   "cell_type": "markdown",
   "metadata": {},
   "source": [
    "In this project we are interested in whether a person is eligible to get a loan or not. That means only two statuses are considered. \n",
    "- Fully Paid status means a person paid back for the loan\n",
    "- Charged Off status means a person could not afford to paid for the loan"
   ]
  },
  {
   "cell_type": "code",
   "execution_count": 5,
   "metadata": {},
   "outputs": [],
   "source": [
    "df_data = df[(df.loan_status==\"Fully Paid\")|(df.loan_status==\"Charged Off\")]"
   ]
  },
  {
   "cell_type": "code",
   "execution_count": 6,
   "metadata": {},
   "outputs": [
    {
     "name": "stdout",
     "output_type": "stream",
     "text": [
      "Percentage of data after considering only two statuses is 63.59\n"
     ]
    }
   ],
   "source": [
    "print(\"Percentage of data after considering only two statuses is\", round(df_data.shape[0]/df.shape[0]*100, 2))"
   ]
  },
  {
   "cell_type": "code",
   "execution_count": 7,
   "metadata": {},
   "outputs": [
    {
     "data": {
      "text/plain": [
       "Fully Paid     0.805116\n",
       "Charged Off    0.194884\n",
       "Name: loan_status, dtype: float64"
      ]
     },
     "execution_count": 7,
     "metadata": {},
     "output_type": "execute_result"
    }
   ],
   "source": [
    "# Percentage of two loan statuses\n",
    "df_data.loan_status.value_counts(normalize=True)"
   ]
  },
  {
   "cell_type": "markdown",
   "metadata": {},
   "source": [
    "## Write a function to find columns with high missing value"
   ]
  },
  {
   "cell_type": "code",
   "execution_count": 8,
   "metadata": {},
   "outputs": [],
   "source": [
    "def find_col_missing_value(threshold):\n",
    "    df_na_percent = df_data.isna().sum().sort_values(ascending=False)/df_data.shape[0]\n",
    "    return list(df_na_percent[df_na_percent>threshold].index)"
   ]
  },
  {
   "cell_type": "code",
   "execution_count": 9,
   "metadata": {},
   "outputs": [],
   "source": [
    "lst_missing_value = find_col_missing_value(0.96)"
   ]
  },
  {
   "cell_type": "markdown",
   "metadata": {},
   "source": [
    "## Write a function to find columns with only one value (no information)"
   ]
  },
  {
   "cell_type": "code",
   "execution_count": 10,
   "metadata": {},
   "outputs": [],
   "source": [
    "lst_col = list(df_data.columns)\n",
    "lst_col = [item for item in lst_col if item not in lst_missing_value]"
   ]
  },
  {
   "cell_type": "code",
   "execution_count": 11,
   "metadata": {},
   "outputs": [
    {
     "data": {
      "text/plain": [
       "112"
      ]
     },
     "execution_count": 11,
     "metadata": {},
     "output_type": "execute_result"
    }
   ],
   "source": [
    "len(lst_col) # After removing 30 columns there is 112 columns left"
   ]
  },
  {
   "cell_type": "code",
   "execution_count": 12,
   "metadata": {},
   "outputs": [
    {
     "data": {
      "text/plain": [
       "1568"
      ]
     },
     "execution_count": 12,
     "metadata": {},
     "output_type": "execute_result"
    }
   ],
   "source": [
    "df_data.loan_amnt.nunique()"
   ]
  },
  {
   "cell_type": "code",
   "execution_count": 13,
   "metadata": {},
   "outputs": [],
   "source": [
    "def find_col_one_value():\n",
    "    lst_one_value = []\n",
    "    for col in lst_col:\n",
    "        if df_data[col].nunique()==1:\n",
    "            lst_one_value.append(col)\n",
    "    return lst_one_value"
   ]
  },
  {
   "cell_type": "code",
   "execution_count": 14,
   "metadata": {},
   "outputs": [],
   "source": [
    "lst_one_value = find_col_one_value()"
   ]
  },
  {
   "cell_type": "code",
   "execution_count": 15,
   "metadata": {},
   "outputs": [],
   "source": [
    "lst_col = [item for item in lst_col if item not in lst_one_value]"
   ]
  },
  {
   "cell_type": "code",
   "execution_count": 16,
   "metadata": {},
   "outputs": [
    {
     "data": {
      "text/plain": [
       "108"
      ]
     },
     "execution_count": 16,
     "metadata": {},
     "output_type": "execute_result"
    }
   ],
   "source": [
    "len(lst_col)"
   ]
  },
  {
   "cell_type": "markdown",
   "metadata": {},
   "source": [
    "## Removing columns with high rate of one value"
   ]
  },
  {
   "cell_type": "code",
   "execution_count": 17,
   "metadata": {},
   "outputs": [],
   "source": [
    "def find_col_high_rate_one_value(threshold):\n",
    "    lst_col_one_value = []\n",
    "    for col in lst_col:\n",
    "        if df_data[col].value_counts(normalize=True).iloc[0] > threshold:\n",
    "            lst_col_one_value.append(col)\n",
    "    return lst_col_one_value"
   ]
  },
  {
   "cell_type": "code",
   "execution_count": 18,
   "metadata": {},
   "outputs": [],
   "source": [
    "lst_col_one_value = find_col_high_rate_one_value(0.96)"
   ]
  },
  {
   "cell_type": "code",
   "execution_count": 19,
   "metadata": {},
   "outputs": [
    {
     "data": {
      "text/plain": [
       "['collections_12_mths_ex_med',\n",
       " 'application_type',\n",
       " 'acc_now_delinq',\n",
       " 'chargeoff_within_12_mths',\n",
       " 'delinq_amnt',\n",
       " 'num_tl_120dpd_2m',\n",
       " 'num_tl_30dpd',\n",
       " 'tax_liens',\n",
       " 'hardship_flag',\n",
       " 'debt_settlement_flag']"
      ]
     },
     "execution_count": 19,
     "metadata": {},
     "output_type": "execute_result"
    }
   ],
   "source": [
    "lst_col_one_value"
   ]
  },
  {
   "cell_type": "code",
   "execution_count": 20,
   "metadata": {},
   "outputs": [],
   "source": [
    "lst_col = [item for item in lst_col if item not in lst_col_one_value]"
   ]
  },
  {
   "cell_type": "code",
   "execution_count": 21,
   "metadata": {},
   "outputs": [
    {
     "data": {
      "text/plain": [
       "98"
      ]
     },
     "execution_count": 21,
     "metadata": {},
     "output_type": "execute_result"
    }
   ],
   "source": [
    "len(lst_col)"
   ]
  },
  {
   "cell_type": "code",
   "execution_count": 22,
   "metadata": {},
   "outputs": [],
   "source": [
    "## Remove the first two columns\n",
    "lst_col = lst_col[2:]"
   ]
  },
  {
   "cell_type": "code",
   "execution_count": 23,
   "metadata": {},
   "outputs": [],
   "source": [
    "## Remove target variable loan_status\n",
    "lst_col.remove(\"loan_status\")"
   ]
  },
  {
   "cell_type": "markdown",
   "metadata": {},
   "source": [
    "## Removing columns with high correlation\n"
   ]
  },
  {
   "cell_type": "code",
   "execution_count": 24,
   "metadata": {},
   "outputs": [],
   "source": [
    "def remove_col_highly_correlated (threshold):\n",
    "    # Create a correlation matrix from the dataframe\n",
    "    corr_matrix = df_data.corr ().abs ()\n",
    "    # Select the upper triangle of the matrix\n",
    "    upper = corr_matrix.where (np.triu (np.ones (corr_matrix.shape), k=1).astype (bool))\n",
    "    # Find the columns that have correlation greater than the threshold\n",
    "    to_drop = [column for column in upper.columns if any (upper [column] > threshold)]\n",
    "    \n",
    "    return to_drop"
   ]
  },
  {
   "cell_type": "code",
   "execution_count": 25,
   "metadata": {},
   "outputs": [],
   "source": [
    "lst_highly_correlated = remove_col_highly_correlated (0.96)"
   ]
  },
  {
   "cell_type": "code",
   "execution_count": 26,
   "metadata": {},
   "outputs": [],
   "source": [
    "lst_highly_correlated\n",
    "lst_col = [item for item in lst_col if item not in lst_highly_correlated]"
   ]
  },
  {
   "cell_type": "code",
   "execution_count": 27,
   "metadata": {},
   "outputs": [
    {
     "data": {
      "text/plain": [
       "86"
      ]
     },
     "execution_count": 27,
     "metadata": {},
     "output_type": "execute_result"
    }
   ],
   "source": [
    "len(lst_col)"
   ]
  },
  {
   "cell_type": "code",
   "execution_count": 28,
   "metadata": {},
   "outputs": [
    {
     "data": {
      "text/plain": [
       "mths_since_last_record            1551782\n",
       "mths_since_recent_bc_dlq          1424524\n",
       "mths_since_last_major_derog       1374422\n",
       "mths_since_recent_revol_delinq    1242670\n",
       "il_util                            988491\n",
       "                                   ...   \n",
       "pub_rec                                 0\n",
       "open_acc                                0\n",
       "fico_range_low                          0\n",
       "earliest_cr_line                        0\n",
       "loan_amnt                               0\n",
       "Length: 86, dtype: int64"
      ]
     },
     "execution_count": 28,
     "metadata": {},
     "output_type": "execute_result"
    }
   ],
   "source": [
    "df_data[lst_col].isna().sum().sort_values(ascending=False)"
   ]
  },
  {
   "cell_type": "code",
   "execution_count": 29,
   "metadata": {},
   "outputs": [
    {
     "data": {
      "text/html": [
       "<div>\n",
       "<style scoped>\n",
       "    .dataframe tbody tr th:only-of-type {\n",
       "        vertical-align: middle;\n",
       "    }\n",
       "\n",
       "    .dataframe tbody tr th {\n",
       "        vertical-align: top;\n",
       "    }\n",
       "\n",
       "    .dataframe thead th {\n",
       "        text-align: right;\n",
       "    }\n",
       "</style>\n",
       "<table border=\"1\" class=\"dataframe\">\n",
       "  <thead>\n",
       "    <tr style=\"text-align: right;\">\n",
       "      <th></th>\n",
       "      <th>loan_amnt</th>\n",
       "      <th>installment</th>\n",
       "      <th>annual_inc</th>\n",
       "      <th>dti</th>\n",
       "      <th>delinq_2yrs</th>\n",
       "      <th>fico_range_low</th>\n",
       "      <th>inq_last_6mths</th>\n",
       "      <th>mths_since_last_delinq</th>\n",
       "      <th>mths_since_last_record</th>\n",
       "      <th>open_acc</th>\n",
       "      <th>...</th>\n",
       "      <th>num_op_rev_tl</th>\n",
       "      <th>num_rev_accts</th>\n",
       "      <th>num_tl_90g_dpd_24m</th>\n",
       "      <th>num_tl_op_past_12m</th>\n",
       "      <th>pct_tl_nvr_dlq</th>\n",
       "      <th>percent_bc_gt_75</th>\n",
       "      <th>pub_rec_bankruptcies</th>\n",
       "      <th>total_bal_ex_mort</th>\n",
       "      <th>total_bc_limit</th>\n",
       "      <th>total_il_high_credit_limit</th>\n",
       "    </tr>\n",
       "  </thead>\n",
       "  <tbody>\n",
       "    <tr>\n",
       "      <th>count</th>\n",
       "      <td>1.860331e+06</td>\n",
       "      <td>1.860331e+06</td>\n",
       "      <td>1.860331e+06</td>\n",
       "      <td>1.859223e+06</td>\n",
       "      <td>1.860331e+06</td>\n",
       "      <td>1.860331e+06</td>\n",
       "      <td>1.860330e+06</td>\n",
       "      <td>915215.000000</td>\n",
       "      <td>308549.000000</td>\n",
       "      <td>1.860331e+06</td>\n",
       "      <td>...</td>\n",
       "      <td>1.792804e+06</td>\n",
       "      <td>1.792803e+06</td>\n",
       "      <td>1.792804e+06</td>\n",
       "      <td>1.792804e+06</td>\n",
       "      <td>1.792650e+06</td>\n",
       "      <td>1.792151e+06</td>\n",
       "      <td>1.859634e+06</td>\n",
       "      <td>1.813050e+06</td>\n",
       "      <td>1.813050e+06</td>\n",
       "      <td>1.792804e+06</td>\n",
       "    </tr>\n",
       "    <tr>\n",
       "      <th>mean</th>\n",
       "      <td>1.458827e+04</td>\n",
       "      <td>4.402559e+02</td>\n",
       "      <td>7.736956e+04</td>\n",
       "      <td>1.856774e+01</td>\n",
       "      <td>3.128750e-01</td>\n",
       "      <td>6.976785e+02</td>\n",
       "      <td>6.125763e-01</td>\n",
       "      <td>34.439362</td>\n",
       "      <td>71.670043</td>\n",
       "      <td>1.160594e+01</td>\n",
       "      <td>...</td>\n",
       "      <td>8.249852e+00</td>\n",
       "      <td>1.426274e+01</td>\n",
       "      <td>8.597872e-02</td>\n",
       "      <td>2.153039e+00</td>\n",
       "      <td>9.413233e+01</td>\n",
       "      <td>4.301692e+01</td>\n",
       "      <td>1.329122e-01</td>\n",
       "      <td>5.047443e+04</td>\n",
       "      <td>2.254080e+04</td>\n",
       "      <td>4.320236e+04</td>\n",
       "    </tr>\n",
       "    <tr>\n",
       "      <th>std</th>\n",
       "      <td>8.970471e+03</td>\n",
       "      <td>2.669094e+02</td>\n",
       "      <td>1.178218e+05</td>\n",
       "      <td>1.309153e+01</td>\n",
       "      <td>8.754565e-01</td>\n",
       "      <td>3.270865e+01</td>\n",
       "      <td>9.018184e-01</td>\n",
       "      <td>21.901007</td>\n",
       "      <td>26.469664</td>\n",
       "      <td>5.575507e+00</td>\n",
       "      <td>...</td>\n",
       "      <td>4.637602e+00</td>\n",
       "      <td>8.098850e+00</td>\n",
       "      <td>5.015067e-01</td>\n",
       "      <td>1.853129e+00</td>\n",
       "      <td>8.914342e+00</td>\n",
       "      <td>3.618057e+01</td>\n",
       "      <td>3.729492e-01</td>\n",
       "      <td>4.903623e+04</td>\n",
       "      <td>2.251148e+04</td>\n",
       "      <td>4.438071e+04</td>\n",
       "    </tr>\n",
       "    <tr>\n",
       "      <th>min</th>\n",
       "      <td>5.000000e+02</td>\n",
       "      <td>4.930000e+00</td>\n",
       "      <td>0.000000e+00</td>\n",
       "      <td>-1.000000e+00</td>\n",
       "      <td>0.000000e+00</td>\n",
       "      <td>6.250000e+02</td>\n",
       "      <td>0.000000e+00</td>\n",
       "      <td>0.000000</td>\n",
       "      <td>0.000000</td>\n",
       "      <td>0.000000e+00</td>\n",
       "      <td>...</td>\n",
       "      <td>0.000000e+00</td>\n",
       "      <td>0.000000e+00</td>\n",
       "      <td>0.000000e+00</td>\n",
       "      <td>0.000000e+00</td>\n",
       "      <td>0.000000e+00</td>\n",
       "      <td>0.000000e+00</td>\n",
       "      <td>0.000000e+00</td>\n",
       "      <td>0.000000e+00</td>\n",
       "      <td>0.000000e+00</td>\n",
       "      <td>0.000000e+00</td>\n",
       "    </tr>\n",
       "    <tr>\n",
       "      <th>25%</th>\n",
       "      <td>7.950000e+03</td>\n",
       "      <td>2.469900e+02</td>\n",
       "      <td>4.600000e+04</td>\n",
       "      <td>1.182000e+01</td>\n",
       "      <td>0.000000e+00</td>\n",
       "      <td>6.700000e+02</td>\n",
       "      <td>0.000000e+00</td>\n",
       "      <td>16.000000</td>\n",
       "      <td>54.000000</td>\n",
       "      <td>8.000000e+00</td>\n",
       "      <td>...</td>\n",
       "      <td>5.000000e+00</td>\n",
       "      <td>8.000000e+00</td>\n",
       "      <td>0.000000e+00</td>\n",
       "      <td>1.000000e+00</td>\n",
       "      <td>9.130000e+01</td>\n",
       "      <td>0.000000e+00</td>\n",
       "      <td>0.000000e+00</td>\n",
       "      <td>2.086100e+04</td>\n",
       "      <td>8.000000e+03</td>\n",
       "      <td>1.500000e+04</td>\n",
       "    </tr>\n",
       "    <tr>\n",
       "      <th>50%</th>\n",
       "      <td>1.200000e+04</td>\n",
       "      <td>3.736300e+02</td>\n",
       "      <td>6.500000e+04</td>\n",
       "      <td>1.771000e+01</td>\n",
       "      <td>0.000000e+00</td>\n",
       "      <td>6.900000e+02</td>\n",
       "      <td>0.000000e+00</td>\n",
       "      <td>31.000000</td>\n",
       "      <td>73.000000</td>\n",
       "      <td>1.100000e+01</td>\n",
       "      <td>...</td>\n",
       "      <td>7.000000e+00</td>\n",
       "      <td>1.300000e+01</td>\n",
       "      <td>0.000000e+00</td>\n",
       "      <td>2.000000e+00</td>\n",
       "      <td>9.860000e+01</td>\n",
       "      <td>4.000000e+01</td>\n",
       "      <td>0.000000e+00</td>\n",
       "      <td>3.761500e+04</td>\n",
       "      <td>1.580000e+04</td>\n",
       "      <td>3.239900e+04</td>\n",
       "    </tr>\n",
       "    <tr>\n",
       "      <th>75%</th>\n",
       "      <td>2.000000e+04</td>\n",
       "      <td>5.849600e+02</td>\n",
       "      <td>9.200000e+04</td>\n",
       "      <td>2.429000e+01</td>\n",
       "      <td>0.000000e+00</td>\n",
       "      <td>7.150000e+02</td>\n",
       "      <td>1.000000e+00</td>\n",
       "      <td>50.000000</td>\n",
       "      <td>92.000000</td>\n",
       "      <td>1.400000e+01</td>\n",
       "      <td>...</td>\n",
       "      <td>1.000000e+01</td>\n",
       "      <td>1.800000e+01</td>\n",
       "      <td>0.000000e+00</td>\n",
       "      <td>3.000000e+00</td>\n",
       "      <td>1.000000e+02</td>\n",
       "      <td>7.500000e+01</td>\n",
       "      <td>0.000000e+00</td>\n",
       "      <td>6.362000e+04</td>\n",
       "      <td>2.940000e+04</td>\n",
       "      <td>5.805100e+04</td>\n",
       "    </tr>\n",
       "    <tr>\n",
       "      <th>max</th>\n",
       "      <td>4.000000e+04</td>\n",
       "      <td>1.719830e+03</td>\n",
       "      <td>1.100000e+08</td>\n",
       "      <td>9.990000e+02</td>\n",
       "      <td>4.200000e+01</td>\n",
       "      <td>8.450000e+02</td>\n",
       "      <td>8.000000e+00</td>\n",
       "      <td>226.000000</td>\n",
       "      <td>129.000000</td>\n",
       "      <td>9.000000e+01</td>\n",
       "      <td>...</td>\n",
       "      <td>8.300000e+01</td>\n",
       "      <td>1.280000e+02</td>\n",
       "      <td>4.200000e+01</td>\n",
       "      <td>3.200000e+01</td>\n",
       "      <td>1.000000e+02</td>\n",
       "      <td>1.000000e+02</td>\n",
       "      <td>1.200000e+01</td>\n",
       "      <td>3.408095e+06</td>\n",
       "      <td>1.569000e+06</td>\n",
       "      <td>2.101913e+06</td>\n",
       "    </tr>\n",
       "  </tbody>\n",
       "</table>\n",
       "<p>8 rows × 67 columns</p>\n",
       "</div>"
      ],
      "text/plain": [
       "          loan_amnt   installment    annual_inc           dti   delinq_2yrs  \\\n",
       "count  1.860331e+06  1.860331e+06  1.860331e+06  1.859223e+06  1.860331e+06   \n",
       "mean   1.458827e+04  4.402559e+02  7.736956e+04  1.856774e+01  3.128750e-01   \n",
       "std    8.970471e+03  2.669094e+02  1.178218e+05  1.309153e+01  8.754565e-01   \n",
       "min    5.000000e+02  4.930000e+00  0.000000e+00 -1.000000e+00  0.000000e+00   \n",
       "25%    7.950000e+03  2.469900e+02  4.600000e+04  1.182000e+01  0.000000e+00   \n",
       "50%    1.200000e+04  3.736300e+02  6.500000e+04  1.771000e+01  0.000000e+00   \n",
       "75%    2.000000e+04  5.849600e+02  9.200000e+04  2.429000e+01  0.000000e+00   \n",
       "max    4.000000e+04  1.719830e+03  1.100000e+08  9.990000e+02  4.200000e+01   \n",
       "\n",
       "       fico_range_low  inq_last_6mths  mths_since_last_delinq  \\\n",
       "count    1.860331e+06    1.860330e+06           915215.000000   \n",
       "mean     6.976785e+02    6.125763e-01               34.439362   \n",
       "std      3.270865e+01    9.018184e-01               21.901007   \n",
       "min      6.250000e+02    0.000000e+00                0.000000   \n",
       "25%      6.700000e+02    0.000000e+00               16.000000   \n",
       "50%      6.900000e+02    0.000000e+00               31.000000   \n",
       "75%      7.150000e+02    1.000000e+00               50.000000   \n",
       "max      8.450000e+02    8.000000e+00              226.000000   \n",
       "\n",
       "       mths_since_last_record      open_acc  ...  num_op_rev_tl  \\\n",
       "count           308549.000000  1.860331e+06  ...   1.792804e+06   \n",
       "mean                71.670043  1.160594e+01  ...   8.249852e+00   \n",
       "std                 26.469664  5.575507e+00  ...   4.637602e+00   \n",
       "min                  0.000000  0.000000e+00  ...   0.000000e+00   \n",
       "25%                 54.000000  8.000000e+00  ...   5.000000e+00   \n",
       "50%                 73.000000  1.100000e+01  ...   7.000000e+00   \n",
       "75%                 92.000000  1.400000e+01  ...   1.000000e+01   \n",
       "max                129.000000  9.000000e+01  ...   8.300000e+01   \n",
       "\n",
       "       num_rev_accts  num_tl_90g_dpd_24m  num_tl_op_past_12m  pct_tl_nvr_dlq  \\\n",
       "count   1.792803e+06        1.792804e+06        1.792804e+06    1.792650e+06   \n",
       "mean    1.426274e+01        8.597872e-02        2.153039e+00    9.413233e+01   \n",
       "std     8.098850e+00        5.015067e-01        1.853129e+00    8.914342e+00   \n",
       "min     0.000000e+00        0.000000e+00        0.000000e+00    0.000000e+00   \n",
       "25%     8.000000e+00        0.000000e+00        1.000000e+00    9.130000e+01   \n",
       "50%     1.300000e+01        0.000000e+00        2.000000e+00    9.860000e+01   \n",
       "75%     1.800000e+01        0.000000e+00        3.000000e+00    1.000000e+02   \n",
       "max     1.280000e+02        4.200000e+01        3.200000e+01    1.000000e+02   \n",
       "\n",
       "       percent_bc_gt_75  pub_rec_bankruptcies  total_bal_ex_mort  \\\n",
       "count      1.792151e+06          1.859634e+06       1.813050e+06   \n",
       "mean       4.301692e+01          1.329122e-01       5.047443e+04   \n",
       "std        3.618057e+01          3.729492e-01       4.903623e+04   \n",
       "min        0.000000e+00          0.000000e+00       0.000000e+00   \n",
       "25%        0.000000e+00          0.000000e+00       2.086100e+04   \n",
       "50%        4.000000e+01          0.000000e+00       3.761500e+04   \n",
       "75%        7.500000e+01          0.000000e+00       6.362000e+04   \n",
       "max        1.000000e+02          1.200000e+01       3.408095e+06   \n",
       "\n",
       "       total_bc_limit  total_il_high_credit_limit  \n",
       "count    1.813050e+06                1.792804e+06  \n",
       "mean     2.254080e+04                4.320236e+04  \n",
       "std      2.251148e+04                4.438071e+04  \n",
       "min      0.000000e+00                0.000000e+00  \n",
       "25%      8.000000e+03                1.500000e+04  \n",
       "50%      1.580000e+04                3.239900e+04  \n",
       "75%      2.940000e+04                5.805100e+04  \n",
       "max      1.569000e+06                2.101913e+06  \n",
       "\n",
       "[8 rows x 67 columns]"
      ]
     },
     "execution_count": 29,
     "metadata": {},
     "output_type": "execute_result"
    }
   ],
   "source": [
    "df_data[lst_col].describe()"
   ]
  },
  {
   "cell_type": "code",
   "execution_count": 30,
   "metadata": {},
   "outputs": [],
   "source": [
    "catergorical_col = df_data[lst_col].select_dtypes(include=[\"object\"]).columns.to_list()"
   ]
  },
  {
   "cell_type": "code",
   "execution_count": 31,
   "metadata": {},
   "outputs": [
    {
     "data": {
      "text/plain": [
       "['term',\n",
       " 'int_rate',\n",
       " 'grade',\n",
       " 'sub_grade',\n",
       " 'emp_title',\n",
       " 'emp_length',\n",
       " 'home_ownership',\n",
       " 'verification_status',\n",
       " 'issue_d',\n",
       " 'url',\n",
       " 'purpose',\n",
       " 'title',\n",
       " 'zip_code',\n",
       " 'addr_state',\n",
       " 'earliest_cr_line',\n",
       " 'revol_util',\n",
       " 'initial_list_status',\n",
       " 'last_pymnt_d',\n",
       " 'last_credit_pull_d']"
      ]
     },
     "execution_count": 31,
     "metadata": {},
     "output_type": "execute_result"
    }
   ],
   "source": [
    "catergorical_col"
   ]
  },
  {
   "cell_type": "code",
   "execution_count": 32,
   "metadata": {},
   "outputs": [
    {
     "data": {
      "text/html": [
       "<div>\n",
       "<style scoped>\n",
       "    .dataframe tbody tr th:only-of-type {\n",
       "        vertical-align: middle;\n",
       "    }\n",
       "\n",
       "    .dataframe tbody tr th {\n",
       "        vertical-align: top;\n",
       "    }\n",
       "\n",
       "    .dataframe thead th {\n",
       "        text-align: right;\n",
       "    }\n",
       "</style>\n",
       "<table border=\"1\" class=\"dataframe\">\n",
       "  <thead>\n",
       "    <tr style=\"text-align: right;\">\n",
       "      <th></th>\n",
       "      <th>term</th>\n",
       "      <th>int_rate</th>\n",
       "      <th>grade</th>\n",
       "      <th>sub_grade</th>\n",
       "      <th>emp_title</th>\n",
       "      <th>emp_length</th>\n",
       "      <th>home_ownership</th>\n",
       "      <th>verification_status</th>\n",
       "      <th>issue_d</th>\n",
       "      <th>url</th>\n",
       "      <th>purpose</th>\n",
       "      <th>title</th>\n",
       "      <th>zip_code</th>\n",
       "      <th>addr_state</th>\n",
       "      <th>earliest_cr_line</th>\n",
       "      <th>revol_util</th>\n",
       "      <th>initial_list_status</th>\n",
       "      <th>last_pymnt_d</th>\n",
       "      <th>last_credit_pull_d</th>\n",
       "    </tr>\n",
       "  </thead>\n",
       "  <tbody>\n",
       "    <tr>\n",
       "      <th>0</th>\n",
       "      <td>36 months</td>\n",
       "      <td>10.65%</td>\n",
       "      <td>B</td>\n",
       "      <td>B2</td>\n",
       "      <td>NaN</td>\n",
       "      <td>10+ years</td>\n",
       "      <td>RENT</td>\n",
       "      <td>Verified</td>\n",
       "      <td>Dec-2011</td>\n",
       "      <td>https://lendingclub.com/browse/loanDetail.acti...</td>\n",
       "      <td>credit_card</td>\n",
       "      <td>Computer</td>\n",
       "      <td>860xx</td>\n",
       "      <td>AZ</td>\n",
       "      <td>Jan-1985</td>\n",
       "      <td>83.7%</td>\n",
       "      <td>f</td>\n",
       "      <td>Jan-2015</td>\n",
       "      <td>May-2020</td>\n",
       "    </tr>\n",
       "    <tr>\n",
       "      <th>1</th>\n",
       "      <td>60 months</td>\n",
       "      <td>15.27%</td>\n",
       "      <td>C</td>\n",
       "      <td>C4</td>\n",
       "      <td>Ryder</td>\n",
       "      <td>&lt; 1 year</td>\n",
       "      <td>RENT</td>\n",
       "      <td>Source Verified</td>\n",
       "      <td>Dec-2011</td>\n",
       "      <td>https://lendingclub.com/browse/loanDetail.acti...</td>\n",
       "      <td>car</td>\n",
       "      <td>bike</td>\n",
       "      <td>309xx</td>\n",
       "      <td>GA</td>\n",
       "      <td>Apr-1999</td>\n",
       "      <td>9.4%</td>\n",
       "      <td>f</td>\n",
       "      <td>Apr-2013</td>\n",
       "      <td>Oct-2016</td>\n",
       "    </tr>\n",
       "    <tr>\n",
       "      <th>2</th>\n",
       "      <td>36 months</td>\n",
       "      <td>15.96%</td>\n",
       "      <td>C</td>\n",
       "      <td>C5</td>\n",
       "      <td>NaN</td>\n",
       "      <td>10+ years</td>\n",
       "      <td>RENT</td>\n",
       "      <td>Not Verified</td>\n",
       "      <td>Dec-2011</td>\n",
       "      <td>https://lendingclub.com/browse/loanDetail.acti...</td>\n",
       "      <td>small_business</td>\n",
       "      <td>real estate business</td>\n",
       "      <td>606xx</td>\n",
       "      <td>IL</td>\n",
       "      <td>Nov-2001</td>\n",
       "      <td>98.5%</td>\n",
       "      <td>f</td>\n",
       "      <td>Jun-2014</td>\n",
       "      <td>Jun-2017</td>\n",
       "    </tr>\n",
       "    <tr>\n",
       "      <th>3</th>\n",
       "      <td>36 months</td>\n",
       "      <td>13.49%</td>\n",
       "      <td>C</td>\n",
       "      <td>C1</td>\n",
       "      <td>AIR RESOURCES BOARD</td>\n",
       "      <td>10+ years</td>\n",
       "      <td>RENT</td>\n",
       "      <td>Source Verified</td>\n",
       "      <td>Dec-2011</td>\n",
       "      <td>https://lendingclub.com/browse/loanDetail.acti...</td>\n",
       "      <td>other</td>\n",
       "      <td>personel</td>\n",
       "      <td>917xx</td>\n",
       "      <td>CA</td>\n",
       "      <td>Feb-1996</td>\n",
       "      <td>21%</td>\n",
       "      <td>f</td>\n",
       "      <td>Jan-2015</td>\n",
       "      <td>Apr-2016</td>\n",
       "    </tr>\n",
       "    <tr>\n",
       "      <th>4</th>\n",
       "      <td>60 months</td>\n",
       "      <td>12.69%</td>\n",
       "      <td>B</td>\n",
       "      <td>B5</td>\n",
       "      <td>University Medical Group</td>\n",
       "      <td>1 year</td>\n",
       "      <td>RENT</td>\n",
       "      <td>Source Verified</td>\n",
       "      <td>Dec-2011</td>\n",
       "      <td>https://lendingclub.com/browse/loanDetail.acti...</td>\n",
       "      <td>other</td>\n",
       "      <td>Personal</td>\n",
       "      <td>972xx</td>\n",
       "      <td>OR</td>\n",
       "      <td>Jan-1996</td>\n",
       "      <td>53.9%</td>\n",
       "      <td>f</td>\n",
       "      <td>Jan-2017</td>\n",
       "      <td>Apr-2018</td>\n",
       "    </tr>\n",
       "    <tr>\n",
       "      <th>...</th>\n",
       "      <td>...</td>\n",
       "      <td>...</td>\n",
       "      <td>...</td>\n",
       "      <td>...</td>\n",
       "      <td>...</td>\n",
       "      <td>...</td>\n",
       "      <td>...</td>\n",
       "      <td>...</td>\n",
       "      <td>...</td>\n",
       "      <td>...</td>\n",
       "      <td>...</td>\n",
       "      <td>...</td>\n",
       "      <td>...</td>\n",
       "      <td>...</td>\n",
       "      <td>...</td>\n",
       "      <td>...</td>\n",
       "      <td>...</td>\n",
       "      <td>...</td>\n",
       "      <td>...</td>\n",
       "    </tr>\n",
       "    <tr>\n",
       "      <th>2925488</th>\n",
       "      <td>60 months</td>\n",
       "      <td>23.99%</td>\n",
       "      <td>E</td>\n",
       "      <td>E2</td>\n",
       "      <td>Senior Escrow Officer</td>\n",
       "      <td>&lt; 1 year</td>\n",
       "      <td>RENT</td>\n",
       "      <td>Source Verified</td>\n",
       "      <td>Apr-2017</td>\n",
       "      <td>https://lendingclub.com/browse/loanDetail.acti...</td>\n",
       "      <td>other</td>\n",
       "      <td>Other</td>\n",
       "      <td>801xx</td>\n",
       "      <td>CO</td>\n",
       "      <td>Apr-1995</td>\n",
       "      <td>24.9%</td>\n",
       "      <td>f</td>\n",
       "      <td>Mar-2018</td>\n",
       "      <td>May-2020</td>\n",
       "    </tr>\n",
       "    <tr>\n",
       "      <th>2925489</th>\n",
       "      <td>36 months</td>\n",
       "      <td>7.99%</td>\n",
       "      <td>A</td>\n",
       "      <td>A5</td>\n",
       "      <td>Rn</td>\n",
       "      <td>10+ years</td>\n",
       "      <td>MORTGAGE</td>\n",
       "      <td>Source Verified</td>\n",
       "      <td>Apr-2017</td>\n",
       "      <td>https://lendingclub.com/browse/loanDetail.acti...</td>\n",
       "      <td>debt_consolidation</td>\n",
       "      <td>Debt consolidation</td>\n",
       "      <td>187xx</td>\n",
       "      <td>PA</td>\n",
       "      <td>Sep-1993</td>\n",
       "      <td>15.7%</td>\n",
       "      <td>w</td>\n",
       "      <td>Oct-2019</td>\n",
       "      <td>Oct-2019</td>\n",
       "    </tr>\n",
       "    <tr>\n",
       "      <th>2925490</th>\n",
       "      <td>36 months</td>\n",
       "      <td>16.99%</td>\n",
       "      <td>D</td>\n",
       "      <td>D1</td>\n",
       "      <td>Sales Associate</td>\n",
       "      <td>8 years</td>\n",
       "      <td>RENT</td>\n",
       "      <td>Not Verified</td>\n",
       "      <td>Apr-2017</td>\n",
       "      <td>https://lendingclub.com/browse/loanDetail.acti...</td>\n",
       "      <td>debt_consolidation</td>\n",
       "      <td>Debt consolidation</td>\n",
       "      <td>220xx</td>\n",
       "      <td>VA</td>\n",
       "      <td>May-1993</td>\n",
       "      <td>47%</td>\n",
       "      <td>w</td>\n",
       "      <td>May-2019</td>\n",
       "      <td>Nov-2019</td>\n",
       "    </tr>\n",
       "    <tr>\n",
       "      <th>2925491</th>\n",
       "      <td>36 months</td>\n",
       "      <td>11.44%</td>\n",
       "      <td>B</td>\n",
       "      <td>B4</td>\n",
       "      <td>Contact input</td>\n",
       "      <td>5 years</td>\n",
       "      <td>RENT</td>\n",
       "      <td>Source Verified</td>\n",
       "      <td>Apr-2017</td>\n",
       "      <td>https://lendingclub.com/browse/loanDetail.acti...</td>\n",
       "      <td>credit_card</td>\n",
       "      <td>Credit card refinancing</td>\n",
       "      <td>105xx</td>\n",
       "      <td>NY</td>\n",
       "      <td>May-1990</td>\n",
       "      <td>10.1%</td>\n",
       "      <td>w</td>\n",
       "      <td>Jan-2019</td>\n",
       "      <td>Mar-2020</td>\n",
       "    </tr>\n",
       "    <tr>\n",
       "      <th>2925492</th>\n",
       "      <td>60 months</td>\n",
       "      <td>25.49%</td>\n",
       "      <td>E</td>\n",
       "      <td>E4</td>\n",
       "      <td>Assistant Manager</td>\n",
       "      <td>4 years</td>\n",
       "      <td>MORTGAGE</td>\n",
       "      <td>Verified</td>\n",
       "      <td>Apr-2017</td>\n",
       "      <td>https://lendingclub.com/browse/loanDetail.acti...</td>\n",
       "      <td>debt_consolidation</td>\n",
       "      <td>Debt consolidation</td>\n",
       "      <td>797xx</td>\n",
       "      <td>TX</td>\n",
       "      <td>Nov-1997</td>\n",
       "      <td>72.6%</td>\n",
       "      <td>w</td>\n",
       "      <td>Oct-2017</td>\n",
       "      <td>Nov-2017</td>\n",
       "    </tr>\n",
       "  </tbody>\n",
       "</table>\n",
       "<p>1860331 rows × 19 columns</p>\n",
       "</div>"
      ],
      "text/plain": [
       "               term int_rate grade sub_grade                 emp_title  \\\n",
       "0         36 months   10.65%     B        B2                       NaN   \n",
       "1         60 months   15.27%     C        C4                     Ryder   \n",
       "2         36 months   15.96%     C        C5                       NaN   \n",
       "3         36 months   13.49%     C        C1       AIR RESOURCES BOARD   \n",
       "4         60 months   12.69%     B        B5  University Medical Group   \n",
       "...             ...      ...   ...       ...                       ...   \n",
       "2925488   60 months   23.99%     E        E2     Senior Escrow Officer   \n",
       "2925489   36 months    7.99%     A        A5                        Rn   \n",
       "2925490   36 months   16.99%     D        D1           Sales Associate   \n",
       "2925491   36 months   11.44%     B        B4             Contact input   \n",
       "2925492   60 months   25.49%     E        E4         Assistant Manager   \n",
       "\n",
       "        emp_length home_ownership verification_status   issue_d  \\\n",
       "0        10+ years           RENT            Verified  Dec-2011   \n",
       "1         < 1 year           RENT     Source Verified  Dec-2011   \n",
       "2        10+ years           RENT        Not Verified  Dec-2011   \n",
       "3        10+ years           RENT     Source Verified  Dec-2011   \n",
       "4           1 year           RENT     Source Verified  Dec-2011   \n",
       "...            ...            ...                 ...       ...   \n",
       "2925488   < 1 year           RENT     Source Verified  Apr-2017   \n",
       "2925489  10+ years       MORTGAGE     Source Verified  Apr-2017   \n",
       "2925490    8 years           RENT        Not Verified  Apr-2017   \n",
       "2925491    5 years           RENT     Source Verified  Apr-2017   \n",
       "2925492    4 years       MORTGAGE            Verified  Apr-2017   \n",
       "\n",
       "                                                       url  \\\n",
       "0        https://lendingclub.com/browse/loanDetail.acti...   \n",
       "1        https://lendingclub.com/browse/loanDetail.acti...   \n",
       "2        https://lendingclub.com/browse/loanDetail.acti...   \n",
       "3        https://lendingclub.com/browse/loanDetail.acti...   \n",
       "4        https://lendingclub.com/browse/loanDetail.acti...   \n",
       "...                                                    ...   \n",
       "2925488  https://lendingclub.com/browse/loanDetail.acti...   \n",
       "2925489  https://lendingclub.com/browse/loanDetail.acti...   \n",
       "2925490  https://lendingclub.com/browse/loanDetail.acti...   \n",
       "2925491  https://lendingclub.com/browse/loanDetail.acti...   \n",
       "2925492  https://lendingclub.com/browse/loanDetail.acti...   \n",
       "\n",
       "                    purpose                    title zip_code addr_state  \\\n",
       "0               credit_card                 Computer    860xx         AZ   \n",
       "1                       car                     bike    309xx         GA   \n",
       "2            small_business     real estate business    606xx         IL   \n",
       "3                     other                 personel    917xx         CA   \n",
       "4                     other                 Personal    972xx         OR   \n",
       "...                     ...                      ...      ...        ...   \n",
       "2925488               other                    Other    801xx         CO   \n",
       "2925489  debt_consolidation       Debt consolidation    187xx         PA   \n",
       "2925490  debt_consolidation       Debt consolidation    220xx         VA   \n",
       "2925491         credit_card  Credit card refinancing    105xx         NY   \n",
       "2925492  debt_consolidation       Debt consolidation    797xx         TX   \n",
       "\n",
       "        earliest_cr_line revol_util initial_list_status last_pymnt_d  \\\n",
       "0               Jan-1985      83.7%                   f     Jan-2015   \n",
       "1               Apr-1999       9.4%                   f     Apr-2013   \n",
       "2               Nov-2001      98.5%                   f     Jun-2014   \n",
       "3               Feb-1996        21%                   f     Jan-2015   \n",
       "4               Jan-1996      53.9%                   f     Jan-2017   \n",
       "...                  ...        ...                 ...          ...   \n",
       "2925488         Apr-1995      24.9%                   f     Mar-2018   \n",
       "2925489         Sep-1993      15.7%                   w     Oct-2019   \n",
       "2925490         May-1993        47%                   w     May-2019   \n",
       "2925491         May-1990      10.1%                   w     Jan-2019   \n",
       "2925492         Nov-1997      72.6%                   w     Oct-2017   \n",
       "\n",
       "        last_credit_pull_d  \n",
       "0                 May-2020  \n",
       "1                 Oct-2016  \n",
       "2                 Jun-2017  \n",
       "3                 Apr-2016  \n",
       "4                 Apr-2018  \n",
       "...                    ...  \n",
       "2925488           May-2020  \n",
       "2925489           Oct-2019  \n",
       "2925490           Nov-2019  \n",
       "2925491           Mar-2020  \n",
       "2925492           Nov-2017  \n",
       "\n",
       "[1860331 rows x 19 columns]"
      ]
     },
     "execution_count": 32,
     "metadata": {},
     "output_type": "execute_result"
    }
   ],
   "source": [
    "df_data[catergorical_col]"
   ]
  },
  {
   "cell_type": "code",
   "execution_count": 63,
   "metadata": {},
   "outputs": [],
   "source": [
    "# Remove url column\n",
    "lst_col.remove(\"url\")\n",
    "catergorical_col.remove(\"url\")"
   ]
  },
  {
   "cell_type": "code",
   "execution_count": 64,
   "metadata": {},
   "outputs": [],
   "source": [
    "# Remove % sign for columns int_rate, revol_util and convert to nummerical type\n",
    "df_data[\"int_rate\"] =   pd.to_numeric(df_data[\"int_rate\"].str.replace(\"%\", \"\"))\n",
    "df_data[\"revol_util\"] =   pd.to_numeric(df_data[\"revol_util\"].str.replace(\"%\", \"\"))\n"
   ]
  },
  {
   "cell_type": "code",
   "execution_count": 46,
   "metadata": {},
   "outputs": [],
   "source": [
    "# Remove two columns from categorical columns\n",
    "catergorical_col.remove(\"int_rate\")\n",
    "catergorical_col.remove(\"revol_util\")"
   ]
  },
  {
   "cell_type": "code",
   "execution_count": 35,
   "metadata": {},
   "outputs": [
    {
     "name": "stderr",
     "output_type": "stream",
     "text": [
      "C:\\Users\\Pham Thi Ngan\\AppData\\Local\\Temp\\ipykernel_17444\\1204347121.py:2: SettingWithCopyWarning: \n",
      "A value is trying to be set on a copy of a slice from a DataFrame.\n",
      "Try using .loc[row_indexer,col_indexer] = value instead\n",
      "\n",
      "See the caveats in the documentation: https://pandas.pydata.org/pandas-docs/stable/user_guide/indexing.html#returning-a-view-versus-a-copy\n",
      "  df_data.loc[:, \"issue_d\"] = pd.to_datetime(df_data[\"issue_d\"])\n",
      "C:\\Users\\Pham Thi Ngan\\AppData\\Local\\Temp\\ipykernel_17444\\1204347121.py:3: SettingWithCopyWarning: \n",
      "A value is trying to be set on a copy of a slice from a DataFrame.\n",
      "Try using .loc[row_indexer,col_indexer] = value instead\n",
      "\n",
      "See the caveats in the documentation: https://pandas.pydata.org/pandas-docs/stable/user_guide/indexing.html#returning-a-view-versus-a-copy\n",
      "  df_data.loc[:, \"earliest_cr_line\"] = pd.to_datetime(df_data[\"earliest_cr_line\"])\n",
      "C:\\Users\\Pham Thi Ngan\\AppData\\Local\\Temp\\ipykernel_17444\\1204347121.py:4: SettingWithCopyWarning: \n",
      "A value is trying to be set on a copy of a slice from a DataFrame.\n",
      "Try using .loc[row_indexer,col_indexer] = value instead\n",
      "\n",
      "See the caveats in the documentation: https://pandas.pydata.org/pandas-docs/stable/user_guide/indexing.html#returning-a-view-versus-a-copy\n",
      "  df_data.loc[:, \"last_pymnt_d\"] = pd.to_datetime(df_data[\"last_pymnt_d\"])\n",
      "C:\\Users\\Pham Thi Ngan\\AppData\\Local\\Temp\\ipykernel_17444\\1204347121.py:5: SettingWithCopyWarning: \n",
      "A value is trying to be set on a copy of a slice from a DataFrame.\n",
      "Try using .loc[row_indexer,col_indexer] = value instead\n",
      "\n",
      "See the caveats in the documentation: https://pandas.pydata.org/pandas-docs/stable/user_guide/indexing.html#returning-a-view-versus-a-copy\n",
      "  df_data.loc[:, \"last_credit_pull_d\"] = pd.to_datetime(df_data[\"last_credit_pull_d\"])\n"
     ]
    }
   ],
   "source": [
    "# Convert columns issue_d, earliest_cr_line, last_pymnt_d, last_credit_pull_d to Datetime\n",
    "df_data.loc[:, \"issue_d\"] = pd.to_datetime(df_data[\"issue_d\"])\n",
    "df_data.loc[:, \"earliest_cr_line\"] = pd.to_datetime(df_data[\"earliest_cr_line\"])\n",
    "df_data.loc[:, \"last_pymnt_d\"] = pd.to_datetime(df_data[\"last_pymnt_d\"])\n",
    "df_data.loc[:, \"last_credit_pull_d\"] = pd.to_datetime(df_data[\"last_credit_pull_d\"])\n"
   ]
  },
  {
   "cell_type": "code",
   "execution_count": 47,
   "metadata": {},
   "outputs": [],
   "source": [
    "catergorical_col.remove(\"issue_d\")\n",
    "catergorical_col.remove(\"earliest_cr_line\")\n",
    "catergorical_col.remove(\"last_pymnt_d\")\n",
    "catergorical_col.remove(\"last_credit_pull_d\")"
   ]
  },
  {
   "cell_type": "code",
   "execution_count": 48,
   "metadata": {},
   "outputs": [
    {
     "name": "stdout",
     "output_type": "stream",
     "text": [
      "<class 'pandas.core.frame.DataFrame'>\n",
      "Int64Index: 1860331 entries, 0 to 2925492\n",
      "Data columns (total 85 columns):\n",
      " #   Column                          Dtype         \n",
      "---  ------                          -----         \n",
      " 0   loan_amnt                       float64       \n",
      " 1   term                            object        \n",
      " 2   int_rate                        float64       \n",
      " 3   installment                     float64       \n",
      " 4   grade                           object        \n",
      " 5   sub_grade                       object        \n",
      " 6   emp_title                       object        \n",
      " 7   emp_length                      object        \n",
      " 8   home_ownership                  object        \n",
      " 9   annual_inc                      float64       \n",
      " 10  verification_status             object        \n",
      " 11  issue_d                         datetime64[ns]\n",
      " 12  purpose                         object        \n",
      " 13  title                           object        \n",
      " 14  zip_code                        object        \n",
      " 15  addr_state                      object        \n",
      " 16  dti                             float64       \n",
      " 17  delinq_2yrs                     float64       \n",
      " 18  earliest_cr_line                datetime64[ns]\n",
      " 19  fico_range_low                  float64       \n",
      " 20  inq_last_6mths                  float64       \n",
      " 21  mths_since_last_delinq          float64       \n",
      " 22  mths_since_last_record          float64       \n",
      " 23  open_acc                        float64       \n",
      " 24  pub_rec                         float64       \n",
      " 25  revol_bal                       float64       \n",
      " 26  revol_util                      float64       \n",
      " 27  total_acc                       float64       \n",
      " 28  initial_list_status             object        \n",
      " 29  total_pymnt                     float64       \n",
      " 30  total_rec_int                   float64       \n",
      " 31  total_rec_late_fee              float64       \n",
      " 32  recoveries                      float64       \n",
      " 33  last_pymnt_d                    datetime64[ns]\n",
      " 34  last_pymnt_amnt                 float64       \n",
      " 35  last_credit_pull_d              datetime64[ns]\n",
      " 36  last_fico_range_high            float64       \n",
      " 37  last_fico_range_low             float64       \n",
      " 38  mths_since_last_major_derog     float64       \n",
      " 39  tot_coll_amt                    float64       \n",
      " 40  tot_cur_bal                     float64       \n",
      " 41  open_acc_6m                     float64       \n",
      " 42  open_act_il                     float64       \n",
      " 43  open_il_12m                     float64       \n",
      " 44  open_il_24m                     float64       \n",
      " 45  mths_since_rcnt_il              float64       \n",
      " 46  total_bal_il                    float64       \n",
      " 47  il_util                         float64       \n",
      " 48  open_rv_12m                     float64       \n",
      " 49  open_rv_24m                     float64       \n",
      " 50  max_bal_bc                      float64       \n",
      " 51  all_util                        float64       \n",
      " 52  total_rev_hi_lim                float64       \n",
      " 53  inq_fi                          float64       \n",
      " 54  total_cu_tl                     float64       \n",
      " 55  inq_last_12m                    float64       \n",
      " 56  acc_open_past_24mths            float64       \n",
      " 57  avg_cur_bal                     float64       \n",
      " 58  bc_open_to_buy                  float64       \n",
      " 59  bc_util                         float64       \n",
      " 60  mo_sin_old_il_acct              float64       \n",
      " 61  mo_sin_old_rev_tl_op            float64       \n",
      " 62  mo_sin_rcnt_rev_tl_op           float64       \n",
      " 63  mo_sin_rcnt_tl                  float64       \n",
      " 64  mort_acc                        float64       \n",
      " 65  mths_since_recent_bc            float64       \n",
      " 66  mths_since_recent_bc_dlq        float64       \n",
      " 67  mths_since_recent_inq           float64       \n",
      " 68  mths_since_recent_revol_delinq  float64       \n",
      " 69  num_accts_ever_120_pd           float64       \n",
      " 70  num_actv_bc_tl                  float64       \n",
      " 71  num_actv_rev_tl                 float64       \n",
      " 72  num_bc_sats                     float64       \n",
      " 73  num_bc_tl                       float64       \n",
      " 74  num_il_tl                       float64       \n",
      " 75  num_op_rev_tl                   float64       \n",
      " 76  num_rev_accts                   float64       \n",
      " 77  num_tl_90g_dpd_24m              float64       \n",
      " 78  num_tl_op_past_12m              float64       \n",
      " 79  pct_tl_nvr_dlq                  float64       \n",
      " 80  percent_bc_gt_75                float64       \n",
      " 81  pub_rec_bankruptcies            float64       \n",
      " 82  total_bal_ex_mort               float64       \n",
      " 83  total_bc_limit                  float64       \n",
      " 84  total_il_high_credit_limit      float64       \n",
      "dtypes: datetime64[ns](4), float64(69), object(12)\n",
      "memory usage: 1.3+ GB\n"
     ]
    }
   ],
   "source": [
    "df_data[lst_col].info()"
   ]
  },
  {
   "cell_type": "code",
   "execution_count": 53,
   "metadata": {},
   "outputs": [],
   "source": [
    "nummerical_col = df_data[lst_col].select_dtypes(exclude=[\"object\", \"datetime64\"]).columns.to_list()\n",
    "datetime_col = df_data[lst_col].select_dtypes(include=[\"datetime64\"]).columns.to_list()"
   ]
  },
  {
   "cell_type": "code",
   "execution_count": 65,
   "metadata": {},
   "outputs": [
    {
     "data": {
      "text/plain": [
       "term                        2\n",
       "grade                       7\n",
       "sub_grade                  35\n",
       "emp_title              456676\n",
       "emp_length                 11\n",
       "home_ownership              6\n",
       "verification_status         3\n",
       "purpose                    14\n",
       "title                   61685\n",
       "zip_code                  949\n",
       "addr_state                 51\n",
       "initial_list_status         2\n",
       "dtype: int64"
      ]
     },
     "execution_count": 65,
     "metadata": {},
     "output_type": "execute_result"
    }
   ],
   "source": [
    "df_data[catergorical_col].nunique()"
   ]
  },
  {
   "cell_type": "code",
   "execution_count": 100,
   "metadata": {},
   "outputs": [
    {
     "data": {
      "text/plain": [
       "term                        2\n",
       "grade                       7\n",
       "sub_grade                  35\n",
       "emp_title              456676\n",
       "emp_length                 12\n",
       "home_ownership              6\n",
       "verification_status         3\n",
       "purpose                    14\n",
       "title                   61685\n",
       "zip_code                  950\n",
       "addr_state                 51\n",
       "initial_list_status         2\n",
       "dtype: int64"
      ]
     },
     "execution_count": 100,
     "metadata": {},
     "output_type": "execute_result"
    }
   ],
   "source": [
    "df_data[catergorical_col].fillna(\"Other\").nunique()"
   ]
  },
  {
   "cell_type": "markdown",
   "metadata": {},
   "source": [
    "## Feature important"
   ]
  },
  {
   "cell_type": "code",
   "execution_count": 74,
   "metadata": {},
   "outputs": [
    {
     "name": "stderr",
     "output_type": "stream",
     "text": [
      "C:\\Users\\Pham Thi Ngan\\AppData\\Local\\Temp\\ipykernel_17444\\2199348917.py:1: SettingWithCopyWarning: \n",
      "A value is trying to be set on a copy of a slice from a DataFrame.\n",
      "Try using .loc[row_indexer,col_indexer] = value instead\n",
      "\n",
      "See the caveats in the documentation: https://pandas.pydata.org/pandas-docs/stable/user_guide/indexing.html#returning-a-view-versus-a-copy\n",
      "  df_data[\"loan_status\"] = df_data[\"loan_status\"].apply(lambda x: 1 if x==\"Charged Off\" else 0)\n"
     ]
    }
   ],
   "source": [
    "df_data[\"loan_status\"] = df_data[\"loan_status\"].apply(lambda x: 1 if x==\"Charged Off\" else 0)"
   ]
  },
  {
   "cell_type": "code",
   "execution_count": 78,
   "metadata": {},
   "outputs": [],
   "source": [
    "def mutual_information_loan_status(series):\n",
    "    return mutual_info_score(series, df_data.loan_status)"
   ]
  },
  {
   "cell_type": "code",
   "execution_count": 82,
   "metadata": {},
   "outputs": [
    {
     "data": {
      "text/plain": [
       "term                   0.013186\n",
       "grade                  0.031911\n",
       "sub_grade              0.033914\n",
       "emp_title              0.133391\n",
       "emp_length             0.001097\n",
       "home_ownership         0.002363\n",
       "verification_status    0.003411\n",
       "purpose                0.001308\n",
       "title                  0.016734\n",
       "zip_code               0.002328\n",
       "addr_state             0.001184\n",
       "initial_list_status    0.000029\n",
       "dtype: float64"
      ]
     },
     "execution_count": 82,
     "metadata": {},
     "output_type": "execute_result"
    }
   ],
   "source": [
    "df_data[catergorical_col].fillna(\"Other\").apply(mutual_information_loan_status)"
   ]
  },
  {
   "cell_type": "code",
   "execution_count": 87,
   "metadata": {},
   "outputs": [
    {
     "data": {
      "text/plain": [
       "last_fico_range_high    0.646973\n",
       "last_fico_range_low     0.561398\n",
       "recoveries              0.518715\n",
       "last_pymnt_amnt         0.329065\n",
       "total_pymnt             0.293245\n",
       "int_rate                0.253294\n",
       "total_rec_late_fee      0.129063\n",
       "fico_range_low          0.120516\n",
       "acc_open_past_24mths    0.094257\n",
       "open_rv_24m             0.084143\n",
       "dtype: float64"
      ]
     },
     "execution_count": 87,
     "metadata": {},
     "output_type": "execute_result"
    }
   ],
   "source": [
    "df_data[nummerical_col].corrwith(df_data.loan_status).abs().sort_values(ascending=False).head(10)"
   ]
  },
  {
   "cell_type": "code",
   "execution_count": 96,
   "metadata": {},
   "outputs": [
    {
     "data": {
      "text/html": [
       "<div>\n",
       "<style scoped>\n",
       "    .dataframe tbody tr th:only-of-type {\n",
       "        vertical-align: middle;\n",
       "    }\n",
       "\n",
       "    .dataframe tbody tr th {\n",
       "        vertical-align: top;\n",
       "    }\n",
       "\n",
       "    .dataframe thead th {\n",
       "        text-align: right;\n",
       "    }\n",
       "</style>\n",
       "<table border=\"1\" class=\"dataframe\">\n",
       "  <thead>\n",
       "    <tr style=\"text-align: right;\">\n",
       "      <th></th>\n",
       "      <th>last_fico_range_high</th>\n",
       "      <th>last_fico_range_low</th>\n",
       "      <th>recoveries</th>\n",
       "      <th>int_rate</th>\n",
       "    </tr>\n",
       "  </thead>\n",
       "  <tbody>\n",
       "    <tr>\n",
       "      <th>0</th>\n",
       "      <td>704.0</td>\n",
       "      <td>700.0</td>\n",
       "      <td>0.00</td>\n",
       "      <td>10.65</td>\n",
       "    </tr>\n",
       "    <tr>\n",
       "      <th>1</th>\n",
       "      <td>499.0</td>\n",
       "      <td>0.0</td>\n",
       "      <td>122.90</td>\n",
       "      <td>15.27</td>\n",
       "    </tr>\n",
       "    <tr>\n",
       "      <th>2</th>\n",
       "      <td>739.0</td>\n",
       "      <td>735.0</td>\n",
       "      <td>0.00</td>\n",
       "      <td>15.96</td>\n",
       "    </tr>\n",
       "    <tr>\n",
       "      <th>3</th>\n",
       "      <td>604.0</td>\n",
       "      <td>600.0</td>\n",
       "      <td>0.00</td>\n",
       "      <td>13.49</td>\n",
       "    </tr>\n",
       "    <tr>\n",
       "      <th>4</th>\n",
       "      <td>684.0</td>\n",
       "      <td>680.0</td>\n",
       "      <td>0.00</td>\n",
       "      <td>12.69</td>\n",
       "    </tr>\n",
       "    <tr>\n",
       "      <th>...</th>\n",
       "      <td>...</td>\n",
       "      <td>...</td>\n",
       "      <td>...</td>\n",
       "      <td>...</td>\n",
       "    </tr>\n",
       "    <tr>\n",
       "      <th>2925488</th>\n",
       "      <td>504.0</td>\n",
       "      <td>500.0</td>\n",
       "      <td>0.00</td>\n",
       "      <td>23.99</td>\n",
       "    </tr>\n",
       "    <tr>\n",
       "      <th>2925489</th>\n",
       "      <td>769.0</td>\n",
       "      <td>765.0</td>\n",
       "      <td>0.00</td>\n",
       "      <td>7.99</td>\n",
       "    </tr>\n",
       "    <tr>\n",
       "      <th>2925490</th>\n",
       "      <td>539.0</td>\n",
       "      <td>535.0</td>\n",
       "      <td>537.87</td>\n",
       "      <td>16.99</td>\n",
       "    </tr>\n",
       "    <tr>\n",
       "      <th>2925491</th>\n",
       "      <td>764.0</td>\n",
       "      <td>760.0</td>\n",
       "      <td>0.00</td>\n",
       "      <td>11.44</td>\n",
       "    </tr>\n",
       "    <tr>\n",
       "      <th>2925492</th>\n",
       "      <td>579.0</td>\n",
       "      <td>575.0</td>\n",
       "      <td>4253.43</td>\n",
       "      <td>25.49</td>\n",
       "    </tr>\n",
       "  </tbody>\n",
       "</table>\n",
       "<p>1860331 rows × 4 columns</p>\n",
       "</div>"
      ],
      "text/plain": [
       "         last_fico_range_high  last_fico_range_low  recoveries  int_rate\n",
       "0                       704.0                700.0        0.00     10.65\n",
       "1                       499.0                  0.0      122.90     15.27\n",
       "2                       739.0                735.0        0.00     15.96\n",
       "3                       604.0                600.0        0.00     13.49\n",
       "4                       684.0                680.0        0.00     12.69\n",
       "...                       ...                  ...         ...       ...\n",
       "2925488                 504.0                500.0        0.00     23.99\n",
       "2925489                 769.0                765.0        0.00      7.99\n",
       "2925490                 539.0                535.0      537.87     16.99\n",
       "2925491                 764.0                760.0        0.00     11.44\n",
       "2925492                 579.0                575.0     4253.43     25.49\n",
       "\n",
       "[1860331 rows x 4 columns]"
      ]
     },
     "execution_count": 96,
     "metadata": {},
     "output_type": "execute_result"
    }
   ],
   "source": [
    "df_data[[\"last_fico_range_high\", \"last_fico_range_low\", \"recoveries\", \"int_rate\"]]"
   ]
  },
  {
   "cell_type": "code",
   "execution_count": 39,
   "metadata": {},
   "outputs": [],
   "source": [
    "# Data description\n",
    "df_data_dictionary = pd.read_excel(\"./database/Lending_club/LCDataDictionary.xlsx\")"
   ]
  },
  {
   "cell_type": "code",
   "execution_count": 40,
   "metadata": {},
   "outputs": [],
   "source": [
    "# Set column width to be bigger\n",
    "pd.set_option('display.max_colwidth', None)"
   ]
  },
  {
   "cell_type": "code",
   "execution_count": 92,
   "metadata": {},
   "outputs": [
    {
     "data": {
      "text/html": [
       "<div>\n",
       "<style scoped>\n",
       "    .dataframe tbody tr th:only-of-type {\n",
       "        vertical-align: middle;\n",
       "    }\n",
       "\n",
       "    .dataframe tbody tr th {\n",
       "        vertical-align: top;\n",
       "    }\n",
       "\n",
       "    .dataframe thead th {\n",
       "        text-align: right;\n",
       "    }\n",
       "</style>\n",
       "<table border=\"1\" class=\"dataframe\">\n",
       "  <thead>\n",
       "    <tr style=\"text-align: right;\">\n",
       "      <th></th>\n",
       "      <th>LoanStatNew</th>\n",
       "      <th>Description</th>\n",
       "    </tr>\n",
       "  </thead>\n",
       "  <tbody>\n",
       "    <tr>\n",
       "      <th>37</th>\n",
       "      <td>last_fico_range_high</td>\n",
       "      <td>The upper boundary range the borrower’s last FICO pulled belongs to.</td>\n",
       "    </tr>\n",
       "  </tbody>\n",
       "</table>\n",
       "</div>"
      ],
      "text/plain": [
       "             LoanStatNew  \\\n",
       "37  last_fico_range_high   \n",
       "\n",
       "                                                             Description  \n",
       "37  The upper boundary range the borrower’s last FICO pulled belongs to.  "
      ]
     },
     "execution_count": 92,
     "metadata": {},
     "output_type": "execute_result"
    }
   ],
   "source": [
    "df_data_dictionary[df_data_dictionary.LoanStatNew==\"last_fico_range_high\"]"
   ]
  },
  {
   "cell_type": "code",
   "execution_count": 94,
   "metadata": {},
   "outputs": [
    {
     "data": {
      "text/html": [
       "<div>\n",
       "<style scoped>\n",
       "    .dataframe tbody tr th:only-of-type {\n",
       "        vertical-align: middle;\n",
       "    }\n",
       "\n",
       "    .dataframe tbody tr th {\n",
       "        vertical-align: top;\n",
       "    }\n",
       "\n",
       "    .dataframe thead th {\n",
       "        text-align: right;\n",
       "    }\n",
       "</style>\n",
       "<table border=\"1\" class=\"dataframe\">\n",
       "  <thead>\n",
       "    <tr style=\"text-align: right;\">\n",
       "      <th></th>\n",
       "      <th>LoanStatNew</th>\n",
       "      <th>Description</th>\n",
       "    </tr>\n",
       "  </thead>\n",
       "  <tbody>\n",
       "    <tr>\n",
       "      <th>89</th>\n",
       "      <td>recoveries</td>\n",
       "      <td>post charge off gross recovery</td>\n",
       "    </tr>\n",
       "  </tbody>\n",
       "</table>\n",
       "</div>"
      ],
      "text/plain": [
       "   LoanStatNew                     Description\n",
       "89  recoveries  post charge off gross recovery"
      ]
     },
     "execution_count": 94,
     "metadata": {},
     "output_type": "execute_result"
    }
   ],
   "source": [
    "df_data_dictionary[df_data_dictionary.LoanStatNew==\"recoveries\"]"
   ]
  },
  {
   "cell_type": "markdown",
   "metadata": {},
   "source": [
    "## Modeling"
   ]
  },
  {
   "cell_type": "code",
   "execution_count": 101,
   "metadata": {},
   "outputs": [
    {
     "data": {
      "text/plain": [
       "term                        2\n",
       "grade                       7\n",
       "sub_grade                  35\n",
       "emp_title              456676\n",
       "emp_length                 12\n",
       "home_ownership              6\n",
       "verification_status         3\n",
       "purpose                    14\n",
       "title                   61685\n",
       "zip_code                  950\n",
       "addr_state                 51\n",
       "initial_list_status         2\n",
       "dtype: int64"
      ]
     },
     "execution_count": 101,
     "metadata": {},
     "output_type": "execute_result"
    }
   ],
   "source": [
    "df_data[catergorical_col].fillna(\"Other\").nunique()"
   ]
  },
  {
   "cell_type": "code",
   "execution_count": 102,
   "metadata": {},
   "outputs": [],
   "source": [
    "# Choose some of categorical features for modeling\n",
    "catergorical_col = [\"term\", \"grade\", \"emp_length\", \"home_ownership\", \n",
    "                    \"verification_status\", \"purpose\", \"initial_list_status\"]"
   ]
  },
  {
   "cell_type": "code",
   "execution_count": 104,
   "metadata": {},
   "outputs": [
    {
     "data": {
      "text/plain": [
       "term                        0\n",
       "grade                       0\n",
       "emp_length             117196\n",
       "home_ownership              0\n",
       "verification_status         0\n",
       "purpose                     0\n",
       "initial_list_status         0\n",
       "dtype: int64"
      ]
     },
     "execution_count": 104,
     "metadata": {},
     "output_type": "execute_result"
    }
   ],
   "source": [
    "df_data[catergorical_col].isna().sum()"
   ]
  },
  {
   "cell_type": "code",
   "execution_count": 112,
   "metadata": {},
   "outputs": [
    {
     "name": "stderr",
     "output_type": "stream",
     "text": [
      "C:\\Users\\Pham Thi Ngan\\AppData\\Local\\Temp\\ipykernel_17444\\374118318.py:1: SettingWithCopyWarning: \n",
      "A value is trying to be set on a copy of a slice from a DataFrame\n",
      "\n",
      "See the caveats in the documentation: https://pandas.pydata.org/pandas-docs/stable/user_guide/indexing.html#returning-a-view-versus-a-copy\n",
      "  df_data[\"emp_length\"].fillna(\"Other\", inplace=True)\n"
     ]
    }
   ],
   "source": [
    "df_data[\"emp_length\"].fillna(\"Other\", inplace=True)"
   ]
  },
  {
   "cell_type": "code",
   "execution_count": 113,
   "metadata": {},
   "outputs": [
    {
     "data": {
      "text/plain": [
       "term                   0\n",
       "grade                  0\n",
       "emp_length             0\n",
       "home_ownership         0\n",
       "verification_status    0\n",
       "purpose                0\n",
       "initial_list_status    0\n",
       "dtype: int64"
      ]
     },
     "execution_count": 113,
     "metadata": {},
     "output_type": "execute_result"
    }
   ],
   "source": [
    "df_data[catergorical_col].isna().sum()"
   ]
  },
  {
   "cell_type": "code",
   "execution_count": 120,
   "metadata": {},
   "outputs": [
    {
     "name": "stderr",
     "output_type": "stream",
     "text": [
      "C:\\Users\\Pham Thi Ngan\\AppData\\Local\\Temp\\ipykernel_17444\\3628323917.py:1: SettingWithCopyWarning: \n",
      "A value is trying to be set on a copy of a slice from a DataFrame\n",
      "\n",
      "See the caveats in the documentation: https://pandas.pydata.org/pandas-docs/stable/user_guide/indexing.html#returning-a-view-versus-a-copy\n",
      "  df_data[nummerical_col].fillna(0, inplace=True)\n"
     ]
    }
   ],
   "source": [
    "df_data[nummerical_col].fillna(0, inplace=True)"
   ]
  },
  {
   "cell_type": "code",
   "execution_count": 115,
   "metadata": {},
   "outputs": [
    {
     "data": {
      "text/plain": [
       "issue_d                  0\n",
       "earliest_cr_line         0\n",
       "last_pymnt_d          3289\n",
       "last_credit_pull_d      65\n",
       "dtype: int64"
      ]
     },
     "execution_count": 115,
     "metadata": {},
     "output_type": "execute_result"
    }
   ],
   "source": [
    "df_data[datetime_col].isna().sum()"
   ]
  },
  {
   "cell_type": "code",
   "execution_count": 116,
   "metadata": {},
   "outputs": [
    {
     "name": "stderr",
     "output_type": "stream",
     "text": [
      "C:\\Users\\Pham Thi Ngan\\AppData\\Local\\Temp\\ipykernel_17444\\1890012147.py:2: SettingWithCopyWarning: \n",
      "A value is trying to be set on a copy of a slice from a DataFrame\n",
      "\n",
      "See the caveats in the documentation: https://pandas.pydata.org/pandas-docs/stable/user_guide/indexing.html#returning-a-view-versus-a-copy\n",
      "  df_data.dropna(subset=datetime_col, inplace=True)\n"
     ]
    }
   ],
   "source": [
    "# Delete missing values for Datetime columns\n",
    "df_data.dropna(subset=datetime_col, inplace=True)"
   ]
  },
  {
   "cell_type": "code",
   "execution_count": 117,
   "metadata": {},
   "outputs": [
    {
     "data": {
      "text/plain": [
       "issue_d               0\n",
       "earliest_cr_line      0\n",
       "last_pymnt_d          0\n",
       "last_credit_pull_d    0\n",
       "dtype: int64"
      ]
     },
     "execution_count": 117,
     "metadata": {},
     "output_type": "execute_result"
    }
   ],
   "source": [
    "df_data[datetime_col].isna().sum()"
   ]
  },
  {
   "cell_type": "code",
   "execution_count": 124,
   "metadata": {},
   "outputs": [
    {
     "name": "stderr",
     "output_type": "stream",
     "text": [
      "C:\\Users\\Pham Thi Ngan\\AppData\\Local\\Temp\\ipykernel_17444\\1093353048.py:1: SettingWithCopyWarning: \n",
      "A value is trying to be set on a copy of a slice from a DataFrame.\n",
      "Try using .loc[row_indexer,col_indexer] = value instead\n",
      "\n",
      "See the caveats in the documentation: https://pandas.pydata.org/pandas-docs/stable/user_guide/indexing.html#returning-a-view-versus-a-copy\n",
      "  df_data[nummerical_col] = df_data[nummerical_col].fillna(0)\n"
     ]
    }
   ],
   "source": [
    "df_data[nummerical_col] = df_data[nummerical_col].fillna(0)"
   ]
  },
  {
   "cell_type": "code",
   "execution_count": 125,
   "metadata": {},
   "outputs": [
    {
     "data": {
      "text/plain": [
       "loan_amnt                     0\n",
       "int_rate                      0\n",
       "installment                   0\n",
       "annual_inc                    0\n",
       "dti                           0\n",
       "                             ..\n",
       "percent_bc_gt_75              0\n",
       "pub_rec_bankruptcies          0\n",
       "total_bal_ex_mort             0\n",
       "total_bc_limit                0\n",
       "total_il_high_credit_limit    0\n",
       "Length: 69, dtype: int64"
      ]
     },
     "execution_count": 125,
     "metadata": {},
     "output_type": "execute_result"
    }
   ],
   "source": [
    "df_data[nummerical_col].isna().sum()"
   ]
  },
  {
   "cell_type": "code",
   "execution_count": 126,
   "metadata": {},
   "outputs": [
    {
     "data": {
      "text/html": [
       "<div>\n",
       "<style scoped>\n",
       "    .dataframe tbody tr th:only-of-type {\n",
       "        vertical-align: middle;\n",
       "    }\n",
       "\n",
       "    .dataframe tbody tr th {\n",
       "        vertical-align: top;\n",
       "    }\n",
       "\n",
       "    .dataframe thead th {\n",
       "        text-align: right;\n",
       "    }\n",
       "</style>\n",
       "<table border=\"1\" class=\"dataframe\">\n",
       "  <thead>\n",
       "    <tr style=\"text-align: right;\">\n",
       "      <th></th>\n",
       "      <th>term</th>\n",
       "      <th>grade</th>\n",
       "      <th>emp_length</th>\n",
       "      <th>home_ownership</th>\n",
       "      <th>verification_status</th>\n",
       "      <th>purpose</th>\n",
       "      <th>initial_list_status</th>\n",
       "      <th>loan_amnt</th>\n",
       "      <th>int_rate</th>\n",
       "      <th>installment</th>\n",
       "      <th>...</th>\n",
       "      <th>pct_tl_nvr_dlq</th>\n",
       "      <th>percent_bc_gt_75</th>\n",
       "      <th>pub_rec_bankruptcies</th>\n",
       "      <th>total_bal_ex_mort</th>\n",
       "      <th>total_bc_limit</th>\n",
       "      <th>total_il_high_credit_limit</th>\n",
       "      <th>issue_d</th>\n",
       "      <th>earliest_cr_line</th>\n",
       "      <th>last_pymnt_d</th>\n",
       "      <th>last_credit_pull_d</th>\n",
       "    </tr>\n",
       "  </thead>\n",
       "  <tbody>\n",
       "    <tr>\n",
       "      <th>0</th>\n",
       "      <td>36 months</td>\n",
       "      <td>B</td>\n",
       "      <td>10+ years</td>\n",
       "      <td>RENT</td>\n",
       "      <td>Verified</td>\n",
       "      <td>credit_card</td>\n",
       "      <td>f</td>\n",
       "      <td>5000.0</td>\n",
       "      <td>10.65</td>\n",
       "      <td>162.87</td>\n",
       "      <td>...</td>\n",
       "      <td>0.0</td>\n",
       "      <td>0.0</td>\n",
       "      <td>0.0</td>\n",
       "      <td>0.0</td>\n",
       "      <td>0.0</td>\n",
       "      <td>0.0</td>\n",
       "      <td>2011-12-01</td>\n",
       "      <td>1985-01-01</td>\n",
       "      <td>2015-01-01</td>\n",
       "      <td>2020-05-01</td>\n",
       "    </tr>\n",
       "    <tr>\n",
       "      <th>1</th>\n",
       "      <td>60 months</td>\n",
       "      <td>C</td>\n",
       "      <td>&lt; 1 year</td>\n",
       "      <td>RENT</td>\n",
       "      <td>Source Verified</td>\n",
       "      <td>car</td>\n",
       "      <td>f</td>\n",
       "      <td>2500.0</td>\n",
       "      <td>15.27</td>\n",
       "      <td>59.83</td>\n",
       "      <td>...</td>\n",
       "      <td>0.0</td>\n",
       "      <td>0.0</td>\n",
       "      <td>0.0</td>\n",
       "      <td>0.0</td>\n",
       "      <td>0.0</td>\n",
       "      <td>0.0</td>\n",
       "      <td>2011-12-01</td>\n",
       "      <td>1999-04-01</td>\n",
       "      <td>2013-04-01</td>\n",
       "      <td>2016-10-01</td>\n",
       "    </tr>\n",
       "    <tr>\n",
       "      <th>2</th>\n",
       "      <td>36 months</td>\n",
       "      <td>C</td>\n",
       "      <td>10+ years</td>\n",
       "      <td>RENT</td>\n",
       "      <td>Not Verified</td>\n",
       "      <td>small_business</td>\n",
       "      <td>f</td>\n",
       "      <td>2400.0</td>\n",
       "      <td>15.96</td>\n",
       "      <td>84.33</td>\n",
       "      <td>...</td>\n",
       "      <td>0.0</td>\n",
       "      <td>0.0</td>\n",
       "      <td>0.0</td>\n",
       "      <td>0.0</td>\n",
       "      <td>0.0</td>\n",
       "      <td>0.0</td>\n",
       "      <td>2011-12-01</td>\n",
       "      <td>2001-11-01</td>\n",
       "      <td>2014-06-01</td>\n",
       "      <td>2017-06-01</td>\n",
       "    </tr>\n",
       "    <tr>\n",
       "      <th>3</th>\n",
       "      <td>36 months</td>\n",
       "      <td>C</td>\n",
       "      <td>10+ years</td>\n",
       "      <td>RENT</td>\n",
       "      <td>Source Verified</td>\n",
       "      <td>other</td>\n",
       "      <td>f</td>\n",
       "      <td>10000.0</td>\n",
       "      <td>13.49</td>\n",
       "      <td>339.31</td>\n",
       "      <td>...</td>\n",
       "      <td>0.0</td>\n",
       "      <td>0.0</td>\n",
       "      <td>0.0</td>\n",
       "      <td>0.0</td>\n",
       "      <td>0.0</td>\n",
       "      <td>0.0</td>\n",
       "      <td>2011-12-01</td>\n",
       "      <td>1996-02-01</td>\n",
       "      <td>2015-01-01</td>\n",
       "      <td>2016-04-01</td>\n",
       "    </tr>\n",
       "    <tr>\n",
       "      <th>4</th>\n",
       "      <td>60 months</td>\n",
       "      <td>B</td>\n",
       "      <td>1 year</td>\n",
       "      <td>RENT</td>\n",
       "      <td>Source Verified</td>\n",
       "      <td>other</td>\n",
       "      <td>f</td>\n",
       "      <td>3000.0</td>\n",
       "      <td>12.69</td>\n",
       "      <td>67.79</td>\n",
       "      <td>...</td>\n",
       "      <td>0.0</td>\n",
       "      <td>0.0</td>\n",
       "      <td>0.0</td>\n",
       "      <td>0.0</td>\n",
       "      <td>0.0</td>\n",
       "      <td>0.0</td>\n",
       "      <td>2011-12-01</td>\n",
       "      <td>1996-01-01</td>\n",
       "      <td>2017-01-01</td>\n",
       "      <td>2018-04-01</td>\n",
       "    </tr>\n",
       "    <tr>\n",
       "      <th>...</th>\n",
       "      <td>...</td>\n",
       "      <td>...</td>\n",
       "      <td>...</td>\n",
       "      <td>...</td>\n",
       "      <td>...</td>\n",
       "      <td>...</td>\n",
       "      <td>...</td>\n",
       "      <td>...</td>\n",
       "      <td>...</td>\n",
       "      <td>...</td>\n",
       "      <td>...</td>\n",
       "      <td>...</td>\n",
       "      <td>...</td>\n",
       "      <td>...</td>\n",
       "      <td>...</td>\n",
       "      <td>...</td>\n",
       "      <td>...</td>\n",
       "      <td>...</td>\n",
       "      <td>...</td>\n",
       "      <td>...</td>\n",
       "      <td>...</td>\n",
       "    </tr>\n",
       "    <tr>\n",
       "      <th>2925488</th>\n",
       "      <td>60 months</td>\n",
       "      <td>E</td>\n",
       "      <td>&lt; 1 year</td>\n",
       "      <td>RENT</td>\n",
       "      <td>Source Verified</td>\n",
       "      <td>other</td>\n",
       "      <td>f</td>\n",
       "      <td>24000.0</td>\n",
       "      <td>23.99</td>\n",
       "      <td>690.30</td>\n",
       "      <td>...</td>\n",
       "      <td>87.5</td>\n",
       "      <td>0.0</td>\n",
       "      <td>1.0</td>\n",
       "      <td>60812.0</td>\n",
       "      <td>28200.0</td>\n",
       "      <td>64422.0</td>\n",
       "      <td>2017-04-01</td>\n",
       "      <td>1995-04-01</td>\n",
       "      <td>2018-03-01</td>\n",
       "      <td>2020-05-01</td>\n",
       "    </tr>\n",
       "    <tr>\n",
       "      <th>2925489</th>\n",
       "      <td>36 months</td>\n",
       "      <td>A</td>\n",
       "      <td>10+ years</td>\n",
       "      <td>MORTGAGE</td>\n",
       "      <td>Source Verified</td>\n",
       "      <td>debt_consolidation</td>\n",
       "      <td>w</td>\n",
       "      <td>10000.0</td>\n",
       "      <td>7.99</td>\n",
       "      <td>313.32</td>\n",
       "      <td>...</td>\n",
       "      <td>92.6</td>\n",
       "      <td>14.3</td>\n",
       "      <td>0.0</td>\n",
       "      <td>55863.0</td>\n",
       "      <td>34800.0</td>\n",
       "      <td>70203.0</td>\n",
       "      <td>2017-04-01</td>\n",
       "      <td>1993-09-01</td>\n",
       "      <td>2019-10-01</td>\n",
       "      <td>2019-10-01</td>\n",
       "    </tr>\n",
       "    <tr>\n",
       "      <th>2925490</th>\n",
       "      <td>36 months</td>\n",
       "      <td>D</td>\n",
       "      <td>8 years</td>\n",
       "      <td>RENT</td>\n",
       "      <td>Not Verified</td>\n",
       "      <td>debt_consolidation</td>\n",
       "      <td>w</td>\n",
       "      <td>10050.0</td>\n",
       "      <td>16.99</td>\n",
       "      <td>358.26</td>\n",
       "      <td>...</td>\n",
       "      <td>95.2</td>\n",
       "      <td>0.0</td>\n",
       "      <td>0.0</td>\n",
       "      <td>14300.0</td>\n",
       "      <td>9000.0</td>\n",
       "      <td>0.0</td>\n",
       "      <td>2017-04-01</td>\n",
       "      <td>1993-05-01</td>\n",
       "      <td>2019-05-01</td>\n",
       "      <td>2019-11-01</td>\n",
       "    </tr>\n",
       "    <tr>\n",
       "      <th>2925491</th>\n",
       "      <td>36 months</td>\n",
       "      <td>B</td>\n",
       "      <td>5 years</td>\n",
       "      <td>RENT</td>\n",
       "      <td>Source Verified</td>\n",
       "      <td>credit_card</td>\n",
       "      <td>w</td>\n",
       "      <td>6000.0</td>\n",
       "      <td>11.44</td>\n",
       "      <td>197.69</td>\n",
       "      <td>...</td>\n",
       "      <td>94.4</td>\n",
       "      <td>0.0</td>\n",
       "      <td>0.0</td>\n",
       "      <td>26201.0</td>\n",
       "      <td>8100.0</td>\n",
       "      <td>34076.0</td>\n",
       "      <td>2017-04-01</td>\n",
       "      <td>1990-05-01</td>\n",
       "      <td>2019-01-01</td>\n",
       "      <td>2020-03-01</td>\n",
       "    </tr>\n",
       "    <tr>\n",
       "      <th>2925492</th>\n",
       "      <td>60 months</td>\n",
       "      <td>E</td>\n",
       "      <td>4 years</td>\n",
       "      <td>MORTGAGE</td>\n",
       "      <td>Verified</td>\n",
       "      <td>debt_consolidation</td>\n",
       "      <td>w</td>\n",
       "      <td>30000.0</td>\n",
       "      <td>25.49</td>\n",
       "      <td>889.18</td>\n",
       "      <td>...</td>\n",
       "      <td>91.3</td>\n",
       "      <td>66.7</td>\n",
       "      <td>0.0</td>\n",
       "      <td>75819.0</td>\n",
       "      <td>16000.0</td>\n",
       "      <td>89732.0</td>\n",
       "      <td>2017-04-01</td>\n",
       "      <td>1997-11-01</td>\n",
       "      <td>2017-10-01</td>\n",
       "      <td>2017-11-01</td>\n",
       "    </tr>\n",
       "  </tbody>\n",
       "</table>\n",
       "<p>1856977 rows × 80 columns</p>\n",
       "</div>"
      ],
      "text/plain": [
       "               term grade emp_length home_ownership verification_status  \\\n",
       "0         36 months     B  10+ years           RENT            Verified   \n",
       "1         60 months     C   < 1 year           RENT     Source Verified   \n",
       "2         36 months     C  10+ years           RENT        Not Verified   \n",
       "3         36 months     C  10+ years           RENT     Source Verified   \n",
       "4         60 months     B     1 year           RENT     Source Verified   \n",
       "...             ...   ...        ...            ...                 ...   \n",
       "2925488   60 months     E   < 1 year           RENT     Source Verified   \n",
       "2925489   36 months     A  10+ years       MORTGAGE     Source Verified   \n",
       "2925490   36 months     D    8 years           RENT        Not Verified   \n",
       "2925491   36 months     B    5 years           RENT     Source Verified   \n",
       "2925492   60 months     E    4 years       MORTGAGE            Verified   \n",
       "\n",
       "                    purpose initial_list_status  loan_amnt  int_rate  \\\n",
       "0               credit_card                   f     5000.0     10.65   \n",
       "1                       car                   f     2500.0     15.27   \n",
       "2            small_business                   f     2400.0     15.96   \n",
       "3                     other                   f    10000.0     13.49   \n",
       "4                     other                   f     3000.0     12.69   \n",
       "...                     ...                 ...        ...       ...   \n",
       "2925488               other                   f    24000.0     23.99   \n",
       "2925489  debt_consolidation                   w    10000.0      7.99   \n",
       "2925490  debt_consolidation                   w    10050.0     16.99   \n",
       "2925491         credit_card                   w     6000.0     11.44   \n",
       "2925492  debt_consolidation                   w    30000.0     25.49   \n",
       "\n",
       "         installment  ...  pct_tl_nvr_dlq  percent_bc_gt_75  \\\n",
       "0             162.87  ...             0.0               0.0   \n",
       "1              59.83  ...             0.0               0.0   \n",
       "2              84.33  ...             0.0               0.0   \n",
       "3             339.31  ...             0.0               0.0   \n",
       "4              67.79  ...             0.0               0.0   \n",
       "...              ...  ...             ...               ...   \n",
       "2925488       690.30  ...            87.5               0.0   \n",
       "2925489       313.32  ...            92.6              14.3   \n",
       "2925490       358.26  ...            95.2               0.0   \n",
       "2925491       197.69  ...            94.4               0.0   \n",
       "2925492       889.18  ...            91.3              66.7   \n",
       "\n",
       "         pub_rec_bankruptcies  total_bal_ex_mort  total_bc_limit  \\\n",
       "0                         0.0                0.0             0.0   \n",
       "1                         0.0                0.0             0.0   \n",
       "2                         0.0                0.0             0.0   \n",
       "3                         0.0                0.0             0.0   \n",
       "4                         0.0                0.0             0.0   \n",
       "...                       ...                ...             ...   \n",
       "2925488                   1.0            60812.0         28200.0   \n",
       "2925489                   0.0            55863.0         34800.0   \n",
       "2925490                   0.0            14300.0          9000.0   \n",
       "2925491                   0.0            26201.0          8100.0   \n",
       "2925492                   0.0            75819.0         16000.0   \n",
       "\n",
       "         total_il_high_credit_limit    issue_d  earliest_cr_line  \\\n",
       "0                               0.0 2011-12-01        1985-01-01   \n",
       "1                               0.0 2011-12-01        1999-04-01   \n",
       "2                               0.0 2011-12-01        2001-11-01   \n",
       "3                               0.0 2011-12-01        1996-02-01   \n",
       "4                               0.0 2011-12-01        1996-01-01   \n",
       "...                             ...        ...               ...   \n",
       "2925488                     64422.0 2017-04-01        1995-04-01   \n",
       "2925489                     70203.0 2017-04-01        1993-09-01   \n",
       "2925490                         0.0 2017-04-01        1993-05-01   \n",
       "2925491                     34076.0 2017-04-01        1990-05-01   \n",
       "2925492                     89732.0 2017-04-01        1997-11-01   \n",
       "\n",
       "         last_pymnt_d  last_credit_pull_d  \n",
       "0          2015-01-01          2020-05-01  \n",
       "1          2013-04-01          2016-10-01  \n",
       "2          2014-06-01          2017-06-01  \n",
       "3          2015-01-01          2016-04-01  \n",
       "4          2017-01-01          2018-04-01  \n",
       "...               ...                 ...  \n",
       "2925488    2018-03-01          2020-05-01  \n",
       "2925489    2019-10-01          2019-10-01  \n",
       "2925490    2019-05-01          2019-11-01  \n",
       "2925491    2019-01-01          2020-03-01  \n",
       "2925492    2017-10-01          2017-11-01  \n",
       "\n",
       "[1856977 rows x 80 columns]"
      ]
     },
     "execution_count": 126,
     "metadata": {},
     "output_type": "execute_result"
    }
   ],
   "source": [
    "df_data[catergorical_col+nummerical_col+datetime_col]"
   ]
  },
  {
   "cell_type": "code",
   "execution_count": 135,
   "metadata": {},
   "outputs": [],
   "source": [
    "df_data[catergorical_col+nummerical_col+[\"loan_status\"]].to_csv(\"./database/data_cleaning.csv\")"
   ]
  },
  {
   "cell_type": "code",
   "execution_count": 7,
   "metadata": {},
   "outputs": [],
   "source": [
    "df_data = pd.read_csv(\"./database/data_cleaning.csv\", index_col = [0])"
   ]
  },
  {
   "cell_type": "code",
   "execution_count": 7,
   "metadata": {},
   "outputs": [
    {
     "name": "stdout",
     "output_type": "stream",
     "text": [
      "<class 'pandas.core.frame.DataFrame'>\n",
      "Int64Index: 1856977 entries, 0 to 2925492\n",
      "Data columns (total 77 columns):\n",
      " #   Column                          Dtype  \n",
      "---  ------                          -----  \n",
      " 0   term                            object \n",
      " 1   grade                           object \n",
      " 2   emp_length                      object \n",
      " 3   home_ownership                  object \n",
      " 4   verification_status             object \n",
      " 5   purpose                         object \n",
      " 6   initial_list_status             object \n",
      " 7   loan_amnt                       float64\n",
      " 8   int_rate                        float64\n",
      " 9   installment                     float64\n",
      " 10  annual_inc                      float64\n",
      " 11  dti                             float64\n",
      " 12  delinq_2yrs                     float64\n",
      " 13  fico_range_low                  float64\n",
      " 14  inq_last_6mths                  float64\n",
      " 15  mths_since_last_delinq          float64\n",
      " 16  mths_since_last_record          float64\n",
      " 17  open_acc                        float64\n",
      " 18  pub_rec                         float64\n",
      " 19  revol_bal                       float64\n",
      " 20  revol_util                      float64\n",
      " 21  total_acc                       float64\n",
      " 22  total_pymnt                     float64\n",
      " 23  total_rec_int                   float64\n",
      " 24  total_rec_late_fee              float64\n",
      " 25  recoveries                      float64\n",
      " 26  last_pymnt_amnt                 float64\n",
      " 27  last_fico_range_high            float64\n",
      " 28  last_fico_range_low             float64\n",
      " 29  mths_since_last_major_derog     float64\n",
      " 30  tot_coll_amt                    float64\n",
      " 31  tot_cur_bal                     float64\n",
      " 32  open_acc_6m                     float64\n",
      " 33  open_act_il                     float64\n",
      " 34  open_il_12m                     float64\n",
      " 35  open_il_24m                     float64\n",
      " 36  mths_since_rcnt_il              float64\n",
      " 37  total_bal_il                    float64\n",
      " 38  il_util                         float64\n",
      " 39  open_rv_12m                     float64\n",
      " 40  open_rv_24m                     float64\n",
      " 41  max_bal_bc                      float64\n",
      " 42  all_util                        float64\n",
      " 43  total_rev_hi_lim                float64\n",
      " 44  inq_fi                          float64\n",
      " 45  total_cu_tl                     float64\n",
      " 46  inq_last_12m                    float64\n",
      " 47  acc_open_past_24mths            float64\n",
      " 48  avg_cur_bal                     float64\n",
      " 49  bc_open_to_buy                  float64\n",
      " 50  bc_util                         float64\n",
      " 51  mo_sin_old_il_acct              float64\n",
      " 52  mo_sin_old_rev_tl_op            float64\n",
      " 53  mo_sin_rcnt_rev_tl_op           float64\n",
      " 54  mo_sin_rcnt_tl                  float64\n",
      " 55  mort_acc                        float64\n",
      " 56  mths_since_recent_bc            float64\n",
      " 57  mths_since_recent_bc_dlq        float64\n",
      " 58  mths_since_recent_inq           float64\n",
      " 59  mths_since_recent_revol_delinq  float64\n",
      " 60  num_accts_ever_120_pd           float64\n",
      " 61  num_actv_bc_tl                  float64\n",
      " 62  num_actv_rev_tl                 float64\n",
      " 63  num_bc_sats                     float64\n",
      " 64  num_bc_tl                       float64\n",
      " 65  num_il_tl                       float64\n",
      " 66  num_op_rev_tl                   float64\n",
      " 67  num_rev_accts                   float64\n",
      " 68  num_tl_90g_dpd_24m              float64\n",
      " 69  num_tl_op_past_12m              float64\n",
      " 70  pct_tl_nvr_dlq                  float64\n",
      " 71  percent_bc_gt_75                float64\n",
      " 72  pub_rec_bankruptcies            float64\n",
      " 73  total_bal_ex_mort               float64\n",
      " 74  total_bc_limit                  float64\n",
      " 75  total_il_high_credit_limit      float64\n",
      " 76  loan_status                     int64  \n",
      "dtypes: float64(69), int64(1), object(7)\n",
      "memory usage: 1.1+ GB\n"
     ]
    }
   ],
   "source": [
    "df_data.info()"
   ]
  },
  {
   "cell_type": "code",
   "execution_count": 9,
   "metadata": {},
   "outputs": [],
   "source": [
    "catergorical_col = df_data.select_dtypes(include=[\"object\"]).columns.to_list()\n",
    "nummerical_col = df_data.select_dtypes(exclude=[\"object\"]).columns.to_list()\n",
    "nummerical_col.remove(\"loan_status\")"
   ]
  },
  {
   "cell_type": "code",
   "execution_count": 24,
   "metadata": {},
   "outputs": [],
   "source": [
    "# Split dataset\n",
    "df_train_full, df_test = train_test_split(df_data[catergorical_col+nummerical_col+[\"loan_status\"]], test_size=0.3, random_state=1)\n",
    "df_train, df_val = train_test_split(df_train_full, test_size=0.25, random_state=1)\n",
    "y_train_full = df_train_full.loan_status\n",
    "\n",
    "df_train = df_train.reset_index(drop=True)\n",
    "df_val = df_val.reset_index(drop=True)\n",
    "df_test = df_test.reset_index(drop=True)\n",
    "\n",
    "y_train = df_train.loan_status\n",
    "y_val = df_val.loan_status\n",
    "y_test =df_test.loan_status"
   ]
  },
  {
   "cell_type": "code",
   "execution_count": 20,
   "metadata": {},
   "outputs": [],
   "source": [
    "del df_train[\"loan_status\"] # df_train.drop(columns=[\"churn\"], axis=1, inplace=True)\n",
    "del df_val[\"loan_status\"]\n",
    "del df_test[\"loan_status\"]"
   ]
  },
  {
   "cell_type": "code",
   "execution_count": 25,
   "metadata": {},
   "outputs": [],
   "source": [
    "df_test.iloc[:2000].to_csv(\"./database/test_set.csv\")"
   ]
  },
  {
   "cell_type": "code",
   "execution_count": 14,
   "metadata": {},
   "outputs": [
    {
     "data": {
      "text/plain": [
       "{'term': ' 36 months',\n",
       " 'grade': 'A',\n",
       " 'emp_length': '10+ years',\n",
       " 'home_ownership': 'RENT',\n",
       " 'verification_status': 'Verified',\n",
       " 'purpose': 'credit_card',\n",
       " 'initial_list_status': 'f',\n",
       " 'loan_amnt': 6000.0,\n",
       " 'int_rate': 6.39,\n",
       " 'installment': 183.6,\n",
       " 'annual_inc': 40000.0,\n",
       " 'dti': 4.05,\n",
       " 'delinq_2yrs': 0.0,\n",
       " 'fico_range_low': 690.0,\n",
       " 'inq_last_6mths': 1.0,\n",
       " 'mths_since_last_delinq': 0.0,\n",
       " 'mths_since_last_record': 0.0,\n",
       " 'open_acc': 6.0,\n",
       " 'pub_rec': 0.0,\n",
       " 'revol_bal': 2504.0,\n",
       " 'revol_util': 17.6,\n",
       " 'total_acc': 7.0,\n",
       " 'total_pymnt': 6605.0931520747,\n",
       " 'total_rec_int': 605.09,\n",
       " 'total_rec_late_fee': 0.0,\n",
       " 'recoveries': 0.0,\n",
       " 'last_pymnt_amnt': 183.35,\n",
       " 'last_fico_range_high': 764.0,\n",
       " 'last_fico_range_low': 760.0,\n",
       " 'mths_since_last_major_derog': 0.0,\n",
       " 'tot_coll_amt': 0.0,\n",
       " 'tot_cur_bal': 2504.0,\n",
       " 'open_acc_6m': 0.0,\n",
       " 'open_act_il': 0.0,\n",
       " 'open_il_12m': 0.0,\n",
       " 'open_il_24m': 0.0,\n",
       " 'mths_since_rcnt_il': 0.0,\n",
       " 'total_bal_il': 0.0,\n",
       " 'il_util': 0.0,\n",
       " 'open_rv_12m': 0.0,\n",
       " 'open_rv_24m': 0.0,\n",
       " 'max_bal_bc': 0.0,\n",
       " 'all_util': 0.0,\n",
       " 'total_rev_hi_lim': 14200.0,\n",
       " 'inq_fi': 0.0,\n",
       " 'total_cu_tl': 0.0,\n",
       " 'inq_last_12m': 0.0,\n",
       " 'acc_open_past_24mths': 6.0,\n",
       " 'avg_cur_bal': 417.0,\n",
       " 'bc_open_to_buy': 8408.0,\n",
       " 'bc_util': 22.9,\n",
       " 'mo_sin_old_il_acct': 14.0,\n",
       " 'mo_sin_old_rev_tl_op': 38.0,\n",
       " 'mo_sin_rcnt_rev_tl_op': 2.0,\n",
       " 'mo_sin_rcnt_tl': 2.0,\n",
       " 'mort_acc': 0.0,\n",
       " 'mths_since_recent_bc': 2.0,\n",
       " 'mths_since_recent_bc_dlq': 0.0,\n",
       " 'mths_since_recent_inq': 2.0,\n",
       " 'mths_since_recent_revol_delinq': 0.0,\n",
       " 'num_accts_ever_120_pd': 0.0,\n",
       " 'num_actv_bc_tl': 4.0,\n",
       " 'num_actv_rev_tl': 5.0,\n",
       " 'num_bc_sats': 4.0,\n",
       " 'num_bc_tl': 4.0,\n",
       " 'num_il_tl': 1.0,\n",
       " 'num_op_rev_tl': 6.0,\n",
       " 'num_rev_accts': 6.0,\n",
       " 'num_tl_90g_dpd_24m': 0.0,\n",
       " 'num_tl_op_past_12m': 2.0,\n",
       " 'pct_tl_nvr_dlq': 100.0,\n",
       " 'percent_bc_gt_75': 25.0,\n",
       " 'pub_rec_bankruptcies': 0.0,\n",
       " 'total_bal_ex_mort': 2504.0,\n",
       " 'total_bc_limit': 10900.0,\n",
       " 'total_il_high_credit_limit': 0.0,\n",
       " 'loan_status': 0}"
      ]
     },
     "execution_count": 14,
     "metadata": {},
     "output_type": "execute_result"
    }
   ],
   "source": [
    "df_test.to_dict(orient=\"records\")[100]"
   ]
  },
  {
   "cell_type": "code",
   "execution_count": 85,
   "metadata": {},
   "outputs": [],
   "source": [
    "# ## Training the model\n",
    "dict_train = df_train[catergorical_col+nummerical_col].to_dict(orient=\"records\")\n",
    "dv = DictVectorizer(sparse=False)\n",
    "\n",
    "dv.fit(dict_train)\n",
    "X_train = dv.transform(dict_train)"
   ]
  },
  {
   "cell_type": "code",
   "execution_count": 217,
   "metadata": {},
   "outputs": [],
   "source": [
    "# Create Dataframe to store results of each model\n",
    "df_result = pd.DataFrame(columns=['model', \"set\", \"accuracy\", \"auc_score\", \"f1_score\"])"
   ]
  },
  {
   "cell_type": "code",
   "execution_count": 218,
   "metadata": {},
   "outputs": [
    {
     "data": {
      "text/html": [
       "<div>\n",
       "<style scoped>\n",
       "    .dataframe tbody tr th:only-of-type {\n",
       "        vertical-align: middle;\n",
       "    }\n",
       "\n",
       "    .dataframe tbody tr th {\n",
       "        vertical-align: top;\n",
       "    }\n",
       "\n",
       "    .dataframe thead th {\n",
       "        text-align: right;\n",
       "    }\n",
       "</style>\n",
       "<table border=\"1\" class=\"dataframe\">\n",
       "  <thead>\n",
       "    <tr style=\"text-align: right;\">\n",
       "      <th></th>\n",
       "      <th>model</th>\n",
       "      <th>set</th>\n",
       "      <th>accuracy</th>\n",
       "      <th>auc_score</th>\n",
       "      <th>f1_score</th>\n",
       "    </tr>\n",
       "  </thead>\n",
       "  <tbody>\n",
       "  </tbody>\n",
       "</table>\n",
       "</div>"
      ],
      "text/plain": [
       "Empty DataFrame\n",
       "Columns: [model, set, accuracy, auc_score, f1_score]\n",
       "Index: []"
      ]
     },
     "execution_count": 218,
     "metadata": {},
     "output_type": "execute_result"
    }
   ],
   "source": [
    "df_result"
   ]
  },
  {
   "cell_type": "code",
   "execution_count": 207,
   "metadata": {},
   "outputs": [
    {
     "data": {
      "text/html": [
       "<style>#sk-container-id-15 {color: black;background-color: white;}#sk-container-id-15 pre{padding: 0;}#sk-container-id-15 div.sk-toggleable {background-color: white;}#sk-container-id-15 label.sk-toggleable__label {cursor: pointer;display: block;width: 100%;margin-bottom: 0;padding: 0.3em;box-sizing: border-box;text-align: center;}#sk-container-id-15 label.sk-toggleable__label-arrow:before {content: \"▸\";float: left;margin-right: 0.25em;color: #696969;}#sk-container-id-15 label.sk-toggleable__label-arrow:hover:before {color: black;}#sk-container-id-15 div.sk-estimator:hover label.sk-toggleable__label-arrow:before {color: black;}#sk-container-id-15 div.sk-toggleable__content {max-height: 0;max-width: 0;overflow: hidden;text-align: left;background-color: #f0f8ff;}#sk-container-id-15 div.sk-toggleable__content pre {margin: 0.2em;color: black;border-radius: 0.25em;background-color: #f0f8ff;}#sk-container-id-15 input.sk-toggleable__control:checked~div.sk-toggleable__content {max-height: 200px;max-width: 100%;overflow: auto;}#sk-container-id-15 input.sk-toggleable__control:checked~label.sk-toggleable__label-arrow:before {content: \"▾\";}#sk-container-id-15 div.sk-estimator input.sk-toggleable__control:checked~label.sk-toggleable__label {background-color: #d4ebff;}#sk-container-id-15 div.sk-label input.sk-toggleable__control:checked~label.sk-toggleable__label {background-color: #d4ebff;}#sk-container-id-15 input.sk-hidden--visually {border: 0;clip: rect(1px 1px 1px 1px);clip: rect(1px, 1px, 1px, 1px);height: 1px;margin: -1px;overflow: hidden;padding: 0;position: absolute;width: 1px;}#sk-container-id-15 div.sk-estimator {font-family: monospace;background-color: #f0f8ff;border: 1px dotted black;border-radius: 0.25em;box-sizing: border-box;margin-bottom: 0.5em;}#sk-container-id-15 div.sk-estimator:hover {background-color: #d4ebff;}#sk-container-id-15 div.sk-parallel-item::after {content: \"\";width: 100%;border-bottom: 1px solid gray;flex-grow: 1;}#sk-container-id-15 div.sk-label:hover label.sk-toggleable__label {background-color: #d4ebff;}#sk-container-id-15 div.sk-serial::before {content: \"\";position: absolute;border-left: 1px solid gray;box-sizing: border-box;top: 0;bottom: 0;left: 50%;z-index: 0;}#sk-container-id-15 div.sk-serial {display: flex;flex-direction: column;align-items: center;background-color: white;padding-right: 0.2em;padding-left: 0.2em;position: relative;}#sk-container-id-15 div.sk-item {position: relative;z-index: 1;}#sk-container-id-15 div.sk-parallel {display: flex;align-items: stretch;justify-content: center;background-color: white;position: relative;}#sk-container-id-15 div.sk-item::before, #sk-container-id-15 div.sk-parallel-item::before {content: \"\";position: absolute;border-left: 1px solid gray;box-sizing: border-box;top: 0;bottom: 0;left: 50%;z-index: -1;}#sk-container-id-15 div.sk-parallel-item {display: flex;flex-direction: column;z-index: 1;position: relative;background-color: white;}#sk-container-id-15 div.sk-parallel-item:first-child::after {align-self: flex-end;width: 50%;}#sk-container-id-15 div.sk-parallel-item:last-child::after {align-self: flex-start;width: 50%;}#sk-container-id-15 div.sk-parallel-item:only-child::after {width: 0;}#sk-container-id-15 div.sk-dashed-wrapped {border: 1px dashed gray;margin: 0 0.4em 0.5em 0.4em;box-sizing: border-box;padding-bottom: 0.4em;background-color: white;}#sk-container-id-15 div.sk-label label {font-family: monospace;font-weight: bold;display: inline-block;line-height: 1.2em;}#sk-container-id-15 div.sk-label-container {text-align: center;}#sk-container-id-15 div.sk-container {/* jupyter's `normalize.less` sets `[hidden] { display: none; }` but bootstrap.min.css set `[hidden] { display: none !important; }` so we also need the `!important` here to be able to override the default hidden behavior on the sphinx rendered scikit-learn.org. See: https://github.com/scikit-learn/scikit-learn/issues/21755 */display: inline-block !important;position: relative;}#sk-container-id-15 div.sk-text-repr-fallback {display: none;}</style><div id=\"sk-container-id-15\" class=\"sk-top-container\"><div class=\"sk-text-repr-fallback\"><pre>LogisticRegression(C=1, max_iter=1000, solver=&#x27;liblinear&#x27;)</pre><b>In a Jupyter environment, please rerun this cell to show the HTML representation or trust the notebook. <br />On GitHub, the HTML representation is unable to render, please try loading this page with nbviewer.org.</b></div><div class=\"sk-container\" hidden><div class=\"sk-item\"><div class=\"sk-estimator sk-toggleable\"><input class=\"sk-toggleable__control sk-hidden--visually\" id=\"sk-estimator-id-15\" type=\"checkbox\" checked><label for=\"sk-estimator-id-15\" class=\"sk-toggleable__label sk-toggleable__label-arrow\">LogisticRegression</label><div class=\"sk-toggleable__content\"><pre>LogisticRegression(C=1, max_iter=1000, solver=&#x27;liblinear&#x27;)</pre></div></div></div></div></div>"
      ],
      "text/plain": [
       "LogisticRegression(C=1, max_iter=1000, solver='liblinear')"
      ]
     },
     "execution_count": 207,
     "metadata": {},
     "output_type": "execute_result"
    }
   ],
   "source": [
    "model = LogisticRegression(solver='liblinear', C = 1, max_iter=1000)\n",
    "model.fit(X_train, y_train)"
   ]
  },
  {
   "cell_type": "code",
   "execution_count": 87,
   "metadata": {},
   "outputs": [],
   "source": [
    "# Validation model\n",
    "dict_val = df_val[catergorical_col+nummerical_col].to_dict(orient=\"records\")\n",
    "X_val = dv.transform(dict_val)"
   ]
  },
  {
   "cell_type": "code",
   "execution_count": null,
   "metadata": {},
   "outputs": [],
   "source": [
    "# Test set\n",
    "dict_test = df_test[catergorical_col+nummerical_col].to_dict(orient=\"records\")\n",
    "X_test = dv.transform(dict_test)"
   ]
  },
  {
   "cell_type": "code",
   "execution_count": 213,
   "metadata": {},
   "outputs": [],
   "source": [
    "def evaluation_result(model, model_name, set_name, X, y):\n",
    "    score = [model_name, set_name]\n",
    "    y_pred_prob = model.predict_proba(X)[:, 1]\n",
    "    y_pred = y_pred_prob > 0.5\n",
    "    score.append(accuracy_score(y, y_pred))\n",
    "    score.append(roc_auc_score(y , y_pred_prob))\n",
    "    score.append(f1_score(y, y_pred))\n",
    "    return score"
   ]
  },
  {
   "cell_type": "code",
   "execution_count": 219,
   "metadata": {},
   "outputs": [],
   "source": [
    "df_result.loc[len(df_result)] = evaluation_result(model, \"Logistics\", \"train_set\", X_train, y_train)"
   ]
  },
  {
   "cell_type": "code",
   "execution_count": 221,
   "metadata": {},
   "outputs": [],
   "source": [
    "df_result.loc[len(df_result)] = evaluation_result(model, \"Logistics\", \"val_set\", X_val, y_val)"
   ]
  },
  {
   "cell_type": "code",
   "execution_count": 223,
   "metadata": {},
   "outputs": [],
   "source": [
    "df_result.loc[len(df_result)] = evaluation_result(model, \"Logistics\", \"test_set\", X_test, y_test)"
   ]
  },
  {
   "cell_type": "code",
   "execution_count": 224,
   "metadata": {},
   "outputs": [
    {
     "data": {
      "text/html": [
       "<div>\n",
       "<style scoped>\n",
       "    .dataframe tbody tr th:only-of-type {\n",
       "        vertical-align: middle;\n",
       "    }\n",
       "\n",
       "    .dataframe tbody tr th {\n",
       "        vertical-align: top;\n",
       "    }\n",
       "\n",
       "    .dataframe thead th {\n",
       "        text-align: right;\n",
       "    }\n",
       "</style>\n",
       "<table border=\"1\" class=\"dataframe\">\n",
       "  <thead>\n",
       "    <tr style=\"text-align: right;\">\n",
       "      <th></th>\n",
       "      <th>model</th>\n",
       "      <th>set</th>\n",
       "      <th>accuracy</th>\n",
       "      <th>auc_score</th>\n",
       "      <th>f1_score</th>\n",
       "    </tr>\n",
       "  </thead>\n",
       "  <tbody>\n",
       "    <tr>\n",
       "      <th>0</th>\n",
       "      <td>Logistics</td>\n",
       "      <td>train_set</td>\n",
       "      <td>0.994863</td>\n",
       "      <td>0.999082</td>\n",
       "      <td>0.986573</td>\n",
       "    </tr>\n",
       "    <tr>\n",
       "      <th>1</th>\n",
       "      <td>Logistics</td>\n",
       "      <td>val_set</td>\n",
       "      <td>0.994732</td>\n",
       "      <td>0.998991</td>\n",
       "      <td>0.986265</td>\n",
       "    </tr>\n",
       "    <tr>\n",
       "      <th>2</th>\n",
       "      <td>Logistics</td>\n",
       "      <td>test_set</td>\n",
       "      <td>0.994789</td>\n",
       "      <td>0.999085</td>\n",
       "      <td>0.986416</td>\n",
       "    </tr>\n",
       "  </tbody>\n",
       "</table>\n",
       "</div>"
      ],
      "text/plain": [
       "       model        set  accuracy  auc_score  f1_score\n",
       "0  Logistics  train_set  0.994863   0.999082  0.986573\n",
       "1  Logistics    val_set  0.994732   0.998991  0.986265\n",
       "2  Logistics   test_set  0.994789   0.999085  0.986416"
      ]
     },
     "execution_count": 224,
     "metadata": {},
     "output_type": "execute_result"
    }
   ],
   "source": [
    "df_result"
   ]
  },
  {
   "cell_type": "markdown",
   "metadata": {},
   "source": [
    "### Decision Tree classifier"
   ]
  },
  {
   "cell_type": "code",
   "execution_count": 237,
   "metadata": {},
   "outputs": [],
   "source": [
    "# Choose max_depth = 12\n",
    "dt = DecisionTreeClassifier(max_depth=12)"
   ]
  },
  {
   "cell_type": "code",
   "execution_count": 238,
   "metadata": {},
   "outputs": [
    {
     "data": {
      "text/html": [
       "<style>#sk-container-id-18 {color: black;background-color: white;}#sk-container-id-18 pre{padding: 0;}#sk-container-id-18 div.sk-toggleable {background-color: white;}#sk-container-id-18 label.sk-toggleable__label {cursor: pointer;display: block;width: 100%;margin-bottom: 0;padding: 0.3em;box-sizing: border-box;text-align: center;}#sk-container-id-18 label.sk-toggleable__label-arrow:before {content: \"▸\";float: left;margin-right: 0.25em;color: #696969;}#sk-container-id-18 label.sk-toggleable__label-arrow:hover:before {color: black;}#sk-container-id-18 div.sk-estimator:hover label.sk-toggleable__label-arrow:before {color: black;}#sk-container-id-18 div.sk-toggleable__content {max-height: 0;max-width: 0;overflow: hidden;text-align: left;background-color: #f0f8ff;}#sk-container-id-18 div.sk-toggleable__content pre {margin: 0.2em;color: black;border-radius: 0.25em;background-color: #f0f8ff;}#sk-container-id-18 input.sk-toggleable__control:checked~div.sk-toggleable__content {max-height: 200px;max-width: 100%;overflow: auto;}#sk-container-id-18 input.sk-toggleable__control:checked~label.sk-toggleable__label-arrow:before {content: \"▾\";}#sk-container-id-18 div.sk-estimator input.sk-toggleable__control:checked~label.sk-toggleable__label {background-color: #d4ebff;}#sk-container-id-18 div.sk-label input.sk-toggleable__control:checked~label.sk-toggleable__label {background-color: #d4ebff;}#sk-container-id-18 input.sk-hidden--visually {border: 0;clip: rect(1px 1px 1px 1px);clip: rect(1px, 1px, 1px, 1px);height: 1px;margin: -1px;overflow: hidden;padding: 0;position: absolute;width: 1px;}#sk-container-id-18 div.sk-estimator {font-family: monospace;background-color: #f0f8ff;border: 1px dotted black;border-radius: 0.25em;box-sizing: border-box;margin-bottom: 0.5em;}#sk-container-id-18 div.sk-estimator:hover {background-color: #d4ebff;}#sk-container-id-18 div.sk-parallel-item::after {content: \"\";width: 100%;border-bottom: 1px solid gray;flex-grow: 1;}#sk-container-id-18 div.sk-label:hover label.sk-toggleable__label {background-color: #d4ebff;}#sk-container-id-18 div.sk-serial::before {content: \"\";position: absolute;border-left: 1px solid gray;box-sizing: border-box;top: 0;bottom: 0;left: 50%;z-index: 0;}#sk-container-id-18 div.sk-serial {display: flex;flex-direction: column;align-items: center;background-color: white;padding-right: 0.2em;padding-left: 0.2em;position: relative;}#sk-container-id-18 div.sk-item {position: relative;z-index: 1;}#sk-container-id-18 div.sk-parallel {display: flex;align-items: stretch;justify-content: center;background-color: white;position: relative;}#sk-container-id-18 div.sk-item::before, #sk-container-id-18 div.sk-parallel-item::before {content: \"\";position: absolute;border-left: 1px solid gray;box-sizing: border-box;top: 0;bottom: 0;left: 50%;z-index: -1;}#sk-container-id-18 div.sk-parallel-item {display: flex;flex-direction: column;z-index: 1;position: relative;background-color: white;}#sk-container-id-18 div.sk-parallel-item:first-child::after {align-self: flex-end;width: 50%;}#sk-container-id-18 div.sk-parallel-item:last-child::after {align-self: flex-start;width: 50%;}#sk-container-id-18 div.sk-parallel-item:only-child::after {width: 0;}#sk-container-id-18 div.sk-dashed-wrapped {border: 1px dashed gray;margin: 0 0.4em 0.5em 0.4em;box-sizing: border-box;padding-bottom: 0.4em;background-color: white;}#sk-container-id-18 div.sk-label label {font-family: monospace;font-weight: bold;display: inline-block;line-height: 1.2em;}#sk-container-id-18 div.sk-label-container {text-align: center;}#sk-container-id-18 div.sk-container {/* jupyter's `normalize.less` sets `[hidden] { display: none; }` but bootstrap.min.css set `[hidden] { display: none !important; }` so we also need the `!important` here to be able to override the default hidden behavior on the sphinx rendered scikit-learn.org. See: https://github.com/scikit-learn/scikit-learn/issues/21755 */display: inline-block !important;position: relative;}#sk-container-id-18 div.sk-text-repr-fallback {display: none;}</style><div id=\"sk-container-id-18\" class=\"sk-top-container\"><div class=\"sk-text-repr-fallback\"><pre>DecisionTreeClassifier(max_depth=12)</pre><b>In a Jupyter environment, please rerun this cell to show the HTML representation or trust the notebook. <br />On GitHub, the HTML representation is unable to render, please try loading this page with nbviewer.org.</b></div><div class=\"sk-container\" hidden><div class=\"sk-item\"><div class=\"sk-estimator sk-toggleable\"><input class=\"sk-toggleable__control sk-hidden--visually\" id=\"sk-estimator-id-18\" type=\"checkbox\" checked><label for=\"sk-estimator-id-18\" class=\"sk-toggleable__label sk-toggleable__label-arrow\">DecisionTreeClassifier</label><div class=\"sk-toggleable__content\"><pre>DecisionTreeClassifier(max_depth=12)</pre></div></div></div></div></div>"
      ],
      "text/plain": [
       "DecisionTreeClassifier(max_depth=12)"
      ]
     },
     "execution_count": 238,
     "metadata": {},
     "output_type": "execute_result"
    }
   ],
   "source": [
    "dt.fit(X_train, y_train)"
   ]
  },
  {
   "cell_type": "code",
   "execution_count": 239,
   "metadata": {},
   "outputs": [],
   "source": [
    "df_result.loc[len(df_result)] = evaluation_result(dt, \"decision_tree\", \"train_set\", X_train, y_train)\n",
    "df_result.loc[len(df_result)] = evaluation_result(dt, \"decision_tree\", \"val_set\", X_val, y_val)\n",
    "df_result.loc[len(df_result)] = evaluation_result(dt, \"decision_tree\", \"test_set\", X_test, y_test)"
   ]
  },
  {
   "cell_type": "code",
   "execution_count": 234,
   "metadata": {},
   "outputs": [],
   "source": [
    "df_result.drop(index=[3,4,5,6,7,8], inplace=True)"
   ]
  },
  {
   "cell_type": "code",
   "execution_count": 240,
   "metadata": {},
   "outputs": [
    {
     "data": {
      "text/html": [
       "<div>\n",
       "<style scoped>\n",
       "    .dataframe tbody tr th:only-of-type {\n",
       "        vertical-align: middle;\n",
       "    }\n",
       "\n",
       "    .dataframe tbody tr th {\n",
       "        vertical-align: top;\n",
       "    }\n",
       "\n",
       "    .dataframe thead th {\n",
       "        text-align: right;\n",
       "    }\n",
       "</style>\n",
       "<table border=\"1\" class=\"dataframe\">\n",
       "  <thead>\n",
       "    <tr style=\"text-align: right;\">\n",
       "      <th></th>\n",
       "      <th>model</th>\n",
       "      <th>set</th>\n",
       "      <th>accuracy</th>\n",
       "      <th>auc_score</th>\n",
       "      <th>f1_score</th>\n",
       "    </tr>\n",
       "  </thead>\n",
       "  <tbody>\n",
       "    <tr>\n",
       "      <th>0</th>\n",
       "      <td>Logistics</td>\n",
       "      <td>train_set</td>\n",
       "      <td>0.994863</td>\n",
       "      <td>0.999082</td>\n",
       "      <td>0.986573</td>\n",
       "    </tr>\n",
       "    <tr>\n",
       "      <th>1</th>\n",
       "      <td>Logistics</td>\n",
       "      <td>val_set</td>\n",
       "      <td>0.994732</td>\n",
       "      <td>0.998991</td>\n",
       "      <td>0.986265</td>\n",
       "    </tr>\n",
       "    <tr>\n",
       "      <th>2</th>\n",
       "      <td>Logistics</td>\n",
       "      <td>test_set</td>\n",
       "      <td>0.994789</td>\n",
       "      <td>0.999085</td>\n",
       "      <td>0.986416</td>\n",
       "    </tr>\n",
       "    <tr>\n",
       "      <th>3</th>\n",
       "      <td>decision_tree</td>\n",
       "      <td>train_set</td>\n",
       "      <td>0.995856</td>\n",
       "      <td>0.998790</td>\n",
       "      <td>0.989193</td>\n",
       "    </tr>\n",
       "    <tr>\n",
       "      <th>4</th>\n",
       "      <td>decision_tree</td>\n",
       "      <td>val_set</td>\n",
       "      <td>0.994489</td>\n",
       "      <td>0.996807</td>\n",
       "      <td>0.985657</td>\n",
       "    </tr>\n",
       "    <tr>\n",
       "      <th>5</th>\n",
       "      <td>decision_tree</td>\n",
       "      <td>test_set</td>\n",
       "      <td>0.994344</td>\n",
       "      <td>0.997313</td>\n",
       "      <td>0.985283</td>\n",
       "    </tr>\n",
       "  </tbody>\n",
       "</table>\n",
       "</div>"
      ],
      "text/plain": [
       "           model        set  accuracy  auc_score  f1_score\n",
       "0      Logistics  train_set  0.994863   0.999082  0.986573\n",
       "1      Logistics    val_set  0.994732   0.998991  0.986265\n",
       "2      Logistics   test_set  0.994789   0.999085  0.986416\n",
       "3  decision_tree  train_set  0.995856   0.998790  0.989193\n",
       "4  decision_tree    val_set  0.994489   0.996807  0.985657\n",
       "5  decision_tree   test_set  0.994344   0.997313  0.985283"
      ]
     },
     "execution_count": 240,
     "metadata": {},
     "output_type": "execute_result"
    }
   ],
   "source": [
    "df_result"
   ]
  },
  {
   "cell_type": "markdown",
   "metadata": {},
   "source": [
    "### Random forest"
   ]
  },
  {
   "cell_type": "code",
   "execution_count": 241,
   "metadata": {},
   "outputs": [],
   "source": [
    "rf = RandomForestClassifier(max_depth=12)"
   ]
  },
  {
   "cell_type": "code",
   "execution_count": 242,
   "metadata": {},
   "outputs": [
    {
     "data": {
      "text/html": [
       "<style>#sk-container-id-19 {color: black;background-color: white;}#sk-container-id-19 pre{padding: 0;}#sk-container-id-19 div.sk-toggleable {background-color: white;}#sk-container-id-19 label.sk-toggleable__label {cursor: pointer;display: block;width: 100%;margin-bottom: 0;padding: 0.3em;box-sizing: border-box;text-align: center;}#sk-container-id-19 label.sk-toggleable__label-arrow:before {content: \"▸\";float: left;margin-right: 0.25em;color: #696969;}#sk-container-id-19 label.sk-toggleable__label-arrow:hover:before {color: black;}#sk-container-id-19 div.sk-estimator:hover label.sk-toggleable__label-arrow:before {color: black;}#sk-container-id-19 div.sk-toggleable__content {max-height: 0;max-width: 0;overflow: hidden;text-align: left;background-color: #f0f8ff;}#sk-container-id-19 div.sk-toggleable__content pre {margin: 0.2em;color: black;border-radius: 0.25em;background-color: #f0f8ff;}#sk-container-id-19 input.sk-toggleable__control:checked~div.sk-toggleable__content {max-height: 200px;max-width: 100%;overflow: auto;}#sk-container-id-19 input.sk-toggleable__control:checked~label.sk-toggleable__label-arrow:before {content: \"▾\";}#sk-container-id-19 div.sk-estimator input.sk-toggleable__control:checked~label.sk-toggleable__label {background-color: #d4ebff;}#sk-container-id-19 div.sk-label input.sk-toggleable__control:checked~label.sk-toggleable__label {background-color: #d4ebff;}#sk-container-id-19 input.sk-hidden--visually {border: 0;clip: rect(1px 1px 1px 1px);clip: rect(1px, 1px, 1px, 1px);height: 1px;margin: -1px;overflow: hidden;padding: 0;position: absolute;width: 1px;}#sk-container-id-19 div.sk-estimator {font-family: monospace;background-color: #f0f8ff;border: 1px dotted black;border-radius: 0.25em;box-sizing: border-box;margin-bottom: 0.5em;}#sk-container-id-19 div.sk-estimator:hover {background-color: #d4ebff;}#sk-container-id-19 div.sk-parallel-item::after {content: \"\";width: 100%;border-bottom: 1px solid gray;flex-grow: 1;}#sk-container-id-19 div.sk-label:hover label.sk-toggleable__label {background-color: #d4ebff;}#sk-container-id-19 div.sk-serial::before {content: \"\";position: absolute;border-left: 1px solid gray;box-sizing: border-box;top: 0;bottom: 0;left: 50%;z-index: 0;}#sk-container-id-19 div.sk-serial {display: flex;flex-direction: column;align-items: center;background-color: white;padding-right: 0.2em;padding-left: 0.2em;position: relative;}#sk-container-id-19 div.sk-item {position: relative;z-index: 1;}#sk-container-id-19 div.sk-parallel {display: flex;align-items: stretch;justify-content: center;background-color: white;position: relative;}#sk-container-id-19 div.sk-item::before, #sk-container-id-19 div.sk-parallel-item::before {content: \"\";position: absolute;border-left: 1px solid gray;box-sizing: border-box;top: 0;bottom: 0;left: 50%;z-index: -1;}#sk-container-id-19 div.sk-parallel-item {display: flex;flex-direction: column;z-index: 1;position: relative;background-color: white;}#sk-container-id-19 div.sk-parallel-item:first-child::after {align-self: flex-end;width: 50%;}#sk-container-id-19 div.sk-parallel-item:last-child::after {align-self: flex-start;width: 50%;}#sk-container-id-19 div.sk-parallel-item:only-child::after {width: 0;}#sk-container-id-19 div.sk-dashed-wrapped {border: 1px dashed gray;margin: 0 0.4em 0.5em 0.4em;box-sizing: border-box;padding-bottom: 0.4em;background-color: white;}#sk-container-id-19 div.sk-label label {font-family: monospace;font-weight: bold;display: inline-block;line-height: 1.2em;}#sk-container-id-19 div.sk-label-container {text-align: center;}#sk-container-id-19 div.sk-container {/* jupyter's `normalize.less` sets `[hidden] { display: none; }` but bootstrap.min.css set `[hidden] { display: none !important; }` so we also need the `!important` here to be able to override the default hidden behavior on the sphinx rendered scikit-learn.org. See: https://github.com/scikit-learn/scikit-learn/issues/21755 */display: inline-block !important;position: relative;}#sk-container-id-19 div.sk-text-repr-fallback {display: none;}</style><div id=\"sk-container-id-19\" class=\"sk-top-container\"><div class=\"sk-text-repr-fallback\"><pre>RandomForestClassifier(max_depth=12)</pre><b>In a Jupyter environment, please rerun this cell to show the HTML representation or trust the notebook. <br />On GitHub, the HTML representation is unable to render, please try loading this page with nbviewer.org.</b></div><div class=\"sk-container\" hidden><div class=\"sk-item\"><div class=\"sk-estimator sk-toggleable\"><input class=\"sk-toggleable__control sk-hidden--visually\" id=\"sk-estimator-id-19\" type=\"checkbox\" checked><label for=\"sk-estimator-id-19\" class=\"sk-toggleable__label sk-toggleable__label-arrow\">RandomForestClassifier</label><div class=\"sk-toggleable__content\"><pre>RandomForestClassifier(max_depth=12)</pre></div></div></div></div></div>"
      ],
      "text/plain": [
       "RandomForestClassifier(max_depth=12)"
      ]
     },
     "execution_count": 242,
     "metadata": {},
     "output_type": "execute_result"
    }
   ],
   "source": [
    "rf.fit(X_train, y_train)"
   ]
  },
  {
   "cell_type": "code",
   "execution_count": 243,
   "metadata": {},
   "outputs": [],
   "source": [
    "df_result.loc[len(df_result)] = evaluation_result(rf, \"random_forest\", \"train_set\", X_train, y_train)\n",
    "df_result.loc[len(df_result)] = evaluation_result(rf, \"random_forest\", \"val_set\", X_val, y_val)\n",
    "df_result.loc[len(df_result)] = evaluation_result(rf, \"random_forest\", \"test_set\", X_test, y_test)"
   ]
  },
  {
   "cell_type": "code",
   "execution_count": 244,
   "metadata": {},
   "outputs": [
    {
     "data": {
      "text/html": [
       "<div>\n",
       "<style scoped>\n",
       "    .dataframe tbody tr th:only-of-type {\n",
       "        vertical-align: middle;\n",
       "    }\n",
       "\n",
       "    .dataframe tbody tr th {\n",
       "        vertical-align: top;\n",
       "    }\n",
       "\n",
       "    .dataframe thead th {\n",
       "        text-align: right;\n",
       "    }\n",
       "</style>\n",
       "<table border=\"1\" class=\"dataframe\">\n",
       "  <thead>\n",
       "    <tr style=\"text-align: right;\">\n",
       "      <th></th>\n",
       "      <th>model</th>\n",
       "      <th>set</th>\n",
       "      <th>accuracy</th>\n",
       "      <th>auc_score</th>\n",
       "      <th>f1_score</th>\n",
       "    </tr>\n",
       "  </thead>\n",
       "  <tbody>\n",
       "    <tr>\n",
       "      <th>0</th>\n",
       "      <td>Logistics</td>\n",
       "      <td>train_set</td>\n",
       "      <td>0.994863</td>\n",
       "      <td>0.999082</td>\n",
       "      <td>0.986573</td>\n",
       "    </tr>\n",
       "    <tr>\n",
       "      <th>1</th>\n",
       "      <td>Logistics</td>\n",
       "      <td>val_set</td>\n",
       "      <td>0.994732</td>\n",
       "      <td>0.998991</td>\n",
       "      <td>0.986265</td>\n",
       "    </tr>\n",
       "    <tr>\n",
       "      <th>2</th>\n",
       "      <td>Logistics</td>\n",
       "      <td>test_set</td>\n",
       "      <td>0.994789</td>\n",
       "      <td>0.999085</td>\n",
       "      <td>0.986416</td>\n",
       "    </tr>\n",
       "    <tr>\n",
       "      <th>3</th>\n",
       "      <td>decision_tree</td>\n",
       "      <td>train_set</td>\n",
       "      <td>0.995856</td>\n",
       "      <td>0.998790</td>\n",
       "      <td>0.989193</td>\n",
       "    </tr>\n",
       "    <tr>\n",
       "      <th>4</th>\n",
       "      <td>decision_tree</td>\n",
       "      <td>val_set</td>\n",
       "      <td>0.994489</td>\n",
       "      <td>0.996807</td>\n",
       "      <td>0.985657</td>\n",
       "    </tr>\n",
       "    <tr>\n",
       "      <th>5</th>\n",
       "      <td>decision_tree</td>\n",
       "      <td>test_set</td>\n",
       "      <td>0.994344</td>\n",
       "      <td>0.997313</td>\n",
       "      <td>0.985283</td>\n",
       "    </tr>\n",
       "    <tr>\n",
       "      <th>6</th>\n",
       "      <td>random_forest</td>\n",
       "      <td>train_set</td>\n",
       "      <td>0.987930</td>\n",
       "      <td>0.998704</td>\n",
       "      <td>0.968025</td>\n",
       "    </tr>\n",
       "    <tr>\n",
       "      <th>7</th>\n",
       "      <td>random_forest</td>\n",
       "      <td>val_set</td>\n",
       "      <td>0.986168</td>\n",
       "      <td>0.998189</td>\n",
       "      <td>0.963431</td>\n",
       "    </tr>\n",
       "    <tr>\n",
       "      <th>8</th>\n",
       "      <td>random_forest</td>\n",
       "      <td>test_set</td>\n",
       "      <td>0.985984</td>\n",
       "      <td>0.998171</td>\n",
       "      <td>0.962925</td>\n",
       "    </tr>\n",
       "  </tbody>\n",
       "</table>\n",
       "</div>"
      ],
      "text/plain": [
       "           model        set  accuracy  auc_score  f1_score\n",
       "0      Logistics  train_set  0.994863   0.999082  0.986573\n",
       "1      Logistics    val_set  0.994732   0.998991  0.986265\n",
       "2      Logistics   test_set  0.994789   0.999085  0.986416\n",
       "3  decision_tree  train_set  0.995856   0.998790  0.989193\n",
       "4  decision_tree    val_set  0.994489   0.996807  0.985657\n",
       "5  decision_tree   test_set  0.994344   0.997313  0.985283\n",
       "6  random_forest  train_set  0.987930   0.998704  0.968025\n",
       "7  random_forest    val_set  0.986168   0.998189  0.963431\n",
       "8  random_forest   test_set  0.985984   0.998171  0.962925"
      ]
     },
     "execution_count": 244,
     "metadata": {},
     "output_type": "execute_result"
    }
   ],
   "source": [
    "df_result"
   ]
  },
  {
   "cell_type": "markdown",
   "metadata": {},
   "source": [
    "### XGBOOST"
   ]
  },
  {
   "cell_type": "code",
   "execution_count": 250,
   "metadata": {},
   "outputs": [],
   "source": [
    "features = dv.get_feature_names_out()\n",
    "features = [item.replace(\"<\", \"less_than\") for item in features]\n",
    "dtrain = xgb.DMatrix(X_train, label=y_train, feature_names=features)\n",
    "dval = xgb.DMatrix(X_val, label=y_val, feature_names=features)\n",
    "dtest = xgb.DMatrix(X_test, label=y_test, feature_names=features)"
   ]
  },
  {
   "cell_type": "code",
   "execution_count": 157,
   "metadata": {},
   "outputs": [],
   "source": [
    "xgb_params = {\n",
    "    'eta': 0.1, \n",
    "    'max_depth': 6,\n",
    "    'min_child_weight': 1,\n",
    "    \n",
    "    'objective': 'reg:logistic',\n",
    "    'nthread': 8,\n",
    "    'eval_metric': \"auc\",\n",
    "    'seed': 1,\n",
    "    'verbosity': 1,\n",
    "}"
   ]
  },
  {
   "cell_type": "code",
   "execution_count": 158,
   "metadata": {},
   "outputs": [],
   "source": [
    "watchlist = [(dtrain, \"train\"), (dval, \"val\")]"
   ]
  },
  {
   "cell_type": "code",
   "execution_count": 246,
   "metadata": {},
   "outputs": [
    {
     "name": "stdout",
     "output_type": "stream",
     "text": [
      "[0]\ttrain-auc:0.99275\tval-auc:0.99242\n",
      "[1]\ttrain-auc:0.99421\tval-auc:0.99385\n",
      "[2]\ttrain-auc:0.99426\tval-auc:0.99391\n",
      "[3]\ttrain-auc:0.99531\tval-auc:0.99500\n",
      "[4]\ttrain-auc:0.99524\tval-auc:0.99493\n",
      "[5]\ttrain-auc:0.99554\tval-auc:0.99521\n",
      "[6]\ttrain-auc:0.99568\tval-auc:0.99536\n",
      "[7]\ttrain-auc:0.99567\tval-auc:0.99536\n",
      "[8]\ttrain-auc:0.99590\tval-auc:0.99559\n",
      "[9]\ttrain-auc:0.99641\tval-auc:0.99616\n",
      "[10]\ttrain-auc:0.99659\tval-auc:0.99638\n",
      "[11]\ttrain-auc:0.99684\tval-auc:0.99664\n",
      "[12]\ttrain-auc:0.99700\tval-auc:0.99679\n",
      "[13]\ttrain-auc:0.99706\tval-auc:0.99686\n",
      "[14]\ttrain-auc:0.99709\tval-auc:0.99688\n",
      "[15]\ttrain-auc:0.99723\tval-auc:0.99701\n",
      "[16]\ttrain-auc:0.99738\tval-auc:0.99719\n",
      "[17]\ttrain-auc:0.99751\tval-auc:0.99733\n",
      "[18]\ttrain-auc:0.99756\tval-auc:0.99737\n",
      "[19]\ttrain-auc:0.99823\tval-auc:0.99803\n",
      "[20]\ttrain-auc:0.99823\tval-auc:0.99804\n",
      "[21]\ttrain-auc:0.99829\tval-auc:0.99810\n",
      "[22]\ttrain-auc:0.99843\tval-auc:0.99825\n",
      "[23]\ttrain-auc:0.99848\tval-auc:0.99829\n",
      "[24]\ttrain-auc:0.99858\tval-auc:0.99840\n",
      "[25]\ttrain-auc:0.99862\tval-auc:0.99844\n",
      "[26]\ttrain-auc:0.99864\tval-auc:0.99846\n",
      "[27]\ttrain-auc:0.99867\tval-auc:0.99850\n",
      "[28]\ttrain-auc:0.99869\tval-auc:0.99852\n",
      "[29]\ttrain-auc:0.99872\tval-auc:0.99855\n",
      "[30]\ttrain-auc:0.99875\tval-auc:0.99858\n",
      "[31]\ttrain-auc:0.99879\tval-auc:0.99863\n",
      "[32]\ttrain-auc:0.99881\tval-auc:0.99865\n",
      "[33]\ttrain-auc:0.99885\tval-auc:0.99869\n",
      "[34]\ttrain-auc:0.99888\tval-auc:0.99872\n",
      "[35]\ttrain-auc:0.99893\tval-auc:0.99878\n",
      "[36]\ttrain-auc:0.99898\tval-auc:0.99884\n",
      "[37]\ttrain-auc:0.99899\tval-auc:0.99885\n",
      "[38]\ttrain-auc:0.99903\tval-auc:0.99888\n",
      "[39]\ttrain-auc:0.99906\tval-auc:0.99891\n",
      "[40]\ttrain-auc:0.99908\tval-auc:0.99893\n",
      "[41]\ttrain-auc:0.99911\tval-auc:0.99897\n",
      "[42]\ttrain-auc:0.99913\tval-auc:0.99898\n",
      "[43]\ttrain-auc:0.99914\tval-auc:0.99899\n",
      "[44]\ttrain-auc:0.99918\tval-auc:0.99904\n",
      "[45]\ttrain-auc:0.99920\tval-auc:0.99905\n",
      "[46]\ttrain-auc:0.99923\tval-auc:0.99909\n",
      "[47]\ttrain-auc:0.99926\tval-auc:0.99912\n",
      "[48]\ttrain-auc:0.99929\tval-auc:0.99914\n",
      "[49]\ttrain-auc:0.99931\tval-auc:0.99916\n",
      "[50]\ttrain-auc:0.99933\tval-auc:0.99918\n",
      "[51]\ttrain-auc:0.99935\tval-auc:0.99919\n",
      "[52]\ttrain-auc:0.99937\tval-auc:0.99920\n",
      "[53]\ttrain-auc:0.99938\tval-auc:0.99921\n",
      "[54]\ttrain-auc:0.99940\tval-auc:0.99923\n",
      "[55]\ttrain-auc:0.99942\tval-auc:0.99924\n",
      "[56]\ttrain-auc:0.99944\tval-auc:0.99926\n",
      "[57]\ttrain-auc:0.99945\tval-auc:0.99927\n",
      "[58]\ttrain-auc:0.99946\tval-auc:0.99928\n",
      "[59]\ttrain-auc:0.99948\tval-auc:0.99931\n",
      "[60]\ttrain-auc:0.99950\tval-auc:0.99933\n",
      "[61]\ttrain-auc:0.99951\tval-auc:0.99934\n",
      "[62]\ttrain-auc:0.99953\tval-auc:0.99936\n",
      "[63]\ttrain-auc:0.99954\tval-auc:0.99937\n",
      "[64]\ttrain-auc:0.99955\tval-auc:0.99938\n",
      "[65]\ttrain-auc:0.99956\tval-auc:0.99939\n",
      "[66]\ttrain-auc:0.99958\tval-auc:0.99940\n",
      "[67]\ttrain-auc:0.99959\tval-auc:0.99942\n",
      "[68]\ttrain-auc:0.99960\tval-auc:0.99943\n",
      "[69]\ttrain-auc:0.99962\tval-auc:0.99945\n",
      "[70]\ttrain-auc:0.99965\tval-auc:0.99949\n",
      "[71]\ttrain-auc:0.99966\tval-auc:0.99949\n",
      "[72]\ttrain-auc:0.99967\tval-auc:0.99950\n",
      "[73]\ttrain-auc:0.99968\tval-auc:0.99952\n",
      "[74]\ttrain-auc:0.99969\tval-auc:0.99953\n",
      "[75]\ttrain-auc:0.99969\tval-auc:0.99953\n",
      "[76]\ttrain-auc:0.99971\tval-auc:0.99955\n",
      "[77]\ttrain-auc:0.99971\tval-auc:0.99955\n",
      "[78]\ttrain-auc:0.99972\tval-auc:0.99956\n",
      "[79]\ttrain-auc:0.99973\tval-auc:0.99957\n",
      "[80]\ttrain-auc:0.99974\tval-auc:0.99959\n",
      "[81]\ttrain-auc:0.99975\tval-auc:0.99960\n",
      "[82]\ttrain-auc:0.99976\tval-auc:0.99960\n",
      "[83]\ttrain-auc:0.99976\tval-auc:0.99961\n",
      "[84]\ttrain-auc:0.99977\tval-auc:0.99962\n",
      "[85]\ttrain-auc:0.99977\tval-auc:0.99963\n",
      "[86]\ttrain-auc:0.99979\tval-auc:0.99964\n",
      "[87]\ttrain-auc:0.99979\tval-auc:0.99965\n",
      "[88]\ttrain-auc:0.99980\tval-auc:0.99965\n",
      "[89]\ttrain-auc:0.99980\tval-auc:0.99966\n",
      "[90]\ttrain-auc:0.99980\tval-auc:0.99966\n",
      "[91]\ttrain-auc:0.99981\tval-auc:0.99966\n",
      "[92]\ttrain-auc:0.99981\tval-auc:0.99967\n",
      "[93]\ttrain-auc:0.99982\tval-auc:0.99967\n",
      "[94]\ttrain-auc:0.99982\tval-auc:0.99968\n",
      "[95]\ttrain-auc:0.99983\tval-auc:0.99968\n",
      "[96]\ttrain-auc:0.99983\tval-auc:0.99969\n",
      "[97]\ttrain-auc:0.99984\tval-auc:0.99969\n",
      "[98]\ttrain-auc:0.99984\tval-auc:0.99969\n",
      "[99]\ttrain-auc:0.99984\tval-auc:0.99969\n",
      "[100]\ttrain-auc:0.99984\tval-auc:0.99969\n",
      "[101]\ttrain-auc:0.99985\tval-auc:0.99970\n",
      "[102]\ttrain-auc:0.99986\tval-auc:0.99971\n",
      "[103]\ttrain-auc:0.99986\tval-auc:0.99971\n",
      "[104]\ttrain-auc:0.99986\tval-auc:0.99972\n",
      "[105]\ttrain-auc:0.99986\tval-auc:0.99972\n",
      "[106]\ttrain-auc:0.99987\tval-auc:0.99972\n",
      "[107]\ttrain-auc:0.99987\tval-auc:0.99972\n",
      "[108]\ttrain-auc:0.99987\tval-auc:0.99973\n",
      "[109]\ttrain-auc:0.99987\tval-auc:0.99973\n",
      "[110]\ttrain-auc:0.99988\tval-auc:0.99973\n",
      "[111]\ttrain-auc:0.99988\tval-auc:0.99974\n",
      "[112]\ttrain-auc:0.99988\tval-auc:0.99974\n",
      "[113]\ttrain-auc:0.99989\tval-auc:0.99975\n",
      "[114]\ttrain-auc:0.99989\tval-auc:0.99975\n",
      "[115]\ttrain-auc:0.99989\tval-auc:0.99975\n",
      "[116]\ttrain-auc:0.99989\tval-auc:0.99975\n",
      "[117]\ttrain-auc:0.99990\tval-auc:0.99975\n",
      "[118]\ttrain-auc:0.99990\tval-auc:0.99975\n",
      "[119]\ttrain-auc:0.99990\tval-auc:0.99975\n",
      "[120]\ttrain-auc:0.99990\tval-auc:0.99976\n",
      "[121]\ttrain-auc:0.99990\tval-auc:0.99976\n",
      "[122]\ttrain-auc:0.99991\tval-auc:0.99976\n",
      "[123]\ttrain-auc:0.99991\tval-auc:0.99976\n",
      "[124]\ttrain-auc:0.99991\tval-auc:0.99977\n",
      "[125]\ttrain-auc:0.99991\tval-auc:0.99977\n",
      "[126]\ttrain-auc:0.99991\tval-auc:0.99977\n",
      "[127]\ttrain-auc:0.99991\tval-auc:0.99977\n",
      "[128]\ttrain-auc:0.99992\tval-auc:0.99977\n",
      "[129]\ttrain-auc:0.99992\tval-auc:0.99977\n",
      "[130]\ttrain-auc:0.99992\tval-auc:0.99977\n",
      "[131]\ttrain-auc:0.99992\tval-auc:0.99977\n",
      "[132]\ttrain-auc:0.99992\tval-auc:0.99978\n",
      "[133]\ttrain-auc:0.99992\tval-auc:0.99978\n",
      "[134]\ttrain-auc:0.99992\tval-auc:0.99978\n",
      "[135]\ttrain-auc:0.99992\tval-auc:0.99979\n",
      "[136]\ttrain-auc:0.99993\tval-auc:0.99979\n",
      "[137]\ttrain-auc:0.99993\tval-auc:0.99979\n",
      "[138]\ttrain-auc:0.99993\tval-auc:0.99979\n",
      "[139]\ttrain-auc:0.99993\tval-auc:0.99979\n",
      "[140]\ttrain-auc:0.99993\tval-auc:0.99979\n",
      "[141]\ttrain-auc:0.99993\tval-auc:0.99979\n",
      "[142]\ttrain-auc:0.99993\tval-auc:0.99979\n",
      "[143]\ttrain-auc:0.99993\tval-auc:0.99979\n",
      "[144]\ttrain-auc:0.99993\tval-auc:0.99980\n",
      "[145]\ttrain-auc:0.99994\tval-auc:0.99980\n",
      "[146]\ttrain-auc:0.99994\tval-auc:0.99980\n",
      "[147]\ttrain-auc:0.99994\tval-auc:0.99980\n",
      "[148]\ttrain-auc:0.99994\tval-auc:0.99980\n",
      "[149]\ttrain-auc:0.99994\tval-auc:0.99980\n",
      "[150]\ttrain-auc:0.99994\tval-auc:0.99980\n",
      "[151]\ttrain-auc:0.99994\tval-auc:0.99980\n",
      "[152]\ttrain-auc:0.99994\tval-auc:0.99980\n",
      "[153]\ttrain-auc:0.99994\tval-auc:0.99980\n",
      "[154]\ttrain-auc:0.99994\tval-auc:0.99981\n",
      "[155]\ttrain-auc:0.99994\tval-auc:0.99981\n",
      "[156]\ttrain-auc:0.99995\tval-auc:0.99981\n",
      "[157]\ttrain-auc:0.99995\tval-auc:0.99981\n",
      "[158]\ttrain-auc:0.99995\tval-auc:0.99981\n",
      "[159]\ttrain-auc:0.99995\tval-auc:0.99981\n",
      "[160]\ttrain-auc:0.99995\tval-auc:0.99981\n",
      "[161]\ttrain-auc:0.99995\tval-auc:0.99981\n",
      "[162]\ttrain-auc:0.99995\tval-auc:0.99981\n",
      "[163]\ttrain-auc:0.99995\tval-auc:0.99981\n",
      "[164]\ttrain-auc:0.99995\tval-auc:0.99981\n",
      "[165]\ttrain-auc:0.99995\tval-auc:0.99981\n",
      "[166]\ttrain-auc:0.99995\tval-auc:0.99981\n",
      "[167]\ttrain-auc:0.99995\tval-auc:0.99981\n",
      "[168]\ttrain-auc:0.99995\tval-auc:0.99981\n",
      "[169]\ttrain-auc:0.99995\tval-auc:0.99981\n",
      "[170]\ttrain-auc:0.99995\tval-auc:0.99981\n",
      "[171]\ttrain-auc:0.99996\tval-auc:0.99981\n",
      "[172]\ttrain-auc:0.99996\tval-auc:0.99981\n",
      "[173]\ttrain-auc:0.99996\tval-auc:0.99981\n",
      "[174]\ttrain-auc:0.99996\tval-auc:0.99982\n",
      "[175]\ttrain-auc:0.99996\tval-auc:0.99981\n",
      "[176]\ttrain-auc:0.99996\tval-auc:0.99982\n",
      "[177]\ttrain-auc:0.99996\tval-auc:0.99981\n",
      "[178]\ttrain-auc:0.99996\tval-auc:0.99982\n",
      "[179]\ttrain-auc:0.99996\tval-auc:0.99982\n",
      "[180]\ttrain-auc:0.99996\tval-auc:0.99982\n",
      "[181]\ttrain-auc:0.99996\tval-auc:0.99982\n",
      "[182]\ttrain-auc:0.99996\tval-auc:0.99982\n",
      "[183]\ttrain-auc:0.99996\tval-auc:0.99982\n",
      "[184]\ttrain-auc:0.99996\tval-auc:0.99982\n",
      "[185]\ttrain-auc:0.99996\tval-auc:0.99982\n",
      "[186]\ttrain-auc:0.99996\tval-auc:0.99982\n",
      "[187]\ttrain-auc:0.99996\tval-auc:0.99982\n",
      "[188]\ttrain-auc:0.99996\tval-auc:0.99982\n",
      "[189]\ttrain-auc:0.99997\tval-auc:0.99982\n",
      "[190]\ttrain-auc:0.99997\tval-auc:0.99982\n",
      "[191]\ttrain-auc:0.99997\tval-auc:0.99982\n",
      "[192]\ttrain-auc:0.99997\tval-auc:0.99982\n",
      "[193]\ttrain-auc:0.99997\tval-auc:0.99982\n",
      "[194]\ttrain-auc:0.99997\tval-auc:0.99982\n",
      "[195]\ttrain-auc:0.99997\tval-auc:0.99982\n",
      "[196]\ttrain-auc:0.99997\tval-auc:0.99982\n",
      "[197]\ttrain-auc:0.99997\tval-auc:0.99982\n",
      "[198]\ttrain-auc:0.99997\tval-auc:0.99982\n",
      "[199]\ttrain-auc:0.99997\tval-auc:0.99982\n"
     ]
    }
   ],
   "source": [
    "model_xgb = xgb.train(xgb_params, dtrain, num_boost_round=200, evals=watchlist)"
   ]
  },
  {
   "cell_type": "code",
   "execution_count": 251,
   "metadata": {},
   "outputs": [],
   "source": [
    "def evaluation_result_xgb(model, model_name, set_name, X, y):\n",
    "    score = [model_name, set_name]\n",
    "    y_pred_prob = model.predict(X)\n",
    "    y_pred = y_pred_prob > 0.5\n",
    "    score.append(accuracy_score(y, y_pred))\n",
    "    score.append(roc_auc_score(y , y_pred_prob))\n",
    "    score.append(f1_score(y, y_pred))\n",
    "    return score"
   ]
  },
  {
   "cell_type": "code",
   "execution_count": 248,
   "metadata": {},
   "outputs": [
    {
     "data": {
      "text/plain": [
       "array([2.6531423e-05, 9.1937365e-04, 1.4446455e-04, ..., 6.1185041e-05,\n",
       "       9.9999988e-01, 1.9592666e-03], dtype=float32)"
      ]
     },
     "execution_count": 248,
     "metadata": {},
     "output_type": "execute_result"
    }
   ],
   "source": [
    "model_xgb.predict(dval)"
   ]
  },
  {
   "cell_type": "code",
   "execution_count": 253,
   "metadata": {},
   "outputs": [],
   "source": [
    "df_result.loc[len(df_result)] = evaluation_result_xgb(model_xgb, \"xgb_model\", \"train_set\", dtrain, y_train)\n",
    "df_result.loc[len(df_result)] = evaluation_result_xgb(model_xgb, \"xgb_model\", \"val_set\", dval, y_val)\n",
    "df_result.loc[len(df_result)] = evaluation_result_xgb(model_xgb, \"xgb_model\", \"test_set\", dtest, y_test)"
   ]
  },
  {
   "cell_type": "code",
   "execution_count": 254,
   "metadata": {},
   "outputs": [
    {
     "data": {
      "text/html": [
       "<div>\n",
       "<style scoped>\n",
       "    .dataframe tbody tr th:only-of-type {\n",
       "        vertical-align: middle;\n",
       "    }\n",
       "\n",
       "    .dataframe tbody tr th {\n",
       "        vertical-align: top;\n",
       "    }\n",
       "\n",
       "    .dataframe thead th {\n",
       "        text-align: right;\n",
       "    }\n",
       "</style>\n",
       "<table border=\"1\" class=\"dataframe\">\n",
       "  <thead>\n",
       "    <tr style=\"text-align: right;\">\n",
       "      <th></th>\n",
       "      <th>model</th>\n",
       "      <th>set</th>\n",
       "      <th>accuracy</th>\n",
       "      <th>auc_score</th>\n",
       "      <th>f1_score</th>\n",
       "    </tr>\n",
       "  </thead>\n",
       "  <tbody>\n",
       "    <tr>\n",
       "      <th>0</th>\n",
       "      <td>Logistics</td>\n",
       "      <td>train_set</td>\n",
       "      <td>0.994863</td>\n",
       "      <td>0.999082</td>\n",
       "      <td>0.986573</td>\n",
       "    </tr>\n",
       "    <tr>\n",
       "      <th>1</th>\n",
       "      <td>Logistics</td>\n",
       "      <td>val_set</td>\n",
       "      <td>0.994732</td>\n",
       "      <td>0.998991</td>\n",
       "      <td>0.986265</td>\n",
       "    </tr>\n",
       "    <tr>\n",
       "      <th>2</th>\n",
       "      <td>Logistics</td>\n",
       "      <td>test_set</td>\n",
       "      <td>0.994789</td>\n",
       "      <td>0.999085</td>\n",
       "      <td>0.986416</td>\n",
       "    </tr>\n",
       "    <tr>\n",
       "      <th>3</th>\n",
       "      <td>decision_tree</td>\n",
       "      <td>train_set</td>\n",
       "      <td>0.995856</td>\n",
       "      <td>0.998790</td>\n",
       "      <td>0.989193</td>\n",
       "    </tr>\n",
       "    <tr>\n",
       "      <th>4</th>\n",
       "      <td>decision_tree</td>\n",
       "      <td>val_set</td>\n",
       "      <td>0.994489</td>\n",
       "      <td>0.996807</td>\n",
       "      <td>0.985657</td>\n",
       "    </tr>\n",
       "    <tr>\n",
       "      <th>5</th>\n",
       "      <td>decision_tree</td>\n",
       "      <td>test_set</td>\n",
       "      <td>0.994344</td>\n",
       "      <td>0.997313</td>\n",
       "      <td>0.985283</td>\n",
       "    </tr>\n",
       "    <tr>\n",
       "      <th>6</th>\n",
       "      <td>random_forest</td>\n",
       "      <td>train_set</td>\n",
       "      <td>0.987930</td>\n",
       "      <td>0.998704</td>\n",
       "      <td>0.968025</td>\n",
       "    </tr>\n",
       "    <tr>\n",
       "      <th>7</th>\n",
       "      <td>random_forest</td>\n",
       "      <td>val_set</td>\n",
       "      <td>0.986168</td>\n",
       "      <td>0.998189</td>\n",
       "      <td>0.963431</td>\n",
       "    </tr>\n",
       "    <tr>\n",
       "      <th>8</th>\n",
       "      <td>random_forest</td>\n",
       "      <td>test_set</td>\n",
       "      <td>0.985984</td>\n",
       "      <td>0.998171</td>\n",
       "      <td>0.962925</td>\n",
       "    </tr>\n",
       "    <tr>\n",
       "      <th>9</th>\n",
       "      <td>xgb_model</td>\n",
       "      <td>train_set</td>\n",
       "      <td>0.999163</td>\n",
       "      <td>0.999970</td>\n",
       "      <td>0.997829</td>\n",
       "    </tr>\n",
       "    <tr>\n",
       "      <th>10</th>\n",
       "      <td>xgb_model</td>\n",
       "      <td>val_set</td>\n",
       "      <td>0.998541</td>\n",
       "      <td>0.999825</td>\n",
       "      <td>0.996222</td>\n",
       "    </tr>\n",
       "    <tr>\n",
       "      <th>11</th>\n",
       "      <td>xgb_model</td>\n",
       "      <td>test_set</td>\n",
       "      <td>0.998569</td>\n",
       "      <td>0.999852</td>\n",
       "      <td>0.996295</td>\n",
       "    </tr>\n",
       "  </tbody>\n",
       "</table>\n",
       "</div>"
      ],
      "text/plain": [
       "            model        set  accuracy  auc_score  f1_score\n",
       "0       Logistics  train_set  0.994863   0.999082  0.986573\n",
       "1       Logistics    val_set  0.994732   0.998991  0.986265\n",
       "2       Logistics   test_set  0.994789   0.999085  0.986416\n",
       "3   decision_tree  train_set  0.995856   0.998790  0.989193\n",
       "4   decision_tree    val_set  0.994489   0.996807  0.985657\n",
       "5   decision_tree   test_set  0.994344   0.997313  0.985283\n",
       "6   random_forest  train_set  0.987930   0.998704  0.968025\n",
       "7   random_forest    val_set  0.986168   0.998189  0.963431\n",
       "8   random_forest   test_set  0.985984   0.998171  0.962925\n",
       "9       xgb_model  train_set  0.999163   0.999970  0.997829\n",
       "10      xgb_model    val_set  0.998541   0.999825  0.996222\n",
       "11      xgb_model   test_set  0.998569   0.999852  0.996295"
      ]
     },
     "execution_count": 254,
     "metadata": {},
     "output_type": "execute_result"
    }
   ],
   "source": [
    "df_result"
   ]
  },
  {
   "cell_type": "code",
   "execution_count": 255,
   "metadata": {},
   "outputs": [
    {
     "data": {
      "text/plain": [
       "<AxesSubplot:title={'center':'Feature importance'}, xlabel='F score', ylabel='Features'>"
      ]
     },
     "execution_count": 255,
     "metadata": {},
     "output_type": "execute_result"
    },
    {
     "data": {
      "text/plain": [
       "<Figure size 2880x864 with 0 Axes>"
      ]
     },
     "metadata": {},
     "output_type": "display_data"
    },
    {
     "data": {
      "image/png": "[encoded data removed]",
      "text/plain": [
       "<Figure size 432x288 with 1 Axes>"
      ]
     },
     "metadata": {
      "needs_background": "light"
     },
     "output_type": "display_data"
    }
   ],
   "source": [
    "plt.figure(figsize=(40, 12))\n",
    "xgb.plot_importance(model_xgb, max_num_features=15)"
   ]
  },
  {
   "cell_type": "code",
   "execution_count": 180,
   "metadata": {},
   "outputs": [],
   "source": [
    "model_xgb_classifier = xgb.XGBClassifier(max_depth=5, random_state=1)"
   ]
  },
  {
   "cell_type": "code",
   "execution_count": 182,
   "metadata": {},
   "outputs": [
    {
     "data": {
      "text/html": [
       "<style>#sk-container-id-13 {color: black;background-color: white;}#sk-container-id-13 pre{padding: 0;}#sk-container-id-13 div.sk-toggleable {background-color: white;}#sk-container-id-13 label.sk-toggleable__label {cursor: pointer;display: block;width: 100%;margin-bottom: 0;padding: 0.3em;box-sizing: border-box;text-align: center;}#sk-container-id-13 label.sk-toggleable__label-arrow:before {content: \"▸\";float: left;margin-right: 0.25em;color: #696969;}#sk-container-id-13 label.sk-toggleable__label-arrow:hover:before {color: black;}#sk-container-id-13 div.sk-estimator:hover label.sk-toggleable__label-arrow:before {color: black;}#sk-container-id-13 div.sk-toggleable__content {max-height: 0;max-width: 0;overflow: hidden;text-align: left;background-color: #f0f8ff;}#sk-container-id-13 div.sk-toggleable__content pre {margin: 0.2em;color: black;border-radius: 0.25em;background-color: #f0f8ff;}#sk-container-id-13 input.sk-toggleable__control:checked~div.sk-toggleable__content {max-height: 200px;max-width: 100%;overflow: auto;}#sk-container-id-13 input.sk-toggleable__control:checked~label.sk-toggleable__label-arrow:before {content: \"▾\";}#sk-container-id-13 div.sk-estimator input.sk-toggleable__control:checked~label.sk-toggleable__label {background-color: #d4ebff;}#sk-container-id-13 div.sk-label input.sk-toggleable__control:checked~label.sk-toggleable__label {background-color: #d4ebff;}#sk-container-id-13 input.sk-hidden--visually {border: 0;clip: rect(1px 1px 1px 1px);clip: rect(1px, 1px, 1px, 1px);height: 1px;margin: -1px;overflow: hidden;padding: 0;position: absolute;width: 1px;}#sk-container-id-13 div.sk-estimator {font-family: monospace;background-color: #f0f8ff;border: 1px dotted black;border-radius: 0.25em;box-sizing: border-box;margin-bottom: 0.5em;}#sk-container-id-13 div.sk-estimator:hover {background-color: #d4ebff;}#sk-container-id-13 div.sk-parallel-item::after {content: \"\";width: 100%;border-bottom: 1px solid gray;flex-grow: 1;}#sk-container-id-13 div.sk-label:hover label.sk-toggleable__label {background-color: #d4ebff;}#sk-container-id-13 div.sk-serial::before {content: \"\";position: absolute;border-left: 1px solid gray;box-sizing: border-box;top: 0;bottom: 0;left: 50%;z-index: 0;}#sk-container-id-13 div.sk-serial {display: flex;flex-direction: column;align-items: center;background-color: white;padding-right: 0.2em;padding-left: 0.2em;position: relative;}#sk-container-id-13 div.sk-item {position: relative;z-index: 1;}#sk-container-id-13 div.sk-parallel {display: flex;align-items: stretch;justify-content: center;background-color: white;position: relative;}#sk-container-id-13 div.sk-item::before, #sk-container-id-13 div.sk-parallel-item::before {content: \"\";position: absolute;border-left: 1px solid gray;box-sizing: border-box;top: 0;bottom: 0;left: 50%;z-index: -1;}#sk-container-id-13 div.sk-parallel-item {display: flex;flex-direction: column;z-index: 1;position: relative;background-color: white;}#sk-container-id-13 div.sk-parallel-item:first-child::after {align-self: flex-end;width: 50%;}#sk-container-id-13 div.sk-parallel-item:last-child::after {align-self: flex-start;width: 50%;}#sk-container-id-13 div.sk-parallel-item:only-child::after {width: 0;}#sk-container-id-13 div.sk-dashed-wrapped {border: 1px dashed gray;margin: 0 0.4em 0.5em 0.4em;box-sizing: border-box;padding-bottom: 0.4em;background-color: white;}#sk-container-id-13 div.sk-label label {font-family: monospace;font-weight: bold;display: inline-block;line-height: 1.2em;}#sk-container-id-13 div.sk-label-container {text-align: center;}#sk-container-id-13 div.sk-container {/* jupyter's `normalize.less` sets `[hidden] { display: none; }` but bootstrap.min.css set `[hidden] { display: none !important; }` so we also need the `!important` here to be able to override the default hidden behavior on the sphinx rendered scikit-learn.org. See: https://github.com/scikit-learn/scikit-learn/issues/21755 */display: inline-block !important;position: relative;}#sk-container-id-13 div.sk-text-repr-fallback {display: none;}</style><div id=\"sk-container-id-13\" class=\"sk-top-container\"><div class=\"sk-text-repr-fallback\"><pre>XGBClassifier(base_score=0.5, booster=&#x27;gbtree&#x27;, callbacks=None,\n",
       "              colsample_bylevel=1, colsample_bynode=1, colsample_bytree=1,\n",
       "              early_stopping_rounds=None, enable_categorical=False,\n",
       "              eval_metric=None, gamma=0, gpu_id=-1, grow_policy=&#x27;depthwise&#x27;,\n",
       "              importance_type=None, interaction_constraints=&#x27;&#x27;,\n",
       "              learning_rate=0.300000012, max_bin=256, max_cat_to_onehot=4,\n",
       "              max_delta_step=0, max_depth=5, max_leaves=0, min_child_weight=1,\n",
       "              missing=nan, monotone_constraints=&#x27;()&#x27;, n_estimators=100,\n",
       "              n_jobs=0, num_parallel_tree=1, predictor=&#x27;auto&#x27;, random_state=0,\n",
       "              reg_alpha=0, reg_lambda=1, ...)</pre><b>In a Jupyter environment, please rerun this cell to show the HTML representation or trust the notebook. <br />On GitHub, the HTML representation is unable to render, please try loading this page with nbviewer.org.</b></div><div class=\"sk-container\" hidden><div class=\"sk-item\"><div class=\"sk-estimator sk-toggleable\"><input class=\"sk-toggleable__control sk-hidden--visually\" id=\"sk-estimator-id-13\" type=\"checkbox\" checked><label for=\"sk-estimator-id-13\" class=\"sk-toggleable__label sk-toggleable__label-arrow\">XGBClassifier</label><div class=\"sk-toggleable__content\"><pre>XGBClassifier(base_score=0.5, booster=&#x27;gbtree&#x27;, callbacks=None,\n",
       "              colsample_bylevel=1, colsample_bynode=1, colsample_bytree=1,\n",
       "              early_stopping_rounds=None, enable_categorical=False,\n",
       "              eval_metric=None, gamma=0, gpu_id=-1, grow_policy=&#x27;depthwise&#x27;,\n",
       "              importance_type=None, interaction_constraints=&#x27;&#x27;,\n",
       "              learning_rate=0.300000012, max_bin=256, max_cat_to_onehot=4,\n",
       "              max_delta_step=0, max_depth=5, max_leaves=0, min_child_weight=1,\n",
       "              missing=nan, monotone_constraints=&#x27;()&#x27;, n_estimators=100,\n",
       "              n_jobs=0, num_parallel_tree=1, predictor=&#x27;auto&#x27;, random_state=0,\n",
       "              reg_alpha=0, reg_lambda=1, ...)</pre></div></div></div></div></div>"
      ],
      "text/plain": [
       "XGBClassifier(base_score=0.5, booster='gbtree', callbacks=None,\n",
       "              colsample_bylevel=1, colsample_bynode=1, colsample_bytree=1,\n",
       "              early_stopping_rounds=None, enable_categorical=False,\n",
       "              eval_metric=None, gamma=0, gpu_id=-1, grow_policy='depthwise',\n",
       "              importance_type=None, interaction_constraints='',\n",
       "              learning_rate=0.300000012, max_bin=256, max_cat_to_onehot=4,\n",
       "              max_delta_step=0, max_depth=5, max_leaves=0, min_child_weight=1,\n",
       "              missing=nan, monotone_constraints='()', n_estimators=100,\n",
       "              n_jobs=0, num_parallel_tree=1, predictor='auto', random_state=0,\n",
       "              reg_alpha=0, reg_lambda=1, ...)"
      ]
     },
     "execution_count": 182,
     "metadata": {},
     "output_type": "execute_result"
    }
   ],
   "source": [
    "model_xgb_classifier.fit(X_train, y_train)"
   ]
  },
  {
   "cell_type": "code",
   "execution_count": 256,
   "metadata": {},
   "outputs": [],
   "source": [
    "df_result.loc[len(df_result)] = evaluation_result(model_xgb_classifier, \"XGBClassifier\", \"train_set\", X_train, y_train)\n",
    "df_result.loc[len(df_result)] = evaluation_result(model_xgb_classifier, \"XGBClassifier\", \"val_set\", X_val, y_val)\n",
    "df_result.loc[len(df_result)] = evaluation_result(model_xgb_classifier, \"XGBClassifier\", \"test_set\", X_test, y_test)"
   ]
  },
  {
   "cell_type": "code",
   "execution_count": 257,
   "metadata": {},
   "outputs": [
    {
     "data": {
      "text/html": [
       "<div>\n",
       "<style scoped>\n",
       "    .dataframe tbody tr th:only-of-type {\n",
       "        vertical-align: middle;\n",
       "    }\n",
       "\n",
       "    .dataframe tbody tr th {\n",
       "        vertical-align: top;\n",
       "    }\n",
       "\n",
       "    .dataframe thead th {\n",
       "        text-align: right;\n",
       "    }\n",
       "</style>\n",
       "<table border=\"1\" class=\"dataframe\">\n",
       "  <thead>\n",
       "    <tr style=\"text-align: right;\">\n",
       "      <th></th>\n",
       "      <th>model</th>\n",
       "      <th>set</th>\n",
       "      <th>accuracy</th>\n",
       "      <th>auc_score</th>\n",
       "      <th>f1_score</th>\n",
       "    </tr>\n",
       "  </thead>\n",
       "  <tbody>\n",
       "    <tr>\n",
       "      <th>0</th>\n",
       "      <td>Logistics</td>\n",
       "      <td>train_set</td>\n",
       "      <td>0.994863</td>\n",
       "      <td>0.999082</td>\n",
       "      <td>0.986573</td>\n",
       "    </tr>\n",
       "    <tr>\n",
       "      <th>1</th>\n",
       "      <td>Logistics</td>\n",
       "      <td>val_set</td>\n",
       "      <td>0.994732</td>\n",
       "      <td>0.998991</td>\n",
       "      <td>0.986265</td>\n",
       "    </tr>\n",
       "    <tr>\n",
       "      <th>2</th>\n",
       "      <td>Logistics</td>\n",
       "      <td>test_set</td>\n",
       "      <td>0.994789</td>\n",
       "      <td>0.999085</td>\n",
       "      <td>0.986416</td>\n",
       "    </tr>\n",
       "    <tr>\n",
       "      <th>3</th>\n",
       "      <td>decision_tree</td>\n",
       "      <td>train_set</td>\n",
       "      <td>0.995856</td>\n",
       "      <td>0.998790</td>\n",
       "      <td>0.989193</td>\n",
       "    </tr>\n",
       "    <tr>\n",
       "      <th>4</th>\n",
       "      <td>decision_tree</td>\n",
       "      <td>val_set</td>\n",
       "      <td>0.994489</td>\n",
       "      <td>0.996807</td>\n",
       "      <td>0.985657</td>\n",
       "    </tr>\n",
       "    <tr>\n",
       "      <th>5</th>\n",
       "      <td>decision_tree</td>\n",
       "      <td>test_set</td>\n",
       "      <td>0.994344</td>\n",
       "      <td>0.997313</td>\n",
       "      <td>0.985283</td>\n",
       "    </tr>\n",
       "    <tr>\n",
       "      <th>6</th>\n",
       "      <td>random_forest</td>\n",
       "      <td>train_set</td>\n",
       "      <td>0.987930</td>\n",
       "      <td>0.998704</td>\n",
       "      <td>0.968025</td>\n",
       "    </tr>\n",
       "    <tr>\n",
       "      <th>7</th>\n",
       "      <td>random_forest</td>\n",
       "      <td>val_set</td>\n",
       "      <td>0.986168</td>\n",
       "      <td>0.998189</td>\n",
       "      <td>0.963431</td>\n",
       "    </tr>\n",
       "    <tr>\n",
       "      <th>8</th>\n",
       "      <td>random_forest</td>\n",
       "      <td>test_set</td>\n",
       "      <td>0.985984</td>\n",
       "      <td>0.998171</td>\n",
       "      <td>0.962925</td>\n",
       "    </tr>\n",
       "    <tr>\n",
       "      <th>9</th>\n",
       "      <td>xgb_model</td>\n",
       "      <td>train_set</td>\n",
       "      <td>0.999163</td>\n",
       "      <td>0.999970</td>\n",
       "      <td>0.997829</td>\n",
       "    </tr>\n",
       "    <tr>\n",
       "      <th>10</th>\n",
       "      <td>xgb_model</td>\n",
       "      <td>val_set</td>\n",
       "      <td>0.998541</td>\n",
       "      <td>0.999825</td>\n",
       "      <td>0.996222</td>\n",
       "    </tr>\n",
       "    <tr>\n",
       "      <th>11</th>\n",
       "      <td>xgb_model</td>\n",
       "      <td>test_set</td>\n",
       "      <td>0.998569</td>\n",
       "      <td>0.999852</td>\n",
       "      <td>0.996295</td>\n",
       "    </tr>\n",
       "    <tr>\n",
       "      <th>12</th>\n",
       "      <td>XGBClassifier</td>\n",
       "      <td>train_set</td>\n",
       "      <td>0.999244</td>\n",
       "      <td>0.999972</td>\n",
       "      <td>0.998040</td>\n",
       "    </tr>\n",
       "    <tr>\n",
       "      <th>13</th>\n",
       "      <td>XGBClassifier</td>\n",
       "      <td>val_set</td>\n",
       "      <td>0.998677</td>\n",
       "      <td>0.999837</td>\n",
       "      <td>0.996575</td>\n",
       "    </tr>\n",
       "    <tr>\n",
       "      <th>14</th>\n",
       "      <td>XGBClassifier</td>\n",
       "      <td>test_set</td>\n",
       "      <td>0.998743</td>\n",
       "      <td>0.999865</td>\n",
       "      <td>0.996748</td>\n",
       "    </tr>\n",
       "  </tbody>\n",
       "</table>\n",
       "</div>"
      ],
      "text/plain": [
       "            model        set  accuracy  auc_score  f1_score\n",
       "0       Logistics  train_set  0.994863   0.999082  0.986573\n",
       "1       Logistics    val_set  0.994732   0.998991  0.986265\n",
       "2       Logistics   test_set  0.994789   0.999085  0.986416\n",
       "3   decision_tree  train_set  0.995856   0.998790  0.989193\n",
       "4   decision_tree    val_set  0.994489   0.996807  0.985657\n",
       "5   decision_tree   test_set  0.994344   0.997313  0.985283\n",
       "6   random_forest  train_set  0.987930   0.998704  0.968025\n",
       "7   random_forest    val_set  0.986168   0.998189  0.963431\n",
       "8   random_forest   test_set  0.985984   0.998171  0.962925\n",
       "9       xgb_model  train_set  0.999163   0.999970  0.997829\n",
       "10      xgb_model    val_set  0.998541   0.999825  0.996222\n",
       "11      xgb_model   test_set  0.998569   0.999852  0.996295\n",
       "12  XGBClassifier  train_set  0.999244   0.999972  0.998040\n",
       "13  XGBClassifier    val_set  0.998677   0.999837  0.996575\n",
       "14  XGBClassifier   test_set  0.998743   0.999865  0.996748"
      ]
     },
     "execution_count": 257,
     "metadata": {},
     "output_type": "execute_result"
    }
   ],
   "source": [
    "df_result"
   ]
  },
  {
   "cell_type": "markdown",
   "metadata": {},
   "source": [
    "### Gradient Boosting Classifier from sklearn"
   ]
  },
  {
   "cell_type": "code",
   "execution_count": 174,
   "metadata": {},
   "outputs": [],
   "source": [
    "from sklearn.ensemble import GradientBoostingClassifier"
   ]
  },
  {
   "cell_type": "code",
   "execution_count": 187,
   "metadata": {},
   "outputs": [],
   "source": [
    "model_gradient_boosting = GradientBoostingClassifier(n_estimators=150, \n",
    "                                                     min_samples_leaf=3,\n",
    "                                                     random_state=1,\n",
    "                                                     max_depth=5)"
   ]
  },
  {
   "cell_type": "code",
   "execution_count": 188,
   "metadata": {},
   "outputs": [
    {
     "data": {
      "text/html": [
       "<style>#sk-container-id-14 {color: black;background-color: white;}#sk-container-id-14 pre{padding: 0;}#sk-container-id-14 div.sk-toggleable {background-color: white;}#sk-container-id-14 label.sk-toggleable__label {cursor: pointer;display: block;width: 100%;margin-bottom: 0;padding: 0.3em;box-sizing: border-box;text-align: center;}#sk-container-id-14 label.sk-toggleable__label-arrow:before {content: \"▸\";float: left;margin-right: 0.25em;color: #696969;}#sk-container-id-14 label.sk-toggleable__label-arrow:hover:before {color: black;}#sk-container-id-14 div.sk-estimator:hover label.sk-toggleable__label-arrow:before {color: black;}#sk-container-id-14 div.sk-toggleable__content {max-height: 0;max-width: 0;overflow: hidden;text-align: left;background-color: #f0f8ff;}#sk-container-id-14 div.sk-toggleable__content pre {margin: 0.2em;color: black;border-radius: 0.25em;background-color: #f0f8ff;}#sk-container-id-14 input.sk-toggleable__control:checked~div.sk-toggleable__content {max-height: 200px;max-width: 100%;overflow: auto;}#sk-container-id-14 input.sk-toggleable__control:checked~label.sk-toggleable__label-arrow:before {content: \"▾\";}#sk-container-id-14 div.sk-estimator input.sk-toggleable__control:checked~label.sk-toggleable__label {background-color: #d4ebff;}#sk-container-id-14 div.sk-label input.sk-toggleable__control:checked~label.sk-toggleable__label {background-color: #d4ebff;}#sk-container-id-14 input.sk-hidden--visually {border: 0;clip: rect(1px 1px 1px 1px);clip: rect(1px, 1px, 1px, 1px);height: 1px;margin: -1px;overflow: hidden;padding: 0;position: absolute;width: 1px;}#sk-container-id-14 div.sk-estimator {font-family: monospace;background-color: #f0f8ff;border: 1px dotted black;border-radius: 0.25em;box-sizing: border-box;margin-bottom: 0.5em;}#sk-container-id-14 div.sk-estimator:hover {background-color: #d4ebff;}#sk-container-id-14 div.sk-parallel-item::after {content: \"\";width: 100%;border-bottom: 1px solid gray;flex-grow: 1;}#sk-container-id-14 div.sk-label:hover label.sk-toggleable__label {background-color: #d4ebff;}#sk-container-id-14 div.sk-serial::before {content: \"\";position: absolute;border-left: 1px solid gray;box-sizing: border-box;top: 0;bottom: 0;left: 50%;z-index: 0;}#sk-container-id-14 div.sk-serial {display: flex;flex-direction: column;align-items: center;background-color: white;padding-right: 0.2em;padding-left: 0.2em;position: relative;}#sk-container-id-14 div.sk-item {position: relative;z-index: 1;}#sk-container-id-14 div.sk-parallel {display: flex;align-items: stretch;justify-content: center;background-color: white;position: relative;}#sk-container-id-14 div.sk-item::before, #sk-container-id-14 div.sk-parallel-item::before {content: \"\";position: absolute;border-left: 1px solid gray;box-sizing: border-box;top: 0;bottom: 0;left: 50%;z-index: -1;}#sk-container-id-14 div.sk-parallel-item {display: flex;flex-direction: column;z-index: 1;position: relative;background-color: white;}#sk-container-id-14 div.sk-parallel-item:first-child::after {align-self: flex-end;width: 50%;}#sk-container-id-14 div.sk-parallel-item:last-child::after {align-self: flex-start;width: 50%;}#sk-container-id-14 div.sk-parallel-item:only-child::after {width: 0;}#sk-container-id-14 div.sk-dashed-wrapped {border: 1px dashed gray;margin: 0 0.4em 0.5em 0.4em;box-sizing: border-box;padding-bottom: 0.4em;background-color: white;}#sk-container-id-14 div.sk-label label {font-family: monospace;font-weight: bold;display: inline-block;line-height: 1.2em;}#sk-container-id-14 div.sk-label-container {text-align: center;}#sk-container-id-14 div.sk-container {/* jupyter's `normalize.less` sets `[hidden] { display: none; }` but bootstrap.min.css set `[hidden] { display: none !important; }` so we also need the `!important` here to be able to override the default hidden behavior on the sphinx rendered scikit-learn.org. See: https://github.com/scikit-learn/scikit-learn/issues/21755 */display: inline-block !important;position: relative;}#sk-container-id-14 div.sk-text-repr-fallback {display: none;}</style><div id=\"sk-container-id-14\" class=\"sk-top-container\"><div class=\"sk-text-repr-fallback\"><pre>GradientBoostingClassifier(max_depth=5, min_samples_leaf=3, n_estimators=150,\n",
       "                           random_state=1)</pre><b>In a Jupyter environment, please rerun this cell to show the HTML representation or trust the notebook. <br />On GitHub, the HTML representation is unable to render, please try loading this page with nbviewer.org.</b></div><div class=\"sk-container\" hidden><div class=\"sk-item\"><div class=\"sk-estimator sk-toggleable\"><input class=\"sk-toggleable__control sk-hidden--visually\" id=\"sk-estimator-id-14\" type=\"checkbox\" checked><label for=\"sk-estimator-id-14\" class=\"sk-toggleable__label sk-toggleable__label-arrow\">GradientBoostingClassifier</label><div class=\"sk-toggleable__content\"><pre>GradientBoostingClassifier(max_depth=5, min_samples_leaf=3, n_estimators=150,\n",
       "                           random_state=1)</pre></div></div></div></div></div>"
      ],
      "text/plain": [
       "GradientBoostingClassifier(max_depth=5, min_samples_leaf=3, n_estimators=150,\n",
       "                           random_state=1)"
      ]
     },
     "execution_count": 188,
     "metadata": {},
     "output_type": "execute_result"
    }
   ],
   "source": [
    "# Model runs very slowly\n",
    "model_gradient_boosting.fit(X_train, y_train)"
   ]
  },
  {
   "cell_type": "code",
   "execution_count": 258,
   "metadata": {},
   "outputs": [],
   "source": [
    "df_result.loc[len(df_result)] = evaluation_result(model_gradient_boosting, \"GradientBoostingClassifier\", \"train_set\", X_train, y_train)\n",
    "df_result.loc[len(df_result)] = evaluation_result(model_gradient_boosting, \"GradientBoostingClassifier\", \"val_set\", X_val, y_val)\n",
    "df_result.loc[len(df_result)] = evaluation_result(model_gradient_boosting, \"GradientBoostingClassifier\", \"test_set\", X_test, y_test)"
   ]
  },
  {
   "cell_type": "code",
   "execution_count": 259,
   "metadata": {},
   "outputs": [
    {
     "data": {
      "text/html": [
       "<div>\n",
       "<style scoped>\n",
       "    .dataframe tbody tr th:only-of-type {\n",
       "        vertical-align: middle;\n",
       "    }\n",
       "\n",
       "    .dataframe tbody tr th {\n",
       "        vertical-align: top;\n",
       "    }\n",
       "\n",
       "    .dataframe thead th {\n",
       "        text-align: right;\n",
       "    }\n",
       "</style>\n",
       "<table border=\"1\" class=\"dataframe\">\n",
       "  <thead>\n",
       "    <tr style=\"text-align: right;\">\n",
       "      <th></th>\n",
       "      <th>model</th>\n",
       "      <th>set</th>\n",
       "      <th>accuracy</th>\n",
       "      <th>auc_score</th>\n",
       "      <th>f1_score</th>\n",
       "    </tr>\n",
       "  </thead>\n",
       "  <tbody>\n",
       "    <tr>\n",
       "      <th>0</th>\n",
       "      <td>Logistics</td>\n",
       "      <td>train_set</td>\n",
       "      <td>0.994863</td>\n",
       "      <td>0.999082</td>\n",
       "      <td>0.986573</td>\n",
       "    </tr>\n",
       "    <tr>\n",
       "      <th>1</th>\n",
       "      <td>Logistics</td>\n",
       "      <td>val_set</td>\n",
       "      <td>0.994732</td>\n",
       "      <td>0.998991</td>\n",
       "      <td>0.986265</td>\n",
       "    </tr>\n",
       "    <tr>\n",
       "      <th>2</th>\n",
       "      <td>Logistics</td>\n",
       "      <td>test_set</td>\n",
       "      <td>0.994789</td>\n",
       "      <td>0.999085</td>\n",
       "      <td>0.986416</td>\n",
       "    </tr>\n",
       "    <tr>\n",
       "      <th>3</th>\n",
       "      <td>decision_tree</td>\n",
       "      <td>train_set</td>\n",
       "      <td>0.995856</td>\n",
       "      <td>0.998790</td>\n",
       "      <td>0.989193</td>\n",
       "    </tr>\n",
       "    <tr>\n",
       "      <th>4</th>\n",
       "      <td>decision_tree</td>\n",
       "      <td>val_set</td>\n",
       "      <td>0.994489</td>\n",
       "      <td>0.996807</td>\n",
       "      <td>0.985657</td>\n",
       "    </tr>\n",
       "    <tr>\n",
       "      <th>5</th>\n",
       "      <td>decision_tree</td>\n",
       "      <td>test_set</td>\n",
       "      <td>0.994344</td>\n",
       "      <td>0.997313</td>\n",
       "      <td>0.985283</td>\n",
       "    </tr>\n",
       "    <tr>\n",
       "      <th>6</th>\n",
       "      <td>random_forest</td>\n",
       "      <td>train_set</td>\n",
       "      <td>0.987930</td>\n",
       "      <td>0.998704</td>\n",
       "      <td>0.968025</td>\n",
       "    </tr>\n",
       "    <tr>\n",
       "      <th>7</th>\n",
       "      <td>random_forest</td>\n",
       "      <td>val_set</td>\n",
       "      <td>0.986168</td>\n",
       "      <td>0.998189</td>\n",
       "      <td>0.963431</td>\n",
       "    </tr>\n",
       "    <tr>\n",
       "      <th>8</th>\n",
       "      <td>random_forest</td>\n",
       "      <td>test_set</td>\n",
       "      <td>0.985984</td>\n",
       "      <td>0.998171</td>\n",
       "      <td>0.962925</td>\n",
       "    </tr>\n",
       "    <tr>\n",
       "      <th>9</th>\n",
       "      <td>xgb_model</td>\n",
       "      <td>train_set</td>\n",
       "      <td>0.999163</td>\n",
       "      <td>0.999970</td>\n",
       "      <td>0.997829</td>\n",
       "    </tr>\n",
       "    <tr>\n",
       "      <th>10</th>\n",
       "      <td>xgb_model</td>\n",
       "      <td>val_set</td>\n",
       "      <td>0.998541</td>\n",
       "      <td>0.999825</td>\n",
       "      <td>0.996222</td>\n",
       "    </tr>\n",
       "    <tr>\n",
       "      <th>11</th>\n",
       "      <td>xgb_model</td>\n",
       "      <td>test_set</td>\n",
       "      <td>0.998569</td>\n",
       "      <td>0.999852</td>\n",
       "      <td>0.996295</td>\n",
       "    </tr>\n",
       "    <tr>\n",
       "      <th>12</th>\n",
       "      <td>XGBClassifier</td>\n",
       "      <td>train_set</td>\n",
       "      <td>0.999244</td>\n",
       "      <td>0.999972</td>\n",
       "      <td>0.998040</td>\n",
       "    </tr>\n",
       "    <tr>\n",
       "      <th>13</th>\n",
       "      <td>XGBClassifier</td>\n",
       "      <td>val_set</td>\n",
       "      <td>0.998677</td>\n",
       "      <td>0.999837</td>\n",
       "      <td>0.996575</td>\n",
       "    </tr>\n",
       "    <tr>\n",
       "      <th>14</th>\n",
       "      <td>XGBClassifier</td>\n",
       "      <td>test_set</td>\n",
       "      <td>0.998743</td>\n",
       "      <td>0.999865</td>\n",
       "      <td>0.996748</td>\n",
       "    </tr>\n",
       "    <tr>\n",
       "      <th>15</th>\n",
       "      <td>GradientBoostingClassifier</td>\n",
       "      <td>train_set</td>\n",
       "      <td>0.997816</td>\n",
       "      <td>0.999825</td>\n",
       "      <td>0.994317</td>\n",
       "    </tr>\n",
       "    <tr>\n",
       "      <th>16</th>\n",
       "      <td>GradientBoostingClassifier</td>\n",
       "      <td>val_set</td>\n",
       "      <td>0.997412</td>\n",
       "      <td>0.999691</td>\n",
       "      <td>0.993282</td>\n",
       "    </tr>\n",
       "    <tr>\n",
       "      <th>17</th>\n",
       "      <td>GradientBoostingClassifier</td>\n",
       "      <td>test_set</td>\n",
       "      <td>0.997383</td>\n",
       "      <td>0.999733</td>\n",
       "      <td>0.993205</td>\n",
       "    </tr>\n",
       "  </tbody>\n",
       "</table>\n",
       "</div>"
      ],
      "text/plain": [
       "                         model        set  accuracy  auc_score  f1_score\n",
       "0                    Logistics  train_set  0.994863   0.999082  0.986573\n",
       "1                    Logistics    val_set  0.994732   0.998991  0.986265\n",
       "2                    Logistics   test_set  0.994789   0.999085  0.986416\n",
       "3                decision_tree  train_set  0.995856   0.998790  0.989193\n",
       "4                decision_tree    val_set  0.994489   0.996807  0.985657\n",
       "5                decision_tree   test_set  0.994344   0.997313  0.985283\n",
       "6                random_forest  train_set  0.987930   0.998704  0.968025\n",
       "7                random_forest    val_set  0.986168   0.998189  0.963431\n",
       "8                random_forest   test_set  0.985984   0.998171  0.962925\n",
       "9                    xgb_model  train_set  0.999163   0.999970  0.997829\n",
       "10                   xgb_model    val_set  0.998541   0.999825  0.996222\n",
       "11                   xgb_model   test_set  0.998569   0.999852  0.996295\n",
       "12               XGBClassifier  train_set  0.999244   0.999972  0.998040\n",
       "13               XGBClassifier    val_set  0.998677   0.999837  0.996575\n",
       "14               XGBClassifier   test_set  0.998743   0.999865  0.996748\n",
       "15  GradientBoostingClassifier  train_set  0.997816   0.999825  0.994317\n",
       "16  GradientBoostingClassifier    val_set  0.997412   0.999691  0.993282\n",
       "17  GradientBoostingClassifier   test_set  0.997383   0.999733  0.993205"
      ]
     },
     "execution_count": 259,
     "metadata": {},
     "output_type": "execute_result"
    }
   ],
   "source": [
    "df_result"
   ]
  },
  {
   "cell_type": "code",
   "execution_count": 261,
   "metadata": {},
   "outputs": [
    {
     "data": {
      "text/html": [
       "<div>\n",
       "<style scoped>\n",
       "    .dataframe tbody tr th:only-of-type {\n",
       "        vertical-align: middle;\n",
       "    }\n",
       "\n",
       "    .dataframe tbody tr th {\n",
       "        vertical-align: top;\n",
       "    }\n",
       "\n",
       "    .dataframe thead th {\n",
       "        text-align: right;\n",
       "    }\n",
       "</style>\n",
       "<table border=\"1\" class=\"dataframe\">\n",
       "  <thead>\n",
       "    <tr style=\"text-align: right;\">\n",
       "      <th></th>\n",
       "      <th>model</th>\n",
       "      <th>set</th>\n",
       "      <th>accuracy</th>\n",
       "      <th>auc_score</th>\n",
       "      <th>f1_score</th>\n",
       "    </tr>\n",
       "  </thead>\n",
       "  <tbody>\n",
       "    <tr>\n",
       "      <th>12</th>\n",
       "      <td>XGBClassifier</td>\n",
       "      <td>train_set</td>\n",
       "      <td>0.999244</td>\n",
       "      <td>0.999972</td>\n",
       "      <td>0.998040</td>\n",
       "    </tr>\n",
       "    <tr>\n",
       "      <th>9</th>\n",
       "      <td>xgb_model</td>\n",
       "      <td>train_set</td>\n",
       "      <td>0.999163</td>\n",
       "      <td>0.999970</td>\n",
       "      <td>0.997829</td>\n",
       "    </tr>\n",
       "    <tr>\n",
       "      <th>14</th>\n",
       "      <td>XGBClassifier</td>\n",
       "      <td>test_set</td>\n",
       "      <td>0.998743</td>\n",
       "      <td>0.999865</td>\n",
       "      <td>0.996748</td>\n",
       "    </tr>\n",
       "    <tr>\n",
       "      <th>11</th>\n",
       "      <td>xgb_model</td>\n",
       "      <td>test_set</td>\n",
       "      <td>0.998569</td>\n",
       "      <td>0.999852</td>\n",
       "      <td>0.996295</td>\n",
       "    </tr>\n",
       "    <tr>\n",
       "      <th>13</th>\n",
       "      <td>XGBClassifier</td>\n",
       "      <td>val_set</td>\n",
       "      <td>0.998677</td>\n",
       "      <td>0.999837</td>\n",
       "      <td>0.996575</td>\n",
       "    </tr>\n",
       "    <tr>\n",
       "      <th>15</th>\n",
       "      <td>GradientBoostingClassifier</td>\n",
       "      <td>train_set</td>\n",
       "      <td>0.997816</td>\n",
       "      <td>0.999825</td>\n",
       "      <td>0.994317</td>\n",
       "    </tr>\n",
       "    <tr>\n",
       "      <th>10</th>\n",
       "      <td>xgb_model</td>\n",
       "      <td>val_set</td>\n",
       "      <td>0.998541</td>\n",
       "      <td>0.999825</td>\n",
       "      <td>0.996222</td>\n",
       "    </tr>\n",
       "    <tr>\n",
       "      <th>17</th>\n",
       "      <td>GradientBoostingClassifier</td>\n",
       "      <td>test_set</td>\n",
       "      <td>0.997383</td>\n",
       "      <td>0.999733</td>\n",
       "      <td>0.993205</td>\n",
       "    </tr>\n",
       "    <tr>\n",
       "      <th>16</th>\n",
       "      <td>GradientBoostingClassifier</td>\n",
       "      <td>val_set</td>\n",
       "      <td>0.997412</td>\n",
       "      <td>0.999691</td>\n",
       "      <td>0.993282</td>\n",
       "    </tr>\n",
       "    <tr>\n",
       "      <th>2</th>\n",
       "      <td>Logistics</td>\n",
       "      <td>test_set</td>\n",
       "      <td>0.994789</td>\n",
       "      <td>0.999085</td>\n",
       "      <td>0.986416</td>\n",
       "    </tr>\n",
       "    <tr>\n",
       "      <th>0</th>\n",
       "      <td>Logistics</td>\n",
       "      <td>train_set</td>\n",
       "      <td>0.994863</td>\n",
       "      <td>0.999082</td>\n",
       "      <td>0.986573</td>\n",
       "    </tr>\n",
       "    <tr>\n",
       "      <th>1</th>\n",
       "      <td>Logistics</td>\n",
       "      <td>val_set</td>\n",
       "      <td>0.994732</td>\n",
       "      <td>0.998991</td>\n",
       "      <td>0.986265</td>\n",
       "    </tr>\n",
       "    <tr>\n",
       "      <th>3</th>\n",
       "      <td>decision_tree</td>\n",
       "      <td>train_set</td>\n",
       "      <td>0.995856</td>\n",
       "      <td>0.998790</td>\n",
       "      <td>0.989193</td>\n",
       "    </tr>\n",
       "    <tr>\n",
       "      <th>6</th>\n",
       "      <td>random_forest</td>\n",
       "      <td>train_set</td>\n",
       "      <td>0.987930</td>\n",
       "      <td>0.998704</td>\n",
       "      <td>0.968025</td>\n",
       "    </tr>\n",
       "    <tr>\n",
       "      <th>7</th>\n",
       "      <td>random_forest</td>\n",
       "      <td>val_set</td>\n",
       "      <td>0.986168</td>\n",
       "      <td>0.998189</td>\n",
       "      <td>0.963431</td>\n",
       "    </tr>\n",
       "    <tr>\n",
       "      <th>8</th>\n",
       "      <td>random_forest</td>\n",
       "      <td>test_set</td>\n",
       "      <td>0.985984</td>\n",
       "      <td>0.998171</td>\n",
       "      <td>0.962925</td>\n",
       "    </tr>\n",
       "    <tr>\n",
       "      <th>5</th>\n",
       "      <td>decision_tree</td>\n",
       "      <td>test_set</td>\n",
       "      <td>0.994344</td>\n",
       "      <td>0.997313</td>\n",
       "      <td>0.985283</td>\n",
       "    </tr>\n",
       "    <tr>\n",
       "      <th>4</th>\n",
       "      <td>decision_tree</td>\n",
       "      <td>val_set</td>\n",
       "      <td>0.994489</td>\n",
       "      <td>0.996807</td>\n",
       "      <td>0.985657</td>\n",
       "    </tr>\n",
       "  </tbody>\n",
       "</table>\n",
       "</div>"
      ],
      "text/plain": [
       "                         model        set  accuracy  auc_score  f1_score\n",
       "12               XGBClassifier  train_set  0.999244   0.999972  0.998040\n",
       "9                    xgb_model  train_set  0.999163   0.999970  0.997829\n",
       "14               XGBClassifier   test_set  0.998743   0.999865  0.996748\n",
       "11                   xgb_model   test_set  0.998569   0.999852  0.996295\n",
       "13               XGBClassifier    val_set  0.998677   0.999837  0.996575\n",
       "15  GradientBoostingClassifier  train_set  0.997816   0.999825  0.994317\n",
       "10                   xgb_model    val_set  0.998541   0.999825  0.996222\n",
       "17  GradientBoostingClassifier   test_set  0.997383   0.999733  0.993205\n",
       "16  GradientBoostingClassifier    val_set  0.997412   0.999691  0.993282\n",
       "2                    Logistics   test_set  0.994789   0.999085  0.986416\n",
       "0                    Logistics  train_set  0.994863   0.999082  0.986573\n",
       "1                    Logistics    val_set  0.994732   0.998991  0.986265\n",
       "3                decision_tree  train_set  0.995856   0.998790  0.989193\n",
       "6                random_forest  train_set  0.987930   0.998704  0.968025\n",
       "7                random_forest    val_set  0.986168   0.998189  0.963431\n",
       "8                random_forest   test_set  0.985984   0.998171  0.962925\n",
       "5                decision_tree   test_set  0.994344   0.997313  0.985283\n",
       "4                decision_tree    val_set  0.994489   0.996807  0.985657"
      ]
     },
     "execution_count": 261,
     "metadata": {},
     "output_type": "execute_result"
    }
   ],
   "source": [
    "df_result.sort_values(by=\"auc_score\", ascending=False)"
   ]
  },
  {
   "cell_type": "code",
   "execution_count": 262,
   "metadata": {},
   "outputs": [
    {
     "data": {
      "text/html": [
       "<div>\n",
       "<style scoped>\n",
       "    .dataframe tbody tr th:only-of-type {\n",
       "        vertical-align: middle;\n",
       "    }\n",
       "\n",
       "    .dataframe tbody tr th {\n",
       "        vertical-align: top;\n",
       "    }\n",
       "\n",
       "    .dataframe thead th {\n",
       "        text-align: right;\n",
       "    }\n",
       "</style>\n",
       "<table border=\"1\" class=\"dataframe\">\n",
       "  <thead>\n",
       "    <tr style=\"text-align: right;\">\n",
       "      <th></th>\n",
       "      <th>model</th>\n",
       "      <th>set</th>\n",
       "      <th>accuracy</th>\n",
       "      <th>auc_score</th>\n",
       "      <th>f1_score</th>\n",
       "    </tr>\n",
       "  </thead>\n",
       "  <tbody>\n",
       "    <tr>\n",
       "      <th>12</th>\n",
       "      <td>XGBClassifier</td>\n",
       "      <td>train_set</td>\n",
       "      <td>0.999244</td>\n",
       "      <td>0.999972</td>\n",
       "      <td>0.998040</td>\n",
       "    </tr>\n",
       "    <tr>\n",
       "      <th>9</th>\n",
       "      <td>xgb_model</td>\n",
       "      <td>train_set</td>\n",
       "      <td>0.999163</td>\n",
       "      <td>0.999970</td>\n",
       "      <td>0.997829</td>\n",
       "    </tr>\n",
       "    <tr>\n",
       "      <th>14</th>\n",
       "      <td>XGBClassifier</td>\n",
       "      <td>test_set</td>\n",
       "      <td>0.998743</td>\n",
       "      <td>0.999865</td>\n",
       "      <td>0.996748</td>\n",
       "    </tr>\n",
       "    <tr>\n",
       "      <th>13</th>\n",
       "      <td>XGBClassifier</td>\n",
       "      <td>val_set</td>\n",
       "      <td>0.998677</td>\n",
       "      <td>0.999837</td>\n",
       "      <td>0.996575</td>\n",
       "    </tr>\n",
       "    <tr>\n",
       "      <th>11</th>\n",
       "      <td>xgb_model</td>\n",
       "      <td>test_set</td>\n",
       "      <td>0.998569</td>\n",
       "      <td>0.999852</td>\n",
       "      <td>0.996295</td>\n",
       "    </tr>\n",
       "    <tr>\n",
       "      <th>10</th>\n",
       "      <td>xgb_model</td>\n",
       "      <td>val_set</td>\n",
       "      <td>0.998541</td>\n",
       "      <td>0.999825</td>\n",
       "      <td>0.996222</td>\n",
       "    </tr>\n",
       "    <tr>\n",
       "      <th>15</th>\n",
       "      <td>GradientBoostingClassifier</td>\n",
       "      <td>train_set</td>\n",
       "      <td>0.997816</td>\n",
       "      <td>0.999825</td>\n",
       "      <td>0.994317</td>\n",
       "    </tr>\n",
       "    <tr>\n",
       "      <th>16</th>\n",
       "      <td>GradientBoostingClassifier</td>\n",
       "      <td>val_set</td>\n",
       "      <td>0.997412</td>\n",
       "      <td>0.999691</td>\n",
       "      <td>0.993282</td>\n",
       "    </tr>\n",
       "    <tr>\n",
       "      <th>17</th>\n",
       "      <td>GradientBoostingClassifier</td>\n",
       "      <td>test_set</td>\n",
       "      <td>0.997383</td>\n",
       "      <td>0.999733</td>\n",
       "      <td>0.993205</td>\n",
       "    </tr>\n",
       "    <tr>\n",
       "      <th>3</th>\n",
       "      <td>decision_tree</td>\n",
       "      <td>train_set</td>\n",
       "      <td>0.995856</td>\n",
       "      <td>0.998790</td>\n",
       "      <td>0.989193</td>\n",
       "    </tr>\n",
       "    <tr>\n",
       "      <th>0</th>\n",
       "      <td>Logistics</td>\n",
       "      <td>train_set</td>\n",
       "      <td>0.994863</td>\n",
       "      <td>0.999082</td>\n",
       "      <td>0.986573</td>\n",
       "    </tr>\n",
       "    <tr>\n",
       "      <th>2</th>\n",
       "      <td>Logistics</td>\n",
       "      <td>test_set</td>\n",
       "      <td>0.994789</td>\n",
       "      <td>0.999085</td>\n",
       "      <td>0.986416</td>\n",
       "    </tr>\n",
       "    <tr>\n",
       "      <th>1</th>\n",
       "      <td>Logistics</td>\n",
       "      <td>val_set</td>\n",
       "      <td>0.994732</td>\n",
       "      <td>0.998991</td>\n",
       "      <td>0.986265</td>\n",
       "    </tr>\n",
       "    <tr>\n",
       "      <th>4</th>\n",
       "      <td>decision_tree</td>\n",
       "      <td>val_set</td>\n",
       "      <td>0.994489</td>\n",
       "      <td>0.996807</td>\n",
       "      <td>0.985657</td>\n",
       "    </tr>\n",
       "    <tr>\n",
       "      <th>5</th>\n",
       "      <td>decision_tree</td>\n",
       "      <td>test_set</td>\n",
       "      <td>0.994344</td>\n",
       "      <td>0.997313</td>\n",
       "      <td>0.985283</td>\n",
       "    </tr>\n",
       "    <tr>\n",
       "      <th>6</th>\n",
       "      <td>random_forest</td>\n",
       "      <td>train_set</td>\n",
       "      <td>0.987930</td>\n",
       "      <td>0.998704</td>\n",
       "      <td>0.968025</td>\n",
       "    </tr>\n",
       "    <tr>\n",
       "      <th>7</th>\n",
       "      <td>random_forest</td>\n",
       "      <td>val_set</td>\n",
       "      <td>0.986168</td>\n",
       "      <td>0.998189</td>\n",
       "      <td>0.963431</td>\n",
       "    </tr>\n",
       "    <tr>\n",
       "      <th>8</th>\n",
       "      <td>random_forest</td>\n",
       "      <td>test_set</td>\n",
       "      <td>0.985984</td>\n",
       "      <td>0.998171</td>\n",
       "      <td>0.962925</td>\n",
       "    </tr>\n",
       "  </tbody>\n",
       "</table>\n",
       "</div>"
      ],
      "text/plain": [
       "                         model        set  accuracy  auc_score  f1_score\n",
       "12               XGBClassifier  train_set  0.999244   0.999972  0.998040\n",
       "9                    xgb_model  train_set  0.999163   0.999970  0.997829\n",
       "14               XGBClassifier   test_set  0.998743   0.999865  0.996748\n",
       "13               XGBClassifier    val_set  0.998677   0.999837  0.996575\n",
       "11                   xgb_model   test_set  0.998569   0.999852  0.996295\n",
       "10                   xgb_model    val_set  0.998541   0.999825  0.996222\n",
       "15  GradientBoostingClassifier  train_set  0.997816   0.999825  0.994317\n",
       "16  GradientBoostingClassifier    val_set  0.997412   0.999691  0.993282\n",
       "17  GradientBoostingClassifier   test_set  0.997383   0.999733  0.993205\n",
       "3                decision_tree  train_set  0.995856   0.998790  0.989193\n",
       "0                    Logistics  train_set  0.994863   0.999082  0.986573\n",
       "2                    Logistics   test_set  0.994789   0.999085  0.986416\n",
       "1                    Logistics    val_set  0.994732   0.998991  0.986265\n",
       "4                decision_tree    val_set  0.994489   0.996807  0.985657\n",
       "5                decision_tree   test_set  0.994344   0.997313  0.985283\n",
       "6                random_forest  train_set  0.987930   0.998704  0.968025\n",
       "7                random_forest    val_set  0.986168   0.998189  0.963431\n",
       "8                random_forest   test_set  0.985984   0.998171  0.962925"
      ]
     },
     "execution_count": 262,
     "metadata": {},
     "output_type": "execute_result"
    }
   ],
   "source": [
    "df_result.sort_values(by=\"f1_score\", ascending=False)"
   ]
  },
  {
   "cell_type": "code",
   "execution_count": 263,
   "metadata": {},
   "outputs": [
    {
     "data": {
      "text/html": [
       "<div>\n",
       "<style scoped>\n",
       "    .dataframe tbody tr th:only-of-type {\n",
       "        vertical-align: middle;\n",
       "    }\n",
       "\n",
       "    .dataframe tbody tr th {\n",
       "        vertical-align: top;\n",
       "    }\n",
       "\n",
       "    .dataframe thead th {\n",
       "        text-align: right;\n",
       "    }\n",
       "</style>\n",
       "<table border=\"1\" class=\"dataframe\">\n",
       "  <thead>\n",
       "    <tr style=\"text-align: right;\">\n",
       "      <th></th>\n",
       "      <th>model</th>\n",
       "      <th>set</th>\n",
       "      <th>accuracy</th>\n",
       "      <th>auc_score</th>\n",
       "      <th>f1_score</th>\n",
       "    </tr>\n",
       "  </thead>\n",
       "  <tbody>\n",
       "    <tr>\n",
       "      <th>12</th>\n",
       "      <td>XGBClassifier</td>\n",
       "      <td>train_set</td>\n",
       "      <td>0.999244</td>\n",
       "      <td>0.999972</td>\n",
       "      <td>0.998040</td>\n",
       "    </tr>\n",
       "    <tr>\n",
       "      <th>9</th>\n",
       "      <td>xgb_model</td>\n",
       "      <td>train_set</td>\n",
       "      <td>0.999163</td>\n",
       "      <td>0.999970</td>\n",
       "      <td>0.997829</td>\n",
       "    </tr>\n",
       "    <tr>\n",
       "      <th>14</th>\n",
       "      <td>XGBClassifier</td>\n",
       "      <td>test_set</td>\n",
       "      <td>0.998743</td>\n",
       "      <td>0.999865</td>\n",
       "      <td>0.996748</td>\n",
       "    </tr>\n",
       "    <tr>\n",
       "      <th>13</th>\n",
       "      <td>XGBClassifier</td>\n",
       "      <td>val_set</td>\n",
       "      <td>0.998677</td>\n",
       "      <td>0.999837</td>\n",
       "      <td>0.996575</td>\n",
       "    </tr>\n",
       "    <tr>\n",
       "      <th>11</th>\n",
       "      <td>xgb_model</td>\n",
       "      <td>test_set</td>\n",
       "      <td>0.998569</td>\n",
       "      <td>0.999852</td>\n",
       "      <td>0.996295</td>\n",
       "    </tr>\n",
       "    <tr>\n",
       "      <th>10</th>\n",
       "      <td>xgb_model</td>\n",
       "      <td>val_set</td>\n",
       "      <td>0.998541</td>\n",
       "      <td>0.999825</td>\n",
       "      <td>0.996222</td>\n",
       "    </tr>\n",
       "    <tr>\n",
       "      <th>15</th>\n",
       "      <td>GradientBoostingClassifier</td>\n",
       "      <td>train_set</td>\n",
       "      <td>0.997816</td>\n",
       "      <td>0.999825</td>\n",
       "      <td>0.994317</td>\n",
       "    </tr>\n",
       "    <tr>\n",
       "      <th>16</th>\n",
       "      <td>GradientBoostingClassifier</td>\n",
       "      <td>val_set</td>\n",
       "      <td>0.997412</td>\n",
       "      <td>0.999691</td>\n",
       "      <td>0.993282</td>\n",
       "    </tr>\n",
       "    <tr>\n",
       "      <th>17</th>\n",
       "      <td>GradientBoostingClassifier</td>\n",
       "      <td>test_set</td>\n",
       "      <td>0.997383</td>\n",
       "      <td>0.999733</td>\n",
       "      <td>0.993205</td>\n",
       "    </tr>\n",
       "    <tr>\n",
       "      <th>3</th>\n",
       "      <td>decision_tree</td>\n",
       "      <td>train_set</td>\n",
       "      <td>0.995856</td>\n",
       "      <td>0.998790</td>\n",
       "      <td>0.989193</td>\n",
       "    </tr>\n",
       "    <tr>\n",
       "      <th>0</th>\n",
       "      <td>Logistics</td>\n",
       "      <td>train_set</td>\n",
       "      <td>0.994863</td>\n",
       "      <td>0.999082</td>\n",
       "      <td>0.986573</td>\n",
       "    </tr>\n",
       "    <tr>\n",
       "      <th>2</th>\n",
       "      <td>Logistics</td>\n",
       "      <td>test_set</td>\n",
       "      <td>0.994789</td>\n",
       "      <td>0.999085</td>\n",
       "      <td>0.986416</td>\n",
       "    </tr>\n",
       "    <tr>\n",
       "      <th>1</th>\n",
       "      <td>Logistics</td>\n",
       "      <td>val_set</td>\n",
       "      <td>0.994732</td>\n",
       "      <td>0.998991</td>\n",
       "      <td>0.986265</td>\n",
       "    </tr>\n",
       "    <tr>\n",
       "      <th>4</th>\n",
       "      <td>decision_tree</td>\n",
       "      <td>val_set</td>\n",
       "      <td>0.994489</td>\n",
       "      <td>0.996807</td>\n",
       "      <td>0.985657</td>\n",
       "    </tr>\n",
       "    <tr>\n",
       "      <th>5</th>\n",
       "      <td>decision_tree</td>\n",
       "      <td>test_set</td>\n",
       "      <td>0.994344</td>\n",
       "      <td>0.997313</td>\n",
       "      <td>0.985283</td>\n",
       "    </tr>\n",
       "    <tr>\n",
       "      <th>6</th>\n",
       "      <td>random_forest</td>\n",
       "      <td>train_set</td>\n",
       "      <td>0.987930</td>\n",
       "      <td>0.998704</td>\n",
       "      <td>0.968025</td>\n",
       "    </tr>\n",
       "    <tr>\n",
       "      <th>7</th>\n",
       "      <td>random_forest</td>\n",
       "      <td>val_set</td>\n",
       "      <td>0.986168</td>\n",
       "      <td>0.998189</td>\n",
       "      <td>0.963431</td>\n",
       "    </tr>\n",
       "    <tr>\n",
       "      <th>8</th>\n",
       "      <td>random_forest</td>\n",
       "      <td>test_set</td>\n",
       "      <td>0.985984</td>\n",
       "      <td>0.998171</td>\n",
       "      <td>0.962925</td>\n",
       "    </tr>\n",
       "  </tbody>\n",
       "</table>\n",
       "</div>"
      ],
      "text/plain": [
       "                         model        set  accuracy  auc_score  f1_score\n",
       "12               XGBClassifier  train_set  0.999244   0.999972  0.998040\n",
       "9                    xgb_model  train_set  0.999163   0.999970  0.997829\n",
       "14               XGBClassifier   test_set  0.998743   0.999865  0.996748\n",
       "13               XGBClassifier    val_set  0.998677   0.999837  0.996575\n",
       "11                   xgb_model   test_set  0.998569   0.999852  0.996295\n",
       "10                   xgb_model    val_set  0.998541   0.999825  0.996222\n",
       "15  GradientBoostingClassifier  train_set  0.997816   0.999825  0.994317\n",
       "16  GradientBoostingClassifier    val_set  0.997412   0.999691  0.993282\n",
       "17  GradientBoostingClassifier   test_set  0.997383   0.999733  0.993205\n",
       "3                decision_tree  train_set  0.995856   0.998790  0.989193\n",
       "0                    Logistics  train_set  0.994863   0.999082  0.986573\n",
       "2                    Logistics   test_set  0.994789   0.999085  0.986416\n",
       "1                    Logistics    val_set  0.994732   0.998991  0.986265\n",
       "4                decision_tree    val_set  0.994489   0.996807  0.985657\n",
       "5                decision_tree   test_set  0.994344   0.997313  0.985283\n",
       "6                random_forest  train_set  0.987930   0.998704  0.968025\n",
       "7                random_forest    val_set  0.986168   0.998189  0.963431\n",
       "8                random_forest   test_set  0.985984   0.998171  0.962925"
      ]
     },
     "execution_count": 263,
     "metadata": {},
     "output_type": "execute_result"
    }
   ],
   "source": [
    "df_result.sort_values(by=\"accuracy\", ascending=False)"
   ]
  },
  {
   "cell_type": "code",
   "execution_count": 269,
   "metadata": {},
   "outputs": [
    {
     "name": "stdout",
     "output_type": "stream",
     "text": [
      "<class 'pandas.core.frame.DataFrame'>\n",
      "Int64Index: 18 entries, 0 to 17\n",
      "Data columns (total 5 columns):\n",
      " #   Column     Non-Null Count  Dtype  \n",
      "---  ------     --------------  -----  \n",
      " 0   model      18 non-null     object \n",
      " 1   set        18 non-null     object \n",
      " 2   accuracy   18 non-null     float64\n",
      " 3   auc_score  18 non-null     float64\n",
      " 4   f1_score   18 non-null     float64\n",
      "dtypes: float64(3), object(2)\n",
      "memory usage: 864.0+ bytes\n"
     ]
    }
   ],
   "source": [
    "df_result.info()"
   ]
  },
  {
   "cell_type": "code",
   "execution_count": 281,
   "metadata": {},
   "outputs": [
    {
     "data": {
      "image/png": "[encoded data removed]",
      "text/plain": [
       "<Figure size 432x288 with 1 Axes>"
      ]
     },
     "metadata": {
      "needs_background": "light"
     },
     "output_type": "display_data"
    }
   ],
   "source": [
    "ax = sns.barplot(data=df_result, hue=\"model\", y = \"accuracy\", x =\"set\")\n",
    "ax.set_yscale(\"log\")\n",
    "_ = ax.set(xlabel=\"Set\", ylabel=\"Acurracy\")\n",
    "sns.move_legend(ax, \"upper left\", bbox_to_anchor=(1, 1))"
   ]
  },
  {
   "cell_type": "code",
   "execution_count": 282,
   "metadata": {},
   "outputs": [
    {
     "data": {
      "image/png": "[encoded data removed]",
      "text/plain": [
       "<Figure size 432x288 with 1 Axes>"
      ]
     },
     "metadata": {
      "needs_background": "light"
     },
     "output_type": "display_data"
    }
   ],
   "source": [
    "ax = sns.barplot(data=df_result, hue=\"model\", y = \"auc_score\", x =\"set\")\n",
    "ax.set_yscale(\"log\")\n",
    "_ = ax.set(xlabel=\"Set\", ylabel=\"Acurracy\")\n",
    "sns.move_legend(ax, \"upper left\", bbox_to_anchor=(1, 1))"
   ]
  },
  {
   "cell_type": "code",
   "execution_count": 283,
   "metadata": {},
   "outputs": [
    {
     "data": {
      "image/png": "[encoded data removed]",
      "text/plain": [
       "<Figure size 432x288 with 1 Axes>"
      ]
     },
     "metadata": {
      "needs_background": "light"
     },
     "output_type": "display_data"
    }
   ],
   "source": [
    "ax = sns.barplot(data=df_result, hue=\"model\", y = \"f1_score\", x =\"set\")\n",
    "ax.set_yscale(\"log\")\n",
    "_ = ax.set(xlabel=\"Set\", ylabel=\"Acurracy\")\n",
    "sns.move_legend(ax, \"upper left\", bbox_to_anchor=(1, 1))"
   ]
  },
  {
   "cell_type": "code",
   "execution_count": 1,
   "metadata": {},
   "outputs": [
    {
     "ename": "NameError",
     "evalue": "name 'df_test' is not defined",
     "output_type": "error",
     "traceback": [
      "\u001b[1;31m---------------------------------------------------------------------------\u001b[0m",
      "\u001b[1;31mNameError\u001b[0m                                 Traceback (most recent call last)",
      "\u001b[1;32md:\\Learning activities\\DataTalksClub\\Machine_learning_zoomcamp\\Week_7_midterm\\Week_7_midterm.ipynb Cell 130\u001b[0m line \u001b[0;36m<cell line: 1>\u001b[1;34m()\u001b[0m\n\u001b[1;32m----> <a href='vscode-notebook-cell:/d%3A/Learning%20activities/DataTalksClub/Machine_learning_zoomcamp/Week_7_midterm/Week_7_midterm.ipynb#Y243sZmlsZQ%3D%3D?line=0'>1</a>\u001b[0m df_test\n",
      "\u001b[1;31mNameError\u001b[0m: name 'df_test' is not defined"
     ]
    }
   ],
   "source": []
  }
 ],
 "metadata": {
  "kernelspec": {
   "display_name": "base",
   "language": "python",
   "name": "python3"
  },
  "language_info": {
   "codemirror_mode": {
    "name": "ipython",
    "version": 3
   },
   "file_extension": ".py",
   "mimetype": "text/x-python",
   "name": "python",
   "nbconvert_exporter": "python",
   "pygments_lexer": "ipython3",
   "version": "3.9.12"
  }
 },
 "nbformat": 4,
 "nbformat_minor": 2
}
